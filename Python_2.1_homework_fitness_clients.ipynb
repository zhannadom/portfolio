{
 "cells": [
  {
   "cell_type": "markdown",
   "metadata": {
    "id": "jZT8o81KVCcP"
   },
   "source": [
    "# Домашнее задание 2.1"
   ]
  },
  {
   "cell_type": "markdown",
   "metadata": {
    "id": "BNde-WELVCcS"
   },
   "source": [
    "# 🏃‍♂️🤸‍♂️🏋️‍♀️ \n",
    "Сегодня ты аналитик популярной сети фитнес-клубов, которая предлагает три вида тренировок для взрослых и детей:\n",
    "- Обычное занятие в зале,\n",
    "- Сайклинг (кардиотренировка на велотренажёре),\n",
    "- Функциональная тренировка.\n",
    "\n",
    "Первая тренировка в наших клубах всегда бесплатная.\n",
    "\n",
    "Тебе доступна выгрузка данных:\n",
    "- О наших клиентах — `users_hw.xlsx`,\n",
    "\n",
    "- Об оплатах тренировок — `payments_hw.xlsx`,\n",
    "\n",
    "- О посещении тренировок — `workouts_hw.csv`. \n",
    "\n",
    "На дворе конец 2020 года — время стратегического планирования 🎯. К тебе пришел директор нашей сети и попросил ответить на вопросы, которые позволят более точно сформулировать планы на следующий год:\n",
    "\n",
    "1. Как изменялась ежемесячная выручка по каждому типу тренировок в течение 2020 года?\n",
    "2. Какие тренеры в сети провели больше всего платных занятий за все время?\n",
    "3. Сколько денег и за какие типы тренировок принесли клиенты, которые начали заниматься в ноябре?\n",
    "4. Какие регионы приносят нашей сети больше всего и меньше всего выручки? Результаты регионов будут обсуждаться на совете директоров, поэтому необходимо выгрузить этот отчет в файл формата Excel, чтобы включить его в раздаточный материал для совещания.\n",
    "\n",
    "Выполнив следующие четыре задания, ты сможешь последовательно ответить на все вопросы руководителя. Для начала убедись, что три новых файла с данными скачаны в папку с этим ноутбуком, импортируй нужные библиотеки и загрузи данные в датафреймы."
   ]
  },
  {
   "cell_type": "code",
   "execution_count": 1,
   "metadata": {
    "id": "9S4foo6cVCcS"
   },
   "outputs": [],
   "source": [
    "import pandas as pd\n",
    "from datetime import datetime\n",
    "\n",
    "users = pd.read_excel(\"users_hw.xlsx\") # загружаем данные по клиентам\n",
    "payments = pd.read_excel(\"payments_hw.xlsx\") # загружаем данные по платежам\n",
    "workouts = pd.read_csv(\"workouts_hw.csv\") # загружаем данные по тренировкам\n",
    "\n",
    "pd.set_option('display.float_format', lambda x: '%.2f' % x) # эта строка поможет удобно выводить большие числа в этом ноутбуке"
   ]
  },
  {
   "cell_type": "markdown",
   "metadata": {
    "id": "0go_Kadx1tPZ"
   },
   "source": [
    "## 🧑‍💻👩‍💻 Лайфхак – code style\n",
    "Для того, чтобы работать с кодом было удобно, разбивай решение на логические блоки и разноси по разным ячейкам. Так ты сможешь запускать ячейки по отдельности и смотреть, какой результат выдает каждый блок кода."
   ]
  },
  {
   "cell_type": "markdown",
   "metadata": {
    "id": "1g9wMlZvVCcT"
   },
   "source": [
    "## Задание 1\n",
    "\n",
    "Подготовь данные для ответа на вопрос: «__Как изменялась ежемесячная выручка по каждому типу тренировок в течение 2020 года?__». \n",
    "\n",
    "### Как это сделать?\n",
    "\n",
    "1. Изучи датафрейм `payments` и для начала переведи даты в формат `datetime`.\n",
    "\n",
    "2. С помощью фильтрации датафрейма выбери платежи только за 2020 год.\n",
    "\n",
    "3. Обрати внимание, что платежи хранятся в разных валютах — для удобства приведем все к рублям. Сначала добавь в датафрейм столбец `fx_rate` с курсом валюты и заполни его с помощью метода `apply()`: если это USD, то берем значение переменной `USD_RATE`, если RUR — ставим значение `1`. Предварительно нужно определить функцию, которая реализует эту несложную логику.\n",
    "\n",
    "4. Добавь еще один столбец `amount_rub` с суммой платежа в рублях. Для этого умножь столбец с суммой платежа на столбец `fx_rate` с курсом валют.\n",
    "\n",
    "5. Получи датафрейм с разбивкой выручки по месяцам и по типам тренировок с помощью группировки с суммой методом `groupby()`. \n",
    "\n",
    "6. Выведи результат на экран.\n",
    "\n",
    "🤔 *Предположи, основываясь на проделанном анализе.* Благодаря каким тренировкам компания может получать больше выручки? У этого задания нет правильного ответа, мы лишь предлагаем тебе поразмышлять."
   ]
  },
  {
   "cell_type": "code",
   "execution_count": null,
   "metadata": {
    "id": "jg5JLV8IVCcT"
   },
   "outputs": [],
   "source": [
    "payments.info()\n"
   ]
  },
  {
   "cell_type": "code",
   "execution_count": null,
   "metadata": {},
   "outputs": [],
   "source": [
    "payments.head()"
   ]
  },
  {
   "cell_type": "code",
   "execution_count": 2,
   "metadata": {},
   "outputs": [
    {
     "data": {
      "text/html": [
       "<div>\n",
       "<style scoped>\n",
       "    .dataframe tbody tr th:only-of-type {\n",
       "        vertical-align: middle;\n",
       "    }\n",
       "\n",
       "    .dataframe tbody tr th {\n",
       "        vertical-align: top;\n",
       "    }\n",
       "\n",
       "    .dataframe thead th {\n",
       "        text-align: right;\n",
       "    }\n",
       "</style>\n",
       "<table border=\"1\" class=\"dataframe\">\n",
       "  <thead>\n",
       "    <tr style=\"text-align: right;\">\n",
       "      <th></th>\n",
       "      <th>user_id</th>\n",
       "      <th>payment_id</th>\n",
       "      <th>workout_type</th>\n",
       "      <th>amount</th>\n",
       "      <th>payment_date</th>\n",
       "      <th>currency</th>\n",
       "    </tr>\n",
       "  </thead>\n",
       "  <tbody>\n",
       "    <tr>\n",
       "      <th>0</th>\n",
       "      <td>193433.00</td>\n",
       "      <td>3733.00</td>\n",
       "      <td>general</td>\n",
       "      <td>7522.49</td>\n",
       "      <td>2019-06-04</td>\n",
       "      <td>RUR</td>\n",
       "    </tr>\n",
       "    <tr>\n",
       "      <th>1</th>\n",
       "      <td>193433.00</td>\n",
       "      <td>12219.00</td>\n",
       "      <td>general</td>\n",
       "      <td>8346.04</td>\n",
       "      <td>2019-08-05</td>\n",
       "      <td>RUR</td>\n",
       "    </tr>\n",
       "    <tr>\n",
       "      <th>2</th>\n",
       "      <td>329226.00</td>\n",
       "      <td>13733.00</td>\n",
       "      <td>general</td>\n",
       "      <td>8707.38</td>\n",
       "      <td>2019-08-09</td>\n",
       "      <td>RUR</td>\n",
       "    </tr>\n",
       "    <tr>\n",
       "      <th>3</th>\n",
       "      <td>193433.00</td>\n",
       "      <td>14602.00</td>\n",
       "      <td>general</td>\n",
       "      <td>7432.49</td>\n",
       "      <td>2019-12-04</td>\n",
       "      <td>RUR</td>\n",
       "    </tr>\n",
       "    <tr>\n",
       "      <th>4</th>\n",
       "      <td>193433.00</td>\n",
       "      <td>14603.00</td>\n",
       "      <td>general</td>\n",
       "      <td>114.64</td>\n",
       "      <td>2019-08-04</td>\n",
       "      <td>RUR</td>\n",
       "    </tr>\n",
       "  </tbody>\n",
       "</table>\n",
       "</div>"
      ],
      "text/plain": [
       "    user_id  payment_id workout_type  amount payment_date currency\n",
       "0 193433.00     3733.00      general 7522.49   2019-06-04      RUR\n",
       "1 193433.00    12219.00      general 8346.04   2019-08-05      RUR\n",
       "2 329226.00    13733.00      general 8707.38   2019-08-09      RUR\n",
       "3 193433.00    14602.00      general 7432.49   2019-12-04      RUR\n",
       "4 193433.00    14603.00      general  114.64   2019-08-04      RUR"
      ]
     },
     "execution_count": 2,
     "metadata": {},
     "output_type": "execute_result"
    }
   ],
   "source": [
    "payments['payment_date']=pd.to_datetime(payments['payment_date']) #меняем тип данных в столбце payment_date на datetime\n",
    "payments.head()"
   ]
  },
  {
   "cell_type": "code",
   "execution_count": 4,
   "metadata": {},
   "outputs": [],
   "source": [
    "import datetime as dt\n",
    "payments=payments.loc[payments['payment_date'].dt.year==2020] #формируем датафрейм платежей 2020 года"
   ]
  },
  {
   "cell_type": "code",
   "execution_count": 5,
   "metadata": {},
   "outputs": [],
   "source": [
    "USD_RATE = 73.14 # курс доллара\n",
    "\n",
    "def map_currency(currency): # определи функцию для заполнения столбца fx_rate методом .apply()\n",
    "    for x in currency:\n",
    "        if x=='RUR':\n",
    "            fx_rate=1\n",
    "        else:\n",
    "            fx_rate=USD_RATE\n",
    "    return fx_rate\n",
    "        \n",
    " \n",
    "    \n",
    "# Hint: groupby() позволяет группировать сразу по нескольким полям. Если не помнишь, как именно, смело смотри шпаргалку."
   ]
  },
  {
   "cell_type": "code",
   "execution_count": 6,
   "metadata": {},
   "outputs": [],
   "source": [
    "payments['fx_rate']=payments['currency'].apply(map_currency)\n",
    "\n",
    "payments['amount_rub']=payments['amount']*payments['fx_rate']"
   ]
  },
  {
   "cell_type": "code",
   "execution_count": 7,
   "metadata": {},
   "outputs": [
    {
     "data": {
      "text/plain": [
       "payment_date  workout_type   \n",
       "1             cycling             4718222.59\n",
       "              functional test      585157.88\n",
       "              general           535439715.51\n",
       "2             cycling             6772524.04\n",
       "              functional test     1033587.01\n",
       "              general           471423195.43\n",
       "3             cycling             3539765.87\n",
       "              functional test      687724.34\n",
       "              general           566776987.49\n",
       "4             cycling             7419683.02\n",
       "              functional test     1596086.09\n",
       "              general           696037270.68\n",
       "5             cycling             8790673.68\n",
       "              general           720724985.28\n",
       "6             cycling             4648152.19\n",
       "              functional test     1084060.21\n",
       "              general           609268410.55\n",
       "7             cycling             7351258.42\n",
       "              functional test      577872.01\n",
       "              general           646318956.36\n",
       "8             cycling            10431088.40\n",
       "              functional test      577872.01\n",
       "              general           575487454.39\n",
       "9             cycling             9621091.60\n",
       "              general           606252285.93\n",
       "10            cycling             8654534.99\n",
       "              functional test     2160727.03\n",
       "              general           741238557.68\n",
       "11            cycling            10812427.41\n",
       "              functional test      661917.78\n",
       "              general           658612622.54\n",
       "12            cycling             6302094.68\n",
       "              general           211086766.21\n",
       "Name: amount_rub, dtype: float64"
      ]
     },
     "execution_count": 7,
     "metadata": {},
     "output_type": "execute_result"
    }
   ],
   "source": [
    "payments['amount_rub'].groupby([payments['payment_date'].dt.month, payments['workout_type']]).sum()"
   ]
  },
  {
   "cell_type": "markdown",
   "metadata": {},
   "source": [
    "## Вывод:\n",
    "По полученным данным видно, что выручка, которую приносят тренеровки типа \"general\" на порядок выше чеи тренеровки типа \"cycling\" и \"fuctional test\""
   ]
  },
  {
   "cell_type": "markdown",
   "metadata": {
    "id": "lb0FbA4DVCcT"
   },
   "source": [
    "## #Задание 2\n",
    "\n",
    "Определи, __какой тренер в сети провел больше всего платных занятий за все время__. С самыми эффективными сотрудниками мы организуем интервью, чтобы понять, что влияет на их результат.\n",
    "\n",
    "### Как это сделать? \n",
    "\n",
    "1. Изучи датафрейм `workouts`.\n",
    "\n",
    "2. Исключи из датафрейма тренеров из департамента `Sales`, так как они проводят только бесплатные тренировки, а нам интересны только платные занятия.\n",
    "\n",
    "3. Сделай группировку по `trainer_id` и выведи количество уникальных тренировок по `workout_id`. \n",
    "\n",
    "4. Найди максимальное количество тренировок и сохрани его в переменную `max_trainings`. Не забудь, что после группировки в прошлом пункте, индексом стал столбец `trainer_id`. Возможно, тебе понадобится метод, который возвращает индексы в колонки.\n",
    "\n",
    "5. Выведи на экран id тренера, у которого количество тренировок равно значению `max_trainings`. Ты уже знаешь метод, который позволяет обращаться к строке по индексу, если сомневаешься – смотри шпаргалку.\n",
    "\n"
   ]
  },
  {
   "cell_type": "code",
   "execution_count": 8,
   "metadata": {
    "id": "pbl-gN01VCcT"
   },
   "outputs": [
    {
     "ename": "SyntaxError",
     "evalue": "invalid syntax (Temp/ipykernel_21656/2178814086.py, line 3)",
     "output_type": "error",
     "traceback": [
      "\u001b[1;36m  File \u001b[1;32m\"C:\\Users\\zhann\\AppData\\Local\\Temp/ipykernel_21656/2178814086.py\"\u001b[1;36m, line \u001b[1;32m3\u001b[0m\n\u001b[1;33m    non_sales_trainers = # исключи из датафрейма тренеров из департамента Sales\u001b[0m\n\u001b[1;37m                         ^\u001b[0m\n\u001b[1;31mSyntaxError\u001b[0m\u001b[1;31m:\u001b[0m invalid syntax\n"
     ]
    }
   ],
   "source": [
    "# Не забудь писать комментарии к коду, чтобы наставникам было удобно отслеживать твою логику\n",
    "\n",
    "non_sales_trainers = # исключи из датафрейма тренеров из департамента Sales"
   ]
  },
  {
   "cell_type": "code",
   "execution_count": null,
   "metadata": {},
   "outputs": [],
   "source": [
    "workouts.head()"
   ]
  },
  {
   "cell_type": "code",
   "execution_count": null,
   "metadata": {},
   "outputs": [],
   "source": [
    "workouts.info()"
   ]
  },
  {
   "cell_type": "code",
   "execution_count": 9,
   "metadata": {},
   "outputs": [],
   "source": [
    "workouts=workouts.loc[workouts['trainer_department']!='Sales'] #убираем тренеров департамета Sales"
   ]
  },
  {
   "cell_type": "code",
   "execution_count": 34,
   "metadata": {},
   "outputs": [
    {
     "name": "stdout",
     "output_type": "stream",
     "text": [
      "<class 'pandas.core.frame.DataFrame'>\n",
      "RangeIndex: 3952 entries, 0 to 3951\n",
      "Data columns (total 2 columns):\n",
      " #   Column      Non-Null Count  Dtype\n",
      "---  ------      --------------  -----\n",
      " 0   trainer_id  3952 non-null   int64\n",
      " 1   workout_id  3952 non-null   int64\n",
      "dtypes: int64(2)\n",
      "memory usage: 61.9 KB\n"
     ]
    },
    {
     "data": {
      "text/plain": [
       "311"
      ]
     },
     "execution_count": 34,
     "metadata": {},
     "output_type": "execute_result"
    }
   ],
   "source": [
    "unique_workouts=workouts['workout_id'].groupby(workouts['trainer_id']).nunique() #определяем коичество уникальных тренеровок по тренерам\n",
    "unique_workouts=unique_workouts.reset_index() #преобразуем в датафрейм\n",
    "\n",
    "\n",
    "max_trainings=unique_workouts['workout_id'].max() #находим максимальное число уникальных тренеровок\n"
   ]
  },
  {
   "cell_type": "code",
   "execution_count": 37,
   "metadata": {},
   "outputs": [
    {
     "data": {
      "text/html": [
       "<div>\n",
       "<style scoped>\n",
       "    .dataframe tbody tr th:only-of-type {\n",
       "        vertical-align: middle;\n",
       "    }\n",
       "\n",
       "    .dataframe tbody tr th {\n",
       "        vertical-align: top;\n",
       "    }\n",
       "\n",
       "    .dataframe thead th {\n",
       "        text-align: right;\n",
       "    }\n",
       "</style>\n",
       "<table border=\"1\" class=\"dataframe\">\n",
       "  <thead>\n",
       "    <tr style=\"text-align: right;\">\n",
       "      <th></th>\n",
       "      <th>trainer_id</th>\n",
       "      <th>workout_id</th>\n",
       "    </tr>\n",
       "  </thead>\n",
       "  <tbody>\n",
       "    <tr>\n",
       "      <th>2634</th>\n",
       "      <td>7010157</td>\n",
       "      <td>311</td>\n",
       "    </tr>\n",
       "  </tbody>\n",
       "</table>\n",
       "</div>"
      ],
      "text/plain": [
       "      trainer_id  workout_id\n",
       "2634     7010157         311"
      ]
     },
     "execution_count": 37,
     "metadata": {},
     "output_type": "execute_result"
    }
   ],
   "source": [
    "trainer_max_workouts=unique_workouts.loc[unique_workouts['workout_id']==max_trainings] #выводим строчку с макс количеством тренировок\n",
    "trainer_max_workouts"
   ]
  },
  {
   "cell_type": "markdown",
   "metadata": {
    "id": "6hSxljhhVCcU"
   },
   "source": [
    "## Задание 3\n",
    "\n",
    "Посчитай, __сколько денег и за какие типы тренировок принесли клиенты, которые начали заниматься в ноябре__.  \n",
    "\n",
    "### Как это сделать?\n",
    "\n",
    "1. Изучи датафрейм `users` и переведи даты в формат `datetime`.\n",
    "2. Отбери только тех клиентов, кто начал заниматься с 1 по 30 ноября 2020 года, код уже готов, обрати внимание, как можно передать сразу 2 условия в `loc[]`\n",
    "3. Объедини получившийся набор данных с платежами из датафрейма `payments` по `user_id`.\n",
    "\n",
    "4. Сгруппируй результат по `workout_type` и найди сумму по `amount_rub`."
   ]
  },
  {
   "cell_type": "code",
   "execution_count": 38,
   "metadata": {
    "id": "lLDXvt6qVCcU"
   },
   "outputs": [
    {
     "data": {
      "text/html": [
       "<div>\n",
       "<style scoped>\n",
       "    .dataframe tbody tr th:only-of-type {\n",
       "        vertical-align: middle;\n",
       "    }\n",
       "\n",
       "    .dataframe tbody tr th {\n",
       "        vertical-align: top;\n",
       "    }\n",
       "\n",
       "    .dataframe thead th {\n",
       "        text-align: right;\n",
       "    }\n",
       "</style>\n",
       "<table border=\"1\" class=\"dataframe\">\n",
       "  <thead>\n",
       "    <tr style=\"text-align: right;\">\n",
       "      <th></th>\n",
       "      <th>first_contact_datetime</th>\n",
       "      <th>age</th>\n",
       "      <th>free_workout_datetime</th>\n",
       "      <th>first_payment_datetime</th>\n",
       "      <th>workouts_successful</th>\n",
       "      <th>workouts_total</th>\n",
       "      <th>months_active</th>\n",
       "      <th>user_id</th>\n",
       "      <th>region</th>\n",
       "      <th>geo_group</th>\n",
       "    </tr>\n",
       "  </thead>\n",
       "  <tbody>\n",
       "    <tr>\n",
       "      <th>0</th>\n",
       "      <td>2020-08-08 13:57:25</td>\n",
       "      <td>NaN</td>\n",
       "      <td>2020-08-08 19:00:00</td>\n",
       "      <td>2020-08-08 21:18:34</td>\n",
       "      <td>10</td>\n",
       "      <td>13</td>\n",
       "      <td>2</td>\n",
       "      <td>2790000</td>\n",
       "      <td>NaN</td>\n",
       "      <td>СНГ</td>\n",
       "    </tr>\n",
       "    <tr>\n",
       "      <th>1</th>\n",
       "      <td>2020-05-02 00:30:02</td>\n",
       "      <td>NaN</td>\n",
       "      <td>2020-05-05 18:20:00</td>\n",
       "      <td>2020-05-05 18:40:29</td>\n",
       "      <td>26</td>\n",
       "      <td>38</td>\n",
       "      <td>7</td>\n",
       "      <td>780106</td>\n",
       "      <td>NaN</td>\n",
       "      <td>СНГ</td>\n",
       "    </tr>\n",
       "    <tr>\n",
       "      <th>2</th>\n",
       "      <td>2019-06-27 13:10:33</td>\n",
       "      <td>30.00</td>\n",
       "      <td>NaN</td>\n",
       "      <td>2020-03-18 16:06:43</td>\n",
       "      <td>27</td>\n",
       "      <td>33</td>\n",
       "      <td>6</td>\n",
       "      <td>1133376</td>\n",
       "      <td>NaN</td>\n",
       "      <td>СНГ</td>\n",
       "    </tr>\n",
       "    <tr>\n",
       "      <th>3</th>\n",
       "      <td>2020-04-22 15:37:58</td>\n",
       "      <td>22.00</td>\n",
       "      <td>2020-04-27 09:00:00</td>\n",
       "      <td>2020-04-27 09:41:37</td>\n",
       "      <td>59</td>\n",
       "      <td>59</td>\n",
       "      <td>8</td>\n",
       "      <td>1996499</td>\n",
       "      <td>NaN</td>\n",
       "      <td>СНГ</td>\n",
       "    </tr>\n",
       "    <tr>\n",
       "      <th>4</th>\n",
       "      <td>2016-06-23 16:21:40</td>\n",
       "      <td>24.00</td>\n",
       "      <td>2020-04-13 19:00:00</td>\n",
       "      <td>2020-04-13 19:16:51</td>\n",
       "      <td>8</td>\n",
       "      <td>12</td>\n",
       "      <td>2</td>\n",
       "      <td>57899</td>\n",
       "      <td>Москва и Московская область</td>\n",
       "      <td>Москва</td>\n",
       "    </tr>\n",
       "  </tbody>\n",
       "</table>\n",
       "</div>"
      ],
      "text/plain": [
       "  first_contact_datetime   age free_workout_datetime first_payment_datetime  \\\n",
       "0    2020-08-08 13:57:25   NaN   2020-08-08 19:00:00    2020-08-08 21:18:34   \n",
       "1    2020-05-02 00:30:02   NaN   2020-05-05 18:20:00    2020-05-05 18:40:29   \n",
       "2    2019-06-27 13:10:33 30.00                   NaN    2020-03-18 16:06:43   \n",
       "3    2020-04-22 15:37:58 22.00   2020-04-27 09:00:00    2020-04-27 09:41:37   \n",
       "4    2016-06-23 16:21:40 24.00   2020-04-13 19:00:00    2020-04-13 19:16:51   \n",
       "\n",
       "   workouts_successful  workouts_total  months_active  user_id  \\\n",
       "0                   10              13              2  2790000   \n",
       "1                   26              38              7   780106   \n",
       "2                   27              33              6  1133376   \n",
       "3                   59              59              8  1996499   \n",
       "4                    8              12              2    57899   \n",
       "\n",
       "                        region geo_group  \n",
       "0                          NaN       СНГ  \n",
       "1                          NaN       СНГ  \n",
       "2                          NaN       СНГ  \n",
       "3                          NaN       СНГ  \n",
       "4  Москва и Московская область    Москва  "
      ]
     },
     "execution_count": 38,
     "metadata": {},
     "output_type": "execute_result"
    }
   ],
   "source": [
    "users.head()"
   ]
  },
  {
   "cell_type": "code",
   "execution_count": 46,
   "metadata": {},
   "outputs": [
    {
     "name": "stdout",
     "output_type": "stream",
     "text": [
      "<class 'pandas.core.frame.DataFrame'>\n",
      "RangeIndex: 4273 entries, 0 to 4272\n",
      "Data columns (total 10 columns):\n",
      " #   Column                  Non-Null Count  Dtype         \n",
      "---  ------                  --------------  -----         \n",
      " 0   first_contact_datetime  4273 non-null   datetime64[ns]\n",
      " 1   age                     2281 non-null   float64       \n",
      " 2   free_workout_datetime   2886 non-null   datetime64[ns]\n",
      " 3   first_payment_datetime  4273 non-null   datetime64[ns]\n",
      " 4   workouts_successful     4273 non-null   int64         \n",
      " 5   workouts_total          4273 non-null   int64         \n",
      " 6   months_active           4273 non-null   int64         \n",
      " 7   user_id                 4273 non-null   int64         \n",
      " 8   region                  3672 non-null   object        \n",
      " 9   geo_group               4273 non-null   object        \n",
      "dtypes: datetime64[ns](3), float64(1), int64(4), object(2)\n",
      "memory usage: 334.0+ KB\n"
     ]
    }
   ],
   "source": [
    "users.info()"
   ]
  },
  {
   "cell_type": "code",
   "execution_count": 47,
   "metadata": {},
   "outputs": [],
   "source": [
    "users['free_workout_datetime'] = pd.to_datetime(users['free_workout_datetime'])  # переведи даты в формат datetime\n",
    "users['first_contact_datetime'] = pd.to_datetime(users['first_contact_datetime'])\n",
    "\n",
    "november_users = users.loc[(users['free_workout_datetime']>=datetime(2020,11,1))   # отобрали клиентов, кто начал заниматься с 1 ноября\n",
    "                         &(users['free_workout_datetime']<datetime(2020,12,1))]  # по 30 ноября 2020 года\n",
    "\n",
    "# Не забудь писать комментарии к коду, чтобы наставникам было удобно отслеживать твою логику\n"
   ]
  },
  {
   "cell_type": "code",
   "execution_count": 56,
   "metadata": {},
   "outputs": [
    {
     "data": {
      "text/html": [
       "<div>\n",
       "<style scoped>\n",
       "    .dataframe tbody tr th:only-of-type {\n",
       "        vertical-align: middle;\n",
       "    }\n",
       "\n",
       "    .dataframe tbody tr th {\n",
       "        vertical-align: top;\n",
       "    }\n",
       "\n",
       "    .dataframe thead th {\n",
       "        text-align: right;\n",
       "    }\n",
       "</style>\n",
       "<table border=\"1\" class=\"dataframe\">\n",
       "  <thead>\n",
       "    <tr style=\"text-align: right;\">\n",
       "      <th></th>\n",
       "      <th>user_id</th>\n",
       "      <th>payment_id</th>\n",
       "      <th>workout_type</th>\n",
       "      <th>amount</th>\n",
       "      <th>payment_date</th>\n",
       "      <th>currency</th>\n",
       "      <th>fx_rate</th>\n",
       "      <th>amount_rub</th>\n",
       "      <th>first_contact_datetime</th>\n",
       "      <th>age</th>\n",
       "      <th>free_workout_datetime</th>\n",
       "      <th>first_payment_datetime</th>\n",
       "      <th>workouts_successful</th>\n",
       "      <th>workouts_total</th>\n",
       "      <th>months_active</th>\n",
       "      <th>region</th>\n",
       "      <th>geo_group</th>\n",
       "    </tr>\n",
       "  </thead>\n",
       "  <tbody>\n",
       "    <tr>\n",
       "      <th>0</th>\n",
       "      <td>2112241.00</td>\n",
       "      <td>2713765.00</td>\n",
       "      <td>general</td>\n",
       "      <td>8951.47</td>\n",
       "      <td>2020-12-01</td>\n",
       "      <td>RUR</td>\n",
       "      <td>73.14</td>\n",
       "      <td>654710.84</td>\n",
       "      <td>2019-07-24 21:02:12</td>\n",
       "      <td>NaN</td>\n",
       "      <td>2020-11-01 11:00:00</td>\n",
       "      <td>2020-11-01 11:40:00</td>\n",
       "      <td>6</td>\n",
       "      <td>7</td>\n",
       "      <td>2</td>\n",
       "      <td>Республика Татарстан</td>\n",
       "      <td>Регионы РФ</td>\n",
       "    </tr>\n",
       "    <tr>\n",
       "      <th>1</th>\n",
       "      <td>98522.00</td>\n",
       "      <td>2738248.00</td>\n",
       "      <td>general</td>\n",
       "      <td>8258.33</td>\n",
       "      <td>2020-03-10</td>\n",
       "      <td>RUR</td>\n",
       "      <td>73.14</td>\n",
       "      <td>604014.06</td>\n",
       "      <td>2020-10-30 19:49:43</td>\n",
       "      <td>21.00</td>\n",
       "      <td>2020-11-01 10:45:00</td>\n",
       "      <td>2020-11-01 11:47:02</td>\n",
       "      <td>1</td>\n",
       "      <td>6</td>\n",
       "      <td>1</td>\n",
       "      <td>Москва и Московская область</td>\n",
       "      <td>Москва</td>\n",
       "    </tr>\n",
       "    <tr>\n",
       "      <th>2</th>\n",
       "      <td>1896850.00</td>\n",
       "      <td>2738767.00</td>\n",
       "      <td>general</td>\n",
       "      <td>10995.57</td>\n",
       "      <td>2020-01-20</td>\n",
       "      <td>RUR</td>\n",
       "      <td>73.14</td>\n",
       "      <td>804216.33</td>\n",
       "      <td>2018-06-17 13:27:03</td>\n",
       "      <td>25.00</td>\n",
       "      <td>2020-11-01 10:20:00</td>\n",
       "      <td>2020-11-01 13:09:28</td>\n",
       "      <td>14</td>\n",
       "      <td>14</td>\n",
       "      <td>2</td>\n",
       "      <td>Самарская область</td>\n",
       "      <td>Регионы РФ</td>\n",
       "    </tr>\n",
       "    <tr>\n",
       "      <th>3</th>\n",
       "      <td>2276353.00</td>\n",
       "      <td>2739322.00</td>\n",
       "      <td>general</td>\n",
       "      <td>10009.90</td>\n",
       "      <td>2020-09-15</td>\n",
       "      <td>RUR</td>\n",
       "      <td>73.14</td>\n",
       "      <td>732124.29</td>\n",
       "      <td>2018-08-21 10:54:31</td>\n",
       "      <td>NaN</td>\n",
       "      <td>2020-11-01 15:15:00</td>\n",
       "      <td>2020-11-01 15:36:54</td>\n",
       "      <td>11</td>\n",
       "      <td>11</td>\n",
       "      <td>2</td>\n",
       "      <td>Москва и Московская область</td>\n",
       "      <td>Москва</td>\n",
       "    </tr>\n",
       "    <tr>\n",
       "      <th>4</th>\n",
       "      <td>520341.00</td>\n",
       "      <td>2739901.00</td>\n",
       "      <td>general</td>\n",
       "      <td>8484.00</td>\n",
       "      <td>2020-08-11</td>\n",
       "      <td>USD</td>\n",
       "      <td>73.14</td>\n",
       "      <td>620519.71</td>\n",
       "      <td>2017-08-26 12:06:33</td>\n",
       "      <td>27.00</td>\n",
       "      <td>2020-11-02 19:40:00</td>\n",
       "      <td>2020-11-02 20:20:00</td>\n",
       "      <td>7</td>\n",
       "      <td>7</td>\n",
       "      <td>2</td>\n",
       "      <td>Москва и Московская область</td>\n",
       "      <td>Москва</td>\n",
       "    </tr>\n",
       "    <tr>\n",
       "      <th>...</th>\n",
       "      <td>...</td>\n",
       "      <td>...</td>\n",
       "      <td>...</td>\n",
       "      <td>...</td>\n",
       "      <td>...</td>\n",
       "      <td>...</td>\n",
       "      <td>...</td>\n",
       "      <td>...</td>\n",
       "      <td>...</td>\n",
       "      <td>...</td>\n",
       "      <td>...</td>\n",
       "      <td>...</td>\n",
       "      <td>...</td>\n",
       "      <td>...</td>\n",
       "      <td>...</td>\n",
       "      <td>...</td>\n",
       "      <td>...</td>\n",
       "    </tr>\n",
       "    <tr>\n",
       "      <th>253</th>\n",
       "      <td>3009641.00</td>\n",
       "      <td>2888938.00</td>\n",
       "      <td>general</td>\n",
       "      <td>9909.90</td>\n",
       "      <td>2020-05-06</td>\n",
       "      <td>RUR</td>\n",
       "      <td>73.14</td>\n",
       "      <td>724810.29</td>\n",
       "      <td>2018-11-13 22:01:50</td>\n",
       "      <td>NaN</td>\n",
       "      <td>2020-11-04 09:45:00</td>\n",
       "      <td>2020-11-04 10:25:00</td>\n",
       "      <td>8</td>\n",
       "      <td>9</td>\n",
       "      <td>2</td>\n",
       "      <td>Москва и Московская область</td>\n",
       "      <td>Москва</td>\n",
       "    </tr>\n",
       "    <tr>\n",
       "      <th>254</th>\n",
       "      <td>3061943.00</td>\n",
       "      <td>2891699.00</td>\n",
       "      <td>general</td>\n",
       "      <td>8951.47</td>\n",
       "      <td>2020-08-14</td>\n",
       "      <td>USD</td>\n",
       "      <td>73.14</td>\n",
       "      <td>654710.84</td>\n",
       "      <td>2018-11-19 20:15:08</td>\n",
       "      <td>27.00</td>\n",
       "      <td>2020-11-30 18:45:00</td>\n",
       "      <td>2020-12-02 16:51:15</td>\n",
       "      <td>2</td>\n",
       "      <td>2</td>\n",
       "      <td>1</td>\n",
       "      <td>NaN</td>\n",
       "      <td>СНГ</td>\n",
       "    </tr>\n",
       "    <tr>\n",
       "      <th>255</th>\n",
       "      <td>3837252.00</td>\n",
       "      <td>2895559.00</td>\n",
       "      <td>general</td>\n",
       "      <td>9216.76</td>\n",
       "      <td>2020-07-20</td>\n",
       "      <td>RUR</td>\n",
       "      <td>73.14</td>\n",
       "      <td>674113.51</td>\n",
       "      <td>2019-02-24 00:34:32</td>\n",
       "      <td>NaN</td>\n",
       "      <td>2020-11-28 15:15:00</td>\n",
       "      <td>2020-12-03 13:59:48</td>\n",
       "      <td>2</td>\n",
       "      <td>2</td>\n",
       "      <td>1</td>\n",
       "      <td>Чувашская Республика</td>\n",
       "      <td>Регионы РФ</td>\n",
       "    </tr>\n",
       "    <tr>\n",
       "      <th>256</th>\n",
       "      <td>2932293.00</td>\n",
       "      <td>2899260.00</td>\n",
       "      <td>general</td>\n",
       "      <td>8748.69</td>\n",
       "      <td>2020-09-22</td>\n",
       "      <td>RUR</td>\n",
       "      <td>73.14</td>\n",
       "      <td>639879.32</td>\n",
       "      <td>2018-11-02 10:32:46</td>\n",
       "      <td>NaN</td>\n",
       "      <td>2020-11-11 10:15:00</td>\n",
       "      <td>2020-12-04 10:17:12</td>\n",
       "      <td>2</td>\n",
       "      <td>2</td>\n",
       "      <td>1</td>\n",
       "      <td>Москва и Московская область</td>\n",
       "      <td>Москва</td>\n",
       "    </tr>\n",
       "    <tr>\n",
       "      <th>257</th>\n",
       "      <td>790633.00</td>\n",
       "      <td>2911062.00</td>\n",
       "      <td>general</td>\n",
       "      <td>8358.33</td>\n",
       "      <td>2020-08-18</td>\n",
       "      <td>RUR</td>\n",
       "      <td>73.14</td>\n",
       "      <td>611328.06</td>\n",
       "      <td>2019-12-25 16:41:11</td>\n",
       "      <td>NaN</td>\n",
       "      <td>2020-11-30 19:45:00</td>\n",
       "      <td>2020-12-06 20:46:35</td>\n",
       "      <td>2</td>\n",
       "      <td>2</td>\n",
       "      <td>1</td>\n",
       "      <td>Москва и Московская область</td>\n",
       "      <td>Москва</td>\n",
       "    </tr>\n",
       "  </tbody>\n",
       "</table>\n",
       "<p>258 rows × 17 columns</p>\n",
       "</div>"
      ],
      "text/plain": [
       "       user_id  payment_id workout_type   amount payment_date currency  \\\n",
       "0   2112241.00  2713765.00      general  8951.47   2020-12-01      RUR   \n",
       "1     98522.00  2738248.00      general  8258.33   2020-03-10      RUR   \n",
       "2   1896850.00  2738767.00      general 10995.57   2020-01-20      RUR   \n",
       "3   2276353.00  2739322.00      general 10009.90   2020-09-15      RUR   \n",
       "4    520341.00  2739901.00      general  8484.00   2020-08-11      USD   \n",
       "..         ...         ...          ...      ...          ...      ...   \n",
       "253 3009641.00  2888938.00      general  9909.90   2020-05-06      RUR   \n",
       "254 3061943.00  2891699.00      general  8951.47   2020-08-14      USD   \n",
       "255 3837252.00  2895559.00      general  9216.76   2020-07-20      RUR   \n",
       "256 2932293.00  2899260.00      general  8748.69   2020-09-22      RUR   \n",
       "257  790633.00  2911062.00      general  8358.33   2020-08-18      RUR   \n",
       "\n",
       "     fx_rate  amount_rub first_contact_datetime   age free_workout_datetime  \\\n",
       "0      73.14   654710.84    2019-07-24 21:02:12   NaN   2020-11-01 11:00:00   \n",
       "1      73.14   604014.06    2020-10-30 19:49:43 21.00   2020-11-01 10:45:00   \n",
       "2      73.14   804216.33    2018-06-17 13:27:03 25.00   2020-11-01 10:20:00   \n",
       "3      73.14   732124.29    2018-08-21 10:54:31   NaN   2020-11-01 15:15:00   \n",
       "4      73.14   620519.71    2017-08-26 12:06:33 27.00   2020-11-02 19:40:00   \n",
       "..       ...         ...                    ...   ...                   ...   \n",
       "253    73.14   724810.29    2018-11-13 22:01:50   NaN   2020-11-04 09:45:00   \n",
       "254    73.14   654710.84    2018-11-19 20:15:08 27.00   2020-11-30 18:45:00   \n",
       "255    73.14   674113.51    2019-02-24 00:34:32   NaN   2020-11-28 15:15:00   \n",
       "256    73.14   639879.32    2018-11-02 10:32:46   NaN   2020-11-11 10:15:00   \n",
       "257    73.14   611328.06    2019-12-25 16:41:11   NaN   2020-11-30 19:45:00   \n",
       "\n",
       "    first_payment_datetime  workouts_successful  workouts_total  \\\n",
       "0      2020-11-01 11:40:00                    6               7   \n",
       "1      2020-11-01 11:47:02                    1               6   \n",
       "2      2020-11-01 13:09:28                   14              14   \n",
       "3      2020-11-01 15:36:54                   11              11   \n",
       "4      2020-11-02 20:20:00                    7               7   \n",
       "..                     ...                  ...             ...   \n",
       "253    2020-11-04 10:25:00                    8               9   \n",
       "254    2020-12-02 16:51:15                    2               2   \n",
       "255    2020-12-03 13:59:48                    2               2   \n",
       "256    2020-12-04 10:17:12                    2               2   \n",
       "257    2020-12-06 20:46:35                    2               2   \n",
       "\n",
       "     months_active                       region   geo_group  \n",
       "0                2         Республика Татарстан  Регионы РФ  \n",
       "1                1  Москва и Московская область      Москва  \n",
       "2                2            Самарская область  Регионы РФ  \n",
       "3                2  Москва и Московская область      Москва  \n",
       "4                2  Москва и Московская область      Москва  \n",
       "..             ...                          ...         ...  \n",
       "253              2  Москва и Московская область      Москва  \n",
       "254              1                          NaN         СНГ  \n",
       "255              1         Чувашская Республика  Регионы РФ  \n",
       "256              1  Москва и Московская область      Москва  \n",
       "257              1  Москва и Московская область      Москва  \n",
       "\n",
       "[258 rows x 17 columns]"
      ]
     },
     "execution_count": 56,
     "metadata": {},
     "output_type": "execute_result"
    }
   ],
   "source": [
    "november_users_payments=pd.merge(payments, november_users) #объединили данные из workouts и payments для ноябрьских клиентов\n",
    "\n",
    "november_users_payments\n"
   ]
  },
  {
   "cell_type": "code",
   "execution_count": 57,
   "metadata": {},
   "outputs": [
    {
     "data": {
      "text/plain": [
       "workout_type\n",
       "cycling     5681243.38\n",
       "general   171854942.18\n",
       "Name: amount_rub, dtype: float64"
      ]
     },
     "execution_count": 57,
     "metadata": {},
     "output_type": "execute_result"
    }
   ],
   "source": [
    "november_users_payments['amount_rub'].groupby(november_users_payments['workout_type']).sum()"
   ]
  },
  {
   "cell_type": "markdown",
   "metadata": {
    "id": "IG0OdGB5VCcU"
   },
   "source": [
    "## Задание 4\n",
    "\n",
    "Выясни, **какие регионы приносят нашей сети больше всего и меньше всего выручки**. \n",
    "\n",
    "### Как это сделать\n",
    "\n",
    "1. Создай новый датафрейм `user_regions` из колонок `user_id` и `region` датафрейма `users`.\n",
    "\n",
    "2. Создай новый датафрейм `user_payments` из колонок `user_id` и `amount_rub` датафрейма `payments`.\n",
    "3. C помощью `.merge()` объедини датафреймы `user_regions` и `user_payments`\n",
    "4. Обрати внимание, что у некоторых клиентов не заполнен регион. `dropna()` — хороший метод для очистки датасета от строк, в которых не хватает каких-то значений.\n",
    "5. Сгруппируй данные о выручке по региону, а затем отсортируй их.\n",
    "6. Выведи на экран топ-5 регионов с самой маленькой выручкой. \n",
    "7. Выведи на экран топ-5 регионов с самой большой выручкой. \n",
    "8. Сохрани отсортированный по убыванию список регионов с выручкой в файл `task_4.xlsx` с помощью метода `to_excel()`.\n",
    "\n",
    "🤔 *Предположи, основываясь на проделанном анализе.* Как сейчас распределяется выручка между регионами? У этого задания нет правильного ответа, мы лишь предлагаем тебе поразмышлять.\n",
    "\n"
   ]
  },
  {
   "cell_type": "code",
   "execution_count": 73,
   "metadata": {
    "id": "dYSRSMnDVCcV"
   },
   "outputs": [
    {
     "name": "stdout",
     "output_type": "stream",
     "text": [
      "Топ-5 регионов с самой маленькой выручкой: region\n",
      "Амурская область       1344216.60\n",
      "Курганская область     1338248.47\n",
      "Камчатский край         710330.22\n",
      "Кировская область       674113.51\n",
      "Новгородская область     46383.78\n",
      "Name: amount_rub, dtype: float64\n",
      "Топ-5 регионов с самой большой выручкой: region\n",
      "Москва и Московская область               1959606847.29\n",
      "Санкт-Петербург и Ленинградская область    359281585.18\n",
      "Новосибирская область                       76074659.53\n",
      "Краснодарский край                          60936830.57\n",
      "Свердловская область                        51440273.43\n",
      "Name: amount_rub, dtype: float64\n"
     ]
    }
   ],
   "source": [
    "# Не забудь писать комментарии к коду, чтобы наставникам было удобно отслеживать твою логику\n",
    "user_regions=users[['user_id', 'region']]  #регион, пользователь\n",
    "user_payments=payments[['user_id', 'amount_rub']]  #пользователь, оплата\n",
    "region_payments=pd.merge(user_regions, user_payments) #объединили 2 таблицы\n",
    "region_payments=region_payments.dropna()  #убрали строчки с незаполнеными значениями\n",
    "sum_region_payments=region_payments['amount_rub'].groupby(region_payments['region']).sum().sort_values(ascending=False) #просуммировли выручку по регионам и отсортировали в порядке возрастания\n",
    " \n",
    "print(f'Топ-5 регионов с самой маленькой выручкой: {sum_region_payments.tail()}')\n",
    "print(f'Топ-5 регионов с самой большой выручкой: {sum_region_payments.head()}')\n"
   ]
  },
  {
   "cell_type": "code",
   "execution_count": 74,
   "metadata": {},
   "outputs": [],
   "source": [
    "sum_region_payments.to_excel('task_4.xlsx')"
   ]
  },
  {
   "cell_type": "markdown",
   "metadata": {
    "id": "X1HEvfWIVCcV"
   },
   "source": [
    "# 🎉🎉🎉 Поздравляем, ты великолепен! "
   ]
  }
 ],
 "metadata": {
  "colab": {
   "name": "Python_2.1_homework.ipynb",
   "provenance": []
  },
  "kernelspec": {
   "display_name": "Python 3 (ipykernel)",
   "language": "python",
   "name": "python3"
  },
  "language_info": {
   "codemirror_mode": {
    "name": "ipython",
    "version": 3
   },
   "file_extension": ".py",
   "mimetype": "text/x-python",
   "name": "python",
   "nbconvert_exporter": "python",
   "pygments_lexer": "ipython3",
   "version": "3.9.7"
  }
 },
 "nbformat": 4,
 "nbformat_minor": 1
}
