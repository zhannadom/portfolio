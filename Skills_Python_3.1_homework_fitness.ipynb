{
 "cells": [
  {
   "cell_type": "markdown",
   "metadata": {
    "id": "6ucFsBz_2a4G"
   },
   "source": [
    "# Домашнее задание 3.1\n"
   ]
  },
  {
   "cell_type": "markdown",
   "metadata": {
    "id": "hHMIThkJ2a4K"
   },
   "source": [
    "# 🏃‍♂️🤸‍♂️🏋️‍♀️ \n",
    "Ты все еще в команде популярной сети фитнес-клубов. Мы ищем точки роста на следующий год и хотим исследовать две темы: \n",
    "\n",
    "1. **Тренировки**: как они распределяются во времени и по тренерам, как обстоят дела в разных клубах.\n",
    "2. **Клиентов**: как их можно сегментировать, какие у них привычки.\n",
    "\n",
    "В следующих 6 заданиях ты построишь графики — они помогут сформулировать новые гипотезы для роста нашей сети фитнес-клубов в следующем году.\n",
    "\n",
    "В заданиях ставляй свои комментарии о том, какие закономерности видишь на графиках. \n",
    "\n",
    "Для начала подключись ко всем нужным библиотекам и данным. Проверь, что данные лежат в той же папке, что этот ноутбук."
   ]
  },
  {
   "cell_type": "code",
   "execution_count": 1,
   "metadata": {
    "id": "zGzbjE0B2a4L"
   },
   "outputs": [],
   "source": [
    "import pandas as pd\n",
    "from matplotlib import pyplot as plt\n",
    "import seaborn as sns"
   ]
  },
  {
   "cell_type": "code",
   "execution_count": 2,
   "metadata": {
    "id": "81m6roIF2a4M"
   },
   "outputs": [
    {
     "data": {
      "text/html": [
       "<div>\n",
       "<style scoped>\n",
       "    .dataframe tbody tr th:only-of-type {\n",
       "        vertical-align: middle;\n",
       "    }\n",
       "\n",
       "    .dataframe tbody tr th {\n",
       "        vertical-align: top;\n",
       "    }\n",
       "\n",
       "    .dataframe thead th {\n",
       "        text-align: right;\n",
       "    }\n",
       "</style>\n",
       "<table border=\"1\" class=\"dataframe\">\n",
       "  <thead>\n",
       "    <tr style=\"text-align: right;\">\n",
       "      <th></th>\n",
       "      <th>workout_id</th>\n",
       "      <th>cost</th>\n",
       "      <th>start_at</th>\n",
       "      <th>status</th>\n",
       "      <th>workout_schedule_type</th>\n",
       "      <th>client_id</th>\n",
       "      <th>client_status</th>\n",
       "      <th>workout_type</th>\n",
       "      <th>trainer_department</th>\n",
       "      <th>trainer_id</th>\n",
       "      <th>first_contact_datetime</th>\n",
       "      <th>age</th>\n",
       "      <th>free_workout_datetime</th>\n",
       "      <th>first_payment_datetime</th>\n",
       "      <th>workouts_successful</th>\n",
       "      <th>workouts_total</th>\n",
       "      <th>months_active</th>\n",
       "      <th>user_id</th>\n",
       "      <th>region</th>\n",
       "      <th>geo_group</th>\n",
       "    </tr>\n",
       "  </thead>\n",
       "  <tbody>\n",
       "    <tr>\n",
       "      <th>104683</th>\n",
       "      <td>29969523</td>\n",
       "      <td>750.0</td>\n",
       "      <td>2020-10-24 11:00:00</td>\n",
       "      <td>success</td>\n",
       "      <td>regular</td>\n",
       "      <td>4831015</td>\n",
       "      <td>active</td>\n",
       "      <td>general</td>\n",
       "      <td>Spartacus</td>\n",
       "      <td>6684752</td>\n",
       "      <td>2020-08-17 21:47:07</td>\n",
       "      <td>34.0</td>\n",
       "      <td>2020-08-18 09:00:00</td>\n",
       "      <td>2020-08-18 09:36:11</td>\n",
       "      <td>29</td>\n",
       "      <td>33</td>\n",
       "      <td>5</td>\n",
       "      <td>4831015</td>\n",
       "      <td>Республика Башкортостан</td>\n",
       "      <td>Регионы РФ</td>\n",
       "    </tr>\n",
       "    <tr>\n",
       "      <th>104684</th>\n",
       "      <td>30161734</td>\n",
       "      <td>750.0</td>\n",
       "      <td>2020-10-30 09:00:00</td>\n",
       "      <td>success</td>\n",
       "      <td>single</td>\n",
       "      <td>4831015</td>\n",
       "      <td>active</td>\n",
       "      <td>general</td>\n",
       "      <td>Spartacus</td>\n",
       "      <td>6684752</td>\n",
       "      <td>2020-08-17 21:47:07</td>\n",
       "      <td>34.0</td>\n",
       "      <td>2020-08-18 09:00:00</td>\n",
       "      <td>2020-08-18 09:36:11</td>\n",
       "      <td>29</td>\n",
       "      <td>33</td>\n",
       "      <td>5</td>\n",
       "      <td>4831015</td>\n",
       "      <td>Республика Башкортостан</td>\n",
       "      <td>Регионы РФ</td>\n",
       "    </tr>\n",
       "    <tr>\n",
       "      <th>104685</th>\n",
       "      <td>30412238</td>\n",
       "      <td>750.0</td>\n",
       "      <td>2020-11-04 09:00:00</td>\n",
       "      <td>success</td>\n",
       "      <td>regular</td>\n",
       "      <td>4831015</td>\n",
       "      <td>active</td>\n",
       "      <td>general</td>\n",
       "      <td>Spartacus</td>\n",
       "      <td>6684752</td>\n",
       "      <td>2020-08-17 21:47:07</td>\n",
       "      <td>34.0</td>\n",
       "      <td>2020-08-18 09:00:00</td>\n",
       "      <td>2020-08-18 09:36:11</td>\n",
       "      <td>29</td>\n",
       "      <td>33</td>\n",
       "      <td>5</td>\n",
       "      <td>4831015</td>\n",
       "      <td>Республика Башкортостан</td>\n",
       "      <td>Регионы РФ</td>\n",
       "    </tr>\n",
       "    <tr>\n",
       "      <th>104686</th>\n",
       "      <td>30546557</td>\n",
       "      <td>750.0</td>\n",
       "      <td>2020-11-07 11:00:00</td>\n",
       "      <td>success</td>\n",
       "      <td>regular</td>\n",
       "      <td>4831015</td>\n",
       "      <td>active</td>\n",
       "      <td>general</td>\n",
       "      <td>Spartacus</td>\n",
       "      <td>6684752</td>\n",
       "      <td>2020-08-17 21:47:07</td>\n",
       "      <td>34.0</td>\n",
       "      <td>2020-08-18 09:00:00</td>\n",
       "      <td>2020-08-18 09:36:11</td>\n",
       "      <td>29</td>\n",
       "      <td>33</td>\n",
       "      <td>5</td>\n",
       "      <td>4831015</td>\n",
       "      <td>Республика Башкортостан</td>\n",
       "      <td>Регионы РФ</td>\n",
       "    </tr>\n",
       "    <tr>\n",
       "      <th>104687</th>\n",
       "      <td>30831521</td>\n",
       "      <td>750.0</td>\n",
       "      <td>2020-11-14 11:00:00</td>\n",
       "      <td>success</td>\n",
       "      <td>regular</td>\n",
       "      <td>4831015</td>\n",
       "      <td>active</td>\n",
       "      <td>general</td>\n",
       "      <td>Spartacus</td>\n",
       "      <td>6684752</td>\n",
       "      <td>2020-08-17 21:47:07</td>\n",
       "      <td>34.0</td>\n",
       "      <td>2020-08-18 09:00:00</td>\n",
       "      <td>2020-08-18 09:36:11</td>\n",
       "      <td>29</td>\n",
       "      <td>33</td>\n",
       "      <td>5</td>\n",
       "      <td>4831015</td>\n",
       "      <td>Республика Башкортостан</td>\n",
       "      <td>Регионы РФ</td>\n",
       "    </tr>\n",
       "    <tr>\n",
       "      <th>104688</th>\n",
       "      <td>30976738</td>\n",
       "      <td>750.0</td>\n",
       "      <td>2020-11-19 08:00:00</td>\n",
       "      <td>success</td>\n",
       "      <td>single</td>\n",
       "      <td>4831015</td>\n",
       "      <td>active</td>\n",
       "      <td>general</td>\n",
       "      <td>Spartacus</td>\n",
       "      <td>6684752</td>\n",
       "      <td>2020-08-17 21:47:07</td>\n",
       "      <td>34.0</td>\n",
       "      <td>2020-08-18 09:00:00</td>\n",
       "      <td>2020-08-18 09:36:11</td>\n",
       "      <td>29</td>\n",
       "      <td>33</td>\n",
       "      <td>5</td>\n",
       "      <td>4831015</td>\n",
       "      <td>Республика Башкортостан</td>\n",
       "      <td>Регионы РФ</td>\n",
       "    </tr>\n",
       "    <tr>\n",
       "      <th>104689</th>\n",
       "      <td>31118199</td>\n",
       "      <td>750.0</td>\n",
       "      <td>2020-11-21 11:00:00</td>\n",
       "      <td>success</td>\n",
       "      <td>regular</td>\n",
       "      <td>4831015</td>\n",
       "      <td>active</td>\n",
       "      <td>general</td>\n",
       "      <td>Spartacus</td>\n",
       "      <td>6684752</td>\n",
       "      <td>2020-08-17 21:47:07</td>\n",
       "      <td>34.0</td>\n",
       "      <td>2020-08-18 09:00:00</td>\n",
       "      <td>2020-08-18 09:36:11</td>\n",
       "      <td>29</td>\n",
       "      <td>33</td>\n",
       "      <td>5</td>\n",
       "      <td>4831015</td>\n",
       "      <td>Республика Башкортостан</td>\n",
       "      <td>Регионы РФ</td>\n",
       "    </tr>\n",
       "    <tr>\n",
       "      <th>104690</th>\n",
       "      <td>31118238</td>\n",
       "      <td>750.0</td>\n",
       "      <td>2020-11-26 08:00:00</td>\n",
       "      <td>success</td>\n",
       "      <td>single</td>\n",
       "      <td>4831015</td>\n",
       "      <td>active</td>\n",
       "      <td>general</td>\n",
       "      <td>Spartacus</td>\n",
       "      <td>6684752</td>\n",
       "      <td>2020-08-17 21:47:07</td>\n",
       "      <td>34.0</td>\n",
       "      <td>2020-08-18 09:00:00</td>\n",
       "      <td>2020-08-18 09:36:11</td>\n",
       "      <td>29</td>\n",
       "      <td>33</td>\n",
       "      <td>5</td>\n",
       "      <td>4831015</td>\n",
       "      <td>Республика Башкортостан</td>\n",
       "      <td>Регионы РФ</td>\n",
       "    </tr>\n",
       "    <tr>\n",
       "      <th>104691</th>\n",
       "      <td>31600293</td>\n",
       "      <td>750.0</td>\n",
       "      <td>2020-12-03 08:00:00</td>\n",
       "      <td>success</td>\n",
       "      <td>regular</td>\n",
       "      <td>4831015</td>\n",
       "      <td>active</td>\n",
       "      <td>general</td>\n",
       "      <td>Spartacus</td>\n",
       "      <td>6684752</td>\n",
       "      <td>2020-08-17 21:47:07</td>\n",
       "      <td>34.0</td>\n",
       "      <td>2020-08-18 09:00:00</td>\n",
       "      <td>2020-08-18 09:36:11</td>\n",
       "      <td>29</td>\n",
       "      <td>33</td>\n",
       "      <td>5</td>\n",
       "      <td>4831015</td>\n",
       "      <td>Республика Башкортостан</td>\n",
       "      <td>Регионы РФ</td>\n",
       "    </tr>\n",
       "    <tr>\n",
       "      <th>104692</th>\n",
       "      <td>31697896</td>\n",
       "      <td>750.0</td>\n",
       "      <td>2020-12-05 11:00:00</td>\n",
       "      <td>success</td>\n",
       "      <td>regular</td>\n",
       "      <td>4831015</td>\n",
       "      <td>active</td>\n",
       "      <td>general</td>\n",
       "      <td>Spartacus</td>\n",
       "      <td>6684752</td>\n",
       "      <td>2020-08-17 21:47:07</td>\n",
       "      <td>34.0</td>\n",
       "      <td>2020-08-18 09:00:00</td>\n",
       "      <td>2020-08-18 09:36:11</td>\n",
       "      <td>29</td>\n",
       "      <td>33</td>\n",
       "      <td>5</td>\n",
       "      <td>4831015</td>\n",
       "      <td>Республика Башкортостан</td>\n",
       "      <td>Регионы РФ</td>\n",
       "    </tr>\n",
       "  </tbody>\n",
       "</table>\n",
       "</div>"
      ],
      "text/plain": [
       "        workout_id   cost            start_at   status workout_schedule_type  \\\n",
       "104683    29969523  750.0 2020-10-24 11:00:00  success               regular   \n",
       "104684    30161734  750.0 2020-10-30 09:00:00  success                single   \n",
       "104685    30412238  750.0 2020-11-04 09:00:00  success               regular   \n",
       "104686    30546557  750.0 2020-11-07 11:00:00  success               regular   \n",
       "104687    30831521  750.0 2020-11-14 11:00:00  success               regular   \n",
       "104688    30976738  750.0 2020-11-19 08:00:00  success                single   \n",
       "104689    31118199  750.0 2020-11-21 11:00:00  success               regular   \n",
       "104690    31118238  750.0 2020-11-26 08:00:00  success                single   \n",
       "104691    31600293  750.0 2020-12-03 08:00:00  success               regular   \n",
       "104692    31697896  750.0 2020-12-05 11:00:00  success               regular   \n",
       "\n",
       "        client_id client_status workout_type trainer_department  trainer_id  \\\n",
       "104683    4831015        active      general          Spartacus     6684752   \n",
       "104684    4831015        active      general          Spartacus     6684752   \n",
       "104685    4831015        active      general          Spartacus     6684752   \n",
       "104686    4831015        active      general          Spartacus     6684752   \n",
       "104687    4831015        active      general          Spartacus     6684752   \n",
       "104688    4831015        active      general          Spartacus     6684752   \n",
       "104689    4831015        active      general          Spartacus     6684752   \n",
       "104690    4831015        active      general          Spartacus     6684752   \n",
       "104691    4831015        active      general          Spartacus     6684752   \n",
       "104692    4831015        active      general          Spartacus     6684752   \n",
       "\n",
       "       first_contact_datetime   age free_workout_datetime  \\\n",
       "104683    2020-08-17 21:47:07  34.0   2020-08-18 09:00:00   \n",
       "104684    2020-08-17 21:47:07  34.0   2020-08-18 09:00:00   \n",
       "104685    2020-08-17 21:47:07  34.0   2020-08-18 09:00:00   \n",
       "104686    2020-08-17 21:47:07  34.0   2020-08-18 09:00:00   \n",
       "104687    2020-08-17 21:47:07  34.0   2020-08-18 09:00:00   \n",
       "104688    2020-08-17 21:47:07  34.0   2020-08-18 09:00:00   \n",
       "104689    2020-08-17 21:47:07  34.0   2020-08-18 09:00:00   \n",
       "104690    2020-08-17 21:47:07  34.0   2020-08-18 09:00:00   \n",
       "104691    2020-08-17 21:47:07  34.0   2020-08-18 09:00:00   \n",
       "104692    2020-08-17 21:47:07  34.0   2020-08-18 09:00:00   \n",
       "\n",
       "       first_payment_datetime  workouts_successful  workouts_total  \\\n",
       "104683    2020-08-18 09:36:11                   29              33   \n",
       "104684    2020-08-18 09:36:11                   29              33   \n",
       "104685    2020-08-18 09:36:11                   29              33   \n",
       "104686    2020-08-18 09:36:11                   29              33   \n",
       "104687    2020-08-18 09:36:11                   29              33   \n",
       "104688    2020-08-18 09:36:11                   29              33   \n",
       "104689    2020-08-18 09:36:11                   29              33   \n",
       "104690    2020-08-18 09:36:11                   29              33   \n",
       "104691    2020-08-18 09:36:11                   29              33   \n",
       "104692    2020-08-18 09:36:11                   29              33   \n",
       "\n",
       "        months_active  user_id                   region   geo_group  \n",
       "104683              5  4831015  Республика Башкортостан  Регионы РФ  \n",
       "104684              5  4831015  Республика Башкортостан  Регионы РФ  \n",
       "104685              5  4831015  Республика Башкортостан  Регионы РФ  \n",
       "104686              5  4831015  Республика Башкортостан  Регионы РФ  \n",
       "104687              5  4831015  Республика Башкортостан  Регионы РФ  \n",
       "104688              5  4831015  Республика Башкортостан  Регионы РФ  \n",
       "104689              5  4831015  Республика Башкортостан  Регионы РФ  \n",
       "104690              5  4831015  Республика Башкортостан  Регионы РФ  \n",
       "104691              5  4831015  Республика Башкортостан  Регионы РФ  \n",
       "104692              5  4831015  Республика Башкортостан  Регионы РФ  "
      ]
     },
     "execution_count": 2,
     "metadata": {},
     "output_type": "execute_result"
    }
   ],
   "source": [
    "# загружаем данные\n",
    "\n",
    "workouts = pd.read_csv('workouts.csv', parse_dates=['start_at'])\n",
    "users = pd.read_excel('users.xlsx')\n",
    "\n",
    "# сразу создадим новый датафрейм, в котором соединены уроки и пользователи\n",
    "\n",
    "workouts_users =  pd.merge(workouts, users, \n",
    "                     how='left',\n",
    "                     left_on='client_id', right_on='user_id')\n",
    "workouts_users.tail(10)"
   ]
  },
  {
   "cell_type": "markdown",
   "metadata": {
    "id": "u-5lmrVS2a4N"
   },
   "source": [
    "## Задание 1\n",
    "\n",
    "**Построй линейный график, который показывает количество тренировок за каждый день. \n",
    "Оставь комментарий — какие закономерности ты наблюдаешь?**\n",
    "\n",
    "Как это сделать?\n",
    "\n",
    "1. Работать будем с датафреймом `workouts`.\n",
    "2. Сгруппируй данные по каждому дню в году (именно дню, а не числу, например 1 января и 1 февраля – это разные дни). Для этого идеально подойдет метод `resample()`, если не помнишь, как он работает, смело смотри в шпаргалке. После найди количество проведенных тренировок в каждый день и запиши их в переменную `trainings_by_day`.\n",
    "3. Построй линейный график. Можешь добавить любые агрументы, но обязательно используй вот эти: \n",
    "    - размер графика\n",
    "    - название графика \n",
    "    - подпись оси `X` \n",
    "    \n",
    "    - подпись оси `Y` \n",
    "4. Удали неполные данные, которые мешают анализу."
   ]
  },
  {
   "cell_type": "code",
   "execution_count": 3,
   "metadata": {
    "id": "SseA6AG_2a4N"
   },
   "outputs": [],
   "source": [
    "# напиши код здесь\n",
    "trainings_by_day=workouts.resample('d', on='start_at')['workout_id'].count() #находим количество тренировок в каждый день\n"
   ]
  },
  {
   "cell_type": "code",
   "execution_count": 4,
   "metadata": {},
   "outputs": [
    {
     "data": {
      "image/png": "[encoded data removed]",
      "text/plain": [
       "<Figure size 1440x504 with 1 Axes>"
      ]
     },
     "metadata": {
      "needs_background": "light"
     },
     "output_type": "display_data"
    }
   ],
   "source": [
    "plt.figure(figsize=(20,7)) #\n",
    "plt.grid()\n",
    "plt.title('Рсапределение проведенных тренировок по дням')\n",
    "plt.xlabel('День')\n",
    "plt.ylabel('Количество тренировок')\n",
    "plt.plot(trainings_by_day.iloc[:-1],\n",
    "         linewidth=3)\n",
    "plt.show()"
   ]
  },
  {
   "cell_type": "markdown",
   "metadata": {
    "id": "0iVCvj-42a4O"
   },
   "source": [
    "## Задание 2\n",
    "\n",
    "В ноябре постоянные тренеры жаловались на перегрузку. При этом в одних департаментах часто не хватало тренеров, а в других люди сидели без работы. Поэтому по каждому департаменту нам важно узнать, какую нагрузку имеют тренера (в количестве тренировок) и сколько тренеров имеют ту или иную нагрузку. \n",
    "\n",
    "**Построй гистограмму распределения, которая покажет, сколько тренеров провели n число тренировок в ноябре. При подсчете постоянных тренеров рассматриваем только тех, которые уже работали в нашей компании до 1 ноября. Сделай отдельный график по каждому департаменту (всего их 7).**\n",
    "\n",
    "Как это сделать:\n",
    "\n",
    "1. Внимательно изучи код, который мы подготовили, и запусти ячейки. Что мы сделали:\n",
    "    - отобрали тренеров, которые уже проводили тренировки до начала ноября\n",
    "    - взяли тренировки, которые прошли в ноябре\n",
    "    - выбрали из них те, которые провели ранее отобранные тренеры\n",
    "    \n",
    "\n",
    "2. В цикле для каждого департамента: \n",
    "\n",
    "    - отфильтруй по `trainer_department` тренировки нужного департамента\n",
    "    - построй гистограмму распределения количества тренеров по количеству проведенных тренировок. Можешь добавить любые аргументы, но обязательно используй вот эти:\n",
    "        - размер графика\n",
    "        - название графика\n",
    "        - подпись оси `X`\n",
    "        \n",
    "        - подпись оси `Y`\n",
    "        - задай цвет на графике\n",
    "        - задай 5 столбцов\n",
    "      \n"
   ]
  },
  {
   "cell_type": "code",
   "execution_count": 5,
   "metadata": {
    "id": "gSOOVr_C2a4P"
   },
   "outputs": [],
   "source": [
    "# выбрали тренеров, которые вели тренировки до 1 ноября\n",
    "trainers_select = workouts['trainer_id'].loc[workouts['start_at'] < '2020-11-01'] \n",
    "\n",
    "# множеством взяли уникальные значения\n",
    "trainers_select = set(trainers_select) "
   ]
  },
  {
   "cell_type": "code",
   "execution_count": 6,
   "metadata": {
    "id": "Uu5kTR_M2a4Q"
   },
   "outputs": [],
   "source": [
    "# взяли тренировки только за ноябрь\n",
    "november_workouts = workouts.loc[workouts['start_at'].dt.month == 11] \n",
    "\n",
    "# берем только активных тренеров\n",
    "november_workouts = november_workouts.loc[november_workouts['trainer_id'].isin(trainers_select)] "
   ]
  },
  {
   "cell_type": "code",
   "execution_count": 7,
   "metadata": {
    "id": "T5tjhbQA2a4R"
   },
   "outputs": [
    {
     "data": {
      "text/html": [
       "<div>\n",
       "<style scoped>\n",
       "    .dataframe tbody tr th:only-of-type {\n",
       "        vertical-align: middle;\n",
       "    }\n",
       "\n",
       "    .dataframe tbody tr th {\n",
       "        vertical-align: top;\n",
       "    }\n",
       "\n",
       "    .dataframe thead th {\n",
       "        text-align: right;\n",
       "    }\n",
       "</style>\n",
       "<table border=\"1\" class=\"dataframe\">\n",
       "  <thead>\n",
       "    <tr style=\"text-align: right;\">\n",
       "      <th></th>\n",
       "      <th>trainer_id</th>\n",
       "      <th>trainer_department</th>\n",
       "      <th>workouts</th>\n",
       "    </tr>\n",
       "  </thead>\n",
       "  <tbody>\n",
       "    <tr>\n",
       "      <th>0</th>\n",
       "      <td>1994</td>\n",
       "      <td>Spartacus</td>\n",
       "      <td>26</td>\n",
       "    </tr>\n",
       "    <tr>\n",
       "      <th>1</th>\n",
       "      <td>4446</td>\n",
       "      <td>Spartacus</td>\n",
       "      <td>9</td>\n",
       "    </tr>\n",
       "    <tr>\n",
       "      <th>2</th>\n",
       "      <td>9256</td>\n",
       "      <td>Spartacus</td>\n",
       "      <td>9</td>\n",
       "    </tr>\n",
       "    <tr>\n",
       "      <th>3</th>\n",
       "      <td>14431</td>\n",
       "      <td>Spartacus</td>\n",
       "      <td>11</td>\n",
       "    </tr>\n",
       "    <tr>\n",
       "      <th>4</th>\n",
       "      <td>15062</td>\n",
       "      <td>Spartacus</td>\n",
       "      <td>8</td>\n",
       "    </tr>\n",
       "  </tbody>\n",
       "</table>\n",
       "</div>"
      ],
      "text/plain": [
       "   trainer_id trainer_department  workouts\n",
       "0        1994          Spartacus        26\n",
       "1        4446          Spartacus         9\n",
       "2        9256          Spartacus         9\n",
       "3       14431          Spartacus        11\n",
       "4       15062          Spartacus         8"
      ]
     },
     "execution_count": 7,
     "metadata": {},
     "output_type": "execute_result"
    }
   ],
   "source": [
    "# кол-во тренировок у каждого тренера\n",
    "workouts_by_trainer = november_workouts.groupby(['trainer_id','trainer_department'])['workout_id'].count() \n",
    "\n",
    "# превращаем series в dataframe, сбрасываем индекс\n",
    "workouts_by_trainer = workouts_by_trainer.reset_index() \n",
    "\n",
    "# переименовываем столбец workout_id, ведь в нем теперь количество тренировок\n",
    "workouts_by_trainer.columns = ['trainer_id','trainer_department','workouts'] \n",
    "\n",
    "workouts_by_trainer.head()"
   ]
  },
  {
   "cell_type": "code",
   "execution_count": 8,
   "metadata": {
    "id": "m0np64-z2a4R"
   },
   "outputs": [
    {
     "data": {
      "text/plain": [
       "{'Athletic',\n",
       " 'Consultant',\n",
       " 'Cycling',\n",
       " 'Dinamo',\n",
       " 'Sales',\n",
       " 'Spartacus',\n",
       " 'Sports Reserves'}"
      ]
     },
     "execution_count": 8,
     "metadata": {},
     "output_type": "execute_result"
    }
   ],
   "source": [
    "# посмотрим, какие у нас есть департаменты\n",
    "departments = set(workouts_by_trainer['trainer_department'])\n",
    "departments"
   ]
  },
  {
   "cell_type": "code",
   "execution_count": 9,
   "metadata": {
    "id": "REkFT1we2a4S"
   },
   "outputs": [
    {
     "ename": "NameError",
     "evalue": "name 'trainer_department' is not defined",
     "output_type": "error",
     "traceback": [
      "\u001b[1;31m---------------------------------------------------------------------------\u001b[0m",
      "\u001b[1;31mNameError\u001b[0m                                 Traceback (most recent call last)",
      "\u001b[1;32m~\\AppData\\Local\\Temp/ipykernel_6924/2762637003.py\u001b[0m in \u001b[0;36m<module>\u001b[1;34m\u001b[0m\n\u001b[0;32m      7\u001b[0m        \u001b[1;34m'Spartacus'\u001b[0m\u001b[1;33m:\u001b[0m\u001b[1;34m'tab:olive'\u001b[0m\u001b[1;33m,\u001b[0m\u001b[1;33m\u001b[0m\u001b[1;33m\u001b[0m\u001b[0m\n\u001b[0;32m      8\u001b[0m        'Sports Reserves':'tab:pink'}\n\u001b[1;32m----> 9\u001b[1;33m \u001b[0mworkouts_by_trainer\u001b[0m\u001b[1;33m[\u001b[0m\u001b[0mcolor\u001b[0m\u001b[1;33m]\u001b[0m\u001b[1;33m=\u001b[0m\u001b[0mworkouts_by_trainer\u001b[0m\u001b[1;33m[\u001b[0m\u001b[0mtrainer_department\u001b[0m\u001b[1;33m]\u001b[0m\u001b[1;33m.\u001b[0m\u001b[0mmap\u001b[0m\u001b[1;33m(\u001b[0m\u001b[0mcolors\u001b[0m\u001b[1;33m)\u001b[0m\u001b[1;33m\u001b[0m\u001b[1;33m\u001b[0m\u001b[0m\n\u001b[0m",
      "\u001b[1;31mNameError\u001b[0m: name 'trainer_department' is not defined"
     ]
    }
   ],
   "source": [
    "# не понимаю, почему не срабатывает код\n",
    "colors={'Athletic':'r',\n",
    "       'Consultant':'g',\n",
    "       'Cycling':'b',\n",
    "       'Dinamo':'c',\n",
    "       'Sales':'y',\n",
    "       'Spartacus':'tab:olive',\n",
    "       'Sports Reserves':'tab:pink'}\n",
    "workouts_by_trainer[color]=workouts_by_trainer[trainer_department].map(colors)\n"
   ]
  },
  {
   "cell_type": "code",
   "execution_count": null,
   "metadata": {},
   "outputs": [],
   "source": [
    "# не уверена, что срабатывает как надо, транные цифры для Spartacus\n",
    "for department in departments:\n",
    "    to_hist = workouts_by_trainer.loc[workouts_by_trainer['trainer_department'] == department]\n",
    "    plt.figure(figsize=(15,3))\n",
    "    plt.hist(to_hist['workouts'], bins=5, color='g')  #частота вхождения значения из столбца workouts хотела с помощью предыдущего сделать разные цвета по департамента\n",
    "    plt.grid()\n",
    "    plt.title(\"Число тренеров департамента {} по количеству проведенных тренеровок\".format(department))\n",
    "    plt.xlabel(\"Количество проведенных тренировок\")\n",
    "    plt.ylabel('Число тренеров')\n",
    "    plt.show()"
   ]
  },
  {
   "cell_type": "markdown",
   "metadata": {
    "id": "tfkKi82a2a4S"
   },
   "source": [
    "## Задание 3\n",
    "\n",
    "Мы поняли, как тренировки распределились в каждом департаменте, но чтобы принимать какие-то решения, нужно посмотреть общую картину. Здесь нам поможет боксплот: увидим, в каких департаментах низкое среднее количество тренировок по сравнению с остальными и где больше перегруженных тренеров.\n",
    "\n",
    "**Построй boxplot (один) с распределением тренеров по количеству проведенных уроков с разбивкой по департаментам.**\n",
    "\n",
    "Как это сделать:\n",
    "\n",
    "1. В функцию, которая строит boxplot, передай аргументы: департаменты, общее количество проведенных тренерами занятий и количество тренировок у каждого тренера\n",
    "2. Используй цвет\n",
    "3. Оставь комментарий: какие рекомендации можно дать по распределению нагрузки на тренеров разных департаментов, глядя на этот график?"
   ]
  },
  {
   "cell_type": "code",
   "execution_count": 10,
   "metadata": {
    "id": "I_dUupFW2a4T"
   },
   "outputs": [
    {
     "data": {
      "text/plain": [
       "Text(0, 0.5, 'Количество проведенных тренировок')"
      ]
     },
     "execution_count": 10,
     "metadata": {},
     "output_type": "execute_result"
    },
    {
     "data": {
      "image/png": "[encoded data removed]",
      "text/plain": [
       "<Figure size 720x360 with 1 Axes>"
      ]
     },
     "metadata": {
      "needs_background": "light"
     },
     "output_type": "display_data"
    }
   ],
   "source": [
    "# напиши код здесь\n",
    "plt.figure(figsize=(10,5))\n",
    "plt.title('Количество проведенных тренировок на тренера по департаментам')\n",
    "plt.grid()\n",
    "sns.boxplot(x='trainer_department',\n",
    "           y='workouts',\n",
    "           data=workouts_by_trainer,\n",
    "           color='m')\n",
    "plt.xlabel('Департамент')\n",
    "plt.ylabel('Количество проведенных тренировок')\n"
   ]
  },
  {
   "cell_type": "markdown",
   "metadata": {},
   "source": [
    "## Наблюдения:\n",
    "В департаменте Consultant тренеры почти не проводили тренеровок, так же как и  в Sales ( где при этом были несколько исключений). Самое неравномерное распределние нагрузки было в департаменте Spartacus, очень много выбросов. Наиболее равномерно нагрузка распределена в департаментах Athletic и Cycling"
   ]
  },
  {
   "cell_type": "markdown",
   "metadata": {
    "id": "nrEOOoxW2a4T"
   },
   "source": [
    "## Задание 4\n",
    "\n",
    "\n",
    "Логично, что дешевые тренировки пропускают чаще дорогих, но мы хотим сформировать стратегию по снижению количеству пропусков, а значит нам нужны более точные данные. Для начала мы хотим посмотреть детально на корреляцию нескольких параметров с вероятностью пропусков. Возможно, это позволит нам лучше сегментировать нашу аудиторию.\n",
    "\n",
    "Есть гипотеза, что на вероятность прогула влияет не только цена, но и возраст. Изучи этот вопрос с помощью графиков. \n",
    "\n",
    "**Тебе предстоит построить 3 скаттерплота в этом задании. Оставь комментарий по каждому графику – видишь ли ты какие-то явные зависимости в данных?**\n",
    "\n",
    "1. **Внимательно изучи код, который мы подготовили, и запусти ячейки.** Что мы сделали:\n",
    "    - отфильтровали только платные тренировки\n",
    "    - поменяли тип данных в числовых столбцах на `int`\n",
    "    - разметили столбец со статусом, успешные тренировки пометили единицей, пропущенные - нулем, чтобы высчитать долю пропусков\n",
    "    - создали датафрейм, где подсчитана доля прогулов по двум параметрам: возраст и цена\n",
    "\n",
    "\n",
    "2. **Построй скаттерплот, который покажет корреляцию прогулов к цене**\n",
    "    - используй группировку и создай датафрейм, где подсчитан процент прогулов аналогично предподготовленному датафрейму `cost_age_data_agg`, но без возраста, только с ценой\n",
    "    - в функцию, которая строит скаттерплот можешь добавить любые аргументы, но обязательно используй вот эти:\n",
    "        - размер графика\n",
    "        - название графика\n",
    "        - подпись оси `X`\n",
    "        \n",
    "        - подпись оси `Y`\n",
    "        - задай цвет на графике\n",
    "    \n",
    "Подготовим данные:"
   ]
  },
  {
   "cell_type": "code",
   "execution_count": 11,
   "metadata": {
    "id": "WUGBV_R_2a4U"
   },
   "outputs": [
    {
     "data": {
      "text/html": [
       "<div>\n",
       "<style scoped>\n",
       "    .dataframe tbody tr th:only-of-type {\n",
       "        vertical-align: middle;\n",
       "    }\n",
       "\n",
       "    .dataframe tbody tr th {\n",
       "        vertical-align: top;\n",
       "    }\n",
       "\n",
       "    .dataframe thead th {\n",
       "        text-align: right;\n",
       "    }\n",
       "</style>\n",
       "<table border=\"1\" class=\"dataframe\">\n",
       "  <thead>\n",
       "    <tr style=\"text-align: right;\">\n",
       "      <th></th>\n",
       "      <th>cost</th>\n",
       "      <th>age</th>\n",
       "      <th>status</th>\n",
       "    </tr>\n",
       "  </thead>\n",
       "  <tbody>\n",
       "    <tr>\n",
       "      <th>0</th>\n",
       "      <td>500</td>\n",
       "      <td>5</td>\n",
       "      <td>0.000000</td>\n",
       "    </tr>\n",
       "    <tr>\n",
       "      <th>1</th>\n",
       "      <td>500</td>\n",
       "      <td>6</td>\n",
       "      <td>0.500000</td>\n",
       "    </tr>\n",
       "    <tr>\n",
       "      <th>2</th>\n",
       "      <td>500</td>\n",
       "      <td>7</td>\n",
       "      <td>0.500000</td>\n",
       "    </tr>\n",
       "    <tr>\n",
       "      <th>3</th>\n",
       "      <td>500</td>\n",
       "      <td>8</td>\n",
       "      <td>0.242424</td>\n",
       "    </tr>\n",
       "    <tr>\n",
       "      <th>4</th>\n",
       "      <td>500</td>\n",
       "      <td>9</td>\n",
       "      <td>0.235294</td>\n",
       "    </tr>\n",
       "    <tr>\n",
       "      <th>...</th>\n",
       "      <td>...</td>\n",
       "      <td>...</td>\n",
       "      <td>...</td>\n",
       "    </tr>\n",
       "    <tr>\n",
       "      <th>185</th>\n",
       "      <td>1500</td>\n",
       "      <td>47</td>\n",
       "      <td>0.000000</td>\n",
       "    </tr>\n",
       "    <tr>\n",
       "      <th>186</th>\n",
       "      <td>1500</td>\n",
       "      <td>49</td>\n",
       "      <td>0.125000</td>\n",
       "    </tr>\n",
       "    <tr>\n",
       "      <th>187</th>\n",
       "      <td>1500</td>\n",
       "      <td>50</td>\n",
       "      <td>0.500000</td>\n",
       "    </tr>\n",
       "    <tr>\n",
       "      <th>188</th>\n",
       "      <td>1500</td>\n",
       "      <td>55</td>\n",
       "      <td>0.187500</td>\n",
       "    </tr>\n",
       "    <tr>\n",
       "      <th>189</th>\n",
       "      <td>1500</td>\n",
       "      <td>68</td>\n",
       "      <td>0.000000</td>\n",
       "    </tr>\n",
       "  </tbody>\n",
       "</table>\n",
       "<p>190 rows × 3 columns</p>\n",
       "</div>"
      ],
      "text/plain": [
       "     cost  age    status\n",
       "0     500    5  0.000000\n",
       "1     500    6  0.500000\n",
       "2     500    7  0.500000\n",
       "3     500    8  0.242424\n",
       "4     500    9  0.235294\n",
       "..    ...  ...       ...\n",
       "185  1500   47  0.000000\n",
       "186  1500   49  0.125000\n",
       "187  1500   50  0.500000\n",
       "188  1500   55  0.187500\n",
       "189  1500   68  0.000000\n",
       "\n",
       "[190 rows x 3 columns]"
      ]
     },
     "execution_count": 11,
     "metadata": {},
     "output_type": "execute_result"
    }
   ],
   "source": [
    "# отфильтровали бесплатные тренировки и сделали копию датафрейма\n",
    "cost_age_data = workouts_users[['status','cost','age']].loc[workouts_users.workout_schedule_type!='trial'].dropna().copy()\n",
    "\n",
    "# Изменяем тип данных столбцов age и cost на int. Это нужно, чтобы на подписях к диаграммам числа были целыми\n",
    "cost_age_data['age'] = cost_age_data['age'].apply(int) \n",
    "cost_age_data['cost'] = cost_age_data['cost'].apply(int)\n",
    "\n",
    "# Кодируем столбец status, присваивая 1 в случаях, если он равен failed_by_client и 0 в случае success\n",
    "cost_age_data['status'] = cost_age_data.status.map({'success':0,'failed_by_client':1})\n",
    "\n",
    "# создаём агрегированные наборы данных\n",
    "cost_age_data_agg = cost_age_data.groupby(['cost','age'])['status'].mean().reset_index() #считаем долю прогулов по возрасту и цене \n",
    "\n",
    "cost_age_data_agg"
   ]
  },
  {
   "cell_type": "code",
   "execution_count": 12,
   "metadata": {
    "id": "sPdkqqix2a4V"
   },
   "outputs": [
    {
     "data": {
      "text/html": [
       "<div>\n",
       "<style scoped>\n",
       "    .dataframe tbody tr th:only-of-type {\n",
       "        vertical-align: middle;\n",
       "    }\n",
       "\n",
       "    .dataframe tbody tr th {\n",
       "        vertical-align: top;\n",
       "    }\n",
       "\n",
       "    .dataframe thead th {\n",
       "        text-align: right;\n",
       "    }\n",
       "</style>\n",
       "<table border=\"1\" class=\"dataframe\">\n",
       "  <thead>\n",
       "    <tr style=\"text-align: right;\">\n",
       "      <th></th>\n",
       "      <th>cost</th>\n",
       "      <th>status</th>\n",
       "    </tr>\n",
       "  </thead>\n",
       "  <tbody>\n",
       "    <tr>\n",
       "      <th>0</th>\n",
       "      <td>500</td>\n",
       "      <td>0.254996</td>\n",
       "    </tr>\n",
       "    <tr>\n",
       "      <th>1</th>\n",
       "      <td>750</td>\n",
       "      <td>0.210409</td>\n",
       "    </tr>\n",
       "    <tr>\n",
       "      <th>2</th>\n",
       "      <td>1000</td>\n",
       "      <td>0.158010</td>\n",
       "    </tr>\n",
       "    <tr>\n",
       "      <th>3</th>\n",
       "      <td>1500</td>\n",
       "      <td>0.121612</td>\n",
       "    </tr>\n",
       "  </tbody>\n",
       "</table>\n",
       "</div>"
      ],
      "text/plain": [
       "   cost    status\n",
       "0   500  0.254996\n",
       "1   750  0.210409\n",
       "2  1000  0.158010\n",
       "3  1500  0.121612"
      ]
     },
     "execution_count": 12,
     "metadata": {},
     "output_type": "execute_result"
    }
   ],
   "source": [
    "# напиши здесь код\n",
    "cost_data_agg = cost_age_data.groupby('cost')['status'].mean().reset_index() # из предподготовленной формулы группировки убрала возраст\n",
    "cost_data_agg"
   ]
  },
  {
   "cell_type": "code",
   "execution_count": 13,
   "metadata": {},
   "outputs": [
    {
     "data": {
      "image/png": "[encoded data removed]",
      "text/plain": [
       "<Figure size 360x216 with 1 Axes>"
      ]
     },
     "metadata": {
      "needs_background": "light"
     },
     "output_type": "display_data"
    }
   ],
   "source": [
    "plt.figure(figsize=(5,3)) #\n",
    "plt.grid()\n",
    "plt.title('Отношение доли прогулов к цене')\n",
    "plt.xlabel('Цена')\n",
    "plt.ylabel('Доля прогулов')\n",
    "plt.scatter(cost_data_agg['cost'], cost_data_agg['status'],\n",
    "            c='r')\n",
    "plt.show()"
   ]
  },
  {
   "cell_type": "markdown",
   "metadata": {
    "id": "qrD8Fbx_2a4V"
   },
   "source": [
    "3. **Построй скаттерплот, который покажет корреляцию прогулов к возрасту**\n",
    "    - используй группировку и создай датафрейм, где подсчитан процент прогулов аналогично предподготовленному датафрейму `cost_age_data_agg`, но без цен, только с возрастом\n",
    "    - в функцию, которая строит скаттерплот, можешь добавить любые аргументы, но обязательно используй вот эти:\n",
    "        - размер графика\n",
    "        - название графика\n",
    "        - подпись оси `X`\n",
    "        \n",
    "        - подпись оси `Y`\n",
    "        - задай цвет на графике"
   ]
  },
  {
   "cell_type": "code",
   "execution_count": 14,
   "metadata": {
    "id": "5wG4djoE2a4W"
   },
   "outputs": [],
   "source": [
    "# напиши код здесь\n",
    "age_data_agg = cost_age_data.groupby('age')['status'].mean().reset_index()\n"
   ]
  },
  {
   "cell_type": "code",
   "execution_count": 15,
   "metadata": {},
   "outputs": [
    {
     "data": {
      "image/png": "[encoded data removed]",
      "text/plain": [
       "<Figure size 1080x360 with 1 Axes>"
      ]
     },
     "metadata": {
      "needs_background": "light"
     },
     "output_type": "display_data"
    }
   ],
   "source": [
    "plt.figure(figsize=(15,5)) #\n",
    "plt.grid()\n",
    "plt.title('Отношение доли прогулов к возрасту')\n",
    "plt.xlabel('Возраст')\n",
    "plt.ylabel('Доля прогулов')\n",
    "plt.scatter(age_data_agg['age'], age_data_agg['status'],\n",
    "            c='g')\n",
    "plt.show()"
   ]
  },
  {
   "cell_type": "markdown",
   "metadata": {
    "id": "tNPYB8_k2a4X"
   },
   "source": [
    "4. **Построй скаттерплот, который покажет корреляцию прогулов и к возрасту, и к цене одновременно**\n",
    "    - создай словарь цветов и цен в переменной `price_color`. Чтобы увидеть все уникальные значения, можно использовать множества\n",
    "    - в функцию, которая строит скаттерплот, можешь добавить любые аргументы, но обязательно используй вот эти:\n",
    "        - размер графика\n",
    "        - название графика\n",
    "        - подпись оси `X`\n",
    "        \n",
    "        - подпись оси `Y`\n",
    "        - аргумент  `с` - цвета для разных цен\n",
    "          "
   ]
  },
  {
   "cell_type": "code",
   "execution_count": 16,
   "metadata": {
    "id": "1Vw12ktk2a4X"
   },
   "outputs": [
    {
     "data": {
      "text/plain": [
       "{500, 750, 1000, 1500}"
      ]
     },
     "execution_count": 16,
     "metadata": {},
     "output_type": "execute_result"
    }
   ],
   "source": [
    "# напиши код здесь\n",
    "prices=set(cost_age_data['cost']) # Определяем цены\n",
    "prices\n"
   ]
  },
  {
   "cell_type": "code",
   "execution_count": 17,
   "metadata": {},
   "outputs": [],
   "source": [
    "#словарь цветов и цен\n",
    "price_color={500:'r',\n",
    "            750:'g',\n",
    "            1000:'b',\n",
    "            1500:'m'}\n"
   ]
  },
  {
   "cell_type": "code",
   "execution_count": 18,
   "metadata": {},
   "outputs": [
    {
     "data": {
      "image/png": "[encoded data removed]",
      "text/plain": [
       "<Figure size 1080x360 with 1 Axes>"
      ]
     },
     "metadata": {
      "needs_background": "light"
     },
     "output_type": "display_data"
    }
   ],
   "source": [
    "plt.figure(figsize=(15,5)) #\n",
    "plt.grid()\n",
    "plt.title('Отношение доли прогулов к возрасту в зависимости от цены')\n",
    "plt.xlabel('Возраст')\n",
    "plt.ylabel('Доля прогулов')\n",
    "plt.xlim(0, 70)\n",
    "plt.ylim(-0.2, 1.2)\n",
    "plt.scatter(cost_age_data_agg['age'],\n",
    "            cost_age_data_agg['status'],\n",
    "            c=cost_age_data_agg['cost'].map(price_color),\n",
    "            alpha=0.7)\n",
    "import matplotlib.lines as mlines\n",
    "import matplotlib.pyplot as plt\n",
    "\n",
    "r = mlines.Line2D([], [], color='r', marker='.',\n",
    "                          markersize=15, label='500')\n",
    "g = mlines.Line2D([], [], color='g', marker='.',\n",
    "                          markersize=15, label='750')\n",
    "b = mlines.Line2D([], [], color='b', marker='.',\n",
    "                          markersize=15, label='1000')\n",
    "m = mlines.Line2D([], [], color='m', marker='.',\n",
    "                          markersize=15, label='1500')\n",
    "plt.legend(handles=[r, g, b, m])\n",
    "\n",
    "plt.show()\n",
    "plt.show()"
   ]
  },
  {
   "cell_type": "markdown",
   "metadata": {
    "id": "PD_3rozj2a4Y"
   },
   "source": [
    "## Задание 5\n",
    "\n",
    "**Сделай heatmаp для кейса из задания 4.** \n",
    "\n",
    "1. Внимательно изучи код, который мы подготовили, и запусти ячейки. Что мы сделали:\n",
    "    - написали функцию, которая в зависимости от возраста возвращает возрастную группу\n",
    "    - создали новый столбец, применив функцию к столбцу возраста\n",
    "    - сгруппировали данные, чтобы для каждой пары возраст-цена была сгруппирована средняя вероятность прогула\n",
    "    \n",
    "    \n",
    "2. Создай сводную таблицу (матрицу), в которой строками будут интервалы возраста, столбцами — цена занятия, значением — доля прогулов.\n",
    "3. Построй heatmap. Используй любые аргументы, но обязательно добавь вот эти:\n",
    "    - размер графика\n",
    "    - название графика\n",
    "    - подпись оси `X`\n",
    "    \n",
    "    - подпись оси `Y`\n",
    "    - вывод значений в ячейках\n",
    "    \n",
    "4. Оставь комментарий: какие закономерности ты видишь на графике?"
   ]
  },
  {
   "cell_type": "code",
   "execution_count": 19,
   "metadata": {
    "id": "qCfnqkeR2a4Z"
   },
   "outputs": [],
   "source": [
    "# пишем функцию, которая поможет разбить клиентов на возрастные группы\n",
    "\n",
    "def calculate_age_bins(age):\n",
    "    if age <= 20:\n",
    "        return '0-20'\n",
    "    if age <= 25:\n",
    "        return '21-25'\n",
    "    if age <= 30:\n",
    "        return '26-30'\n",
    "    if age <= 35:\n",
    "        return '31-35'\n",
    "    if age <= 40:\n",
    "        return '36-40'\n",
    "    if age <= 45:\n",
    "        return '41-45'\n",
    "    if age <= 50:\n",
    "        return '46-50'\n",
    "    return '50+'"
   ]
  },
  {
   "cell_type": "code",
   "execution_count": 20,
   "metadata": {
    "id": "8CkrOlMa2a4Z"
   },
   "outputs": [
    {
     "data": {
      "text/html": [
       "<div>\n",
       "<style scoped>\n",
       "    .dataframe tbody tr th:only-of-type {\n",
       "        vertical-align: middle;\n",
       "    }\n",
       "\n",
       "    .dataframe tbody tr th {\n",
       "        vertical-align: top;\n",
       "    }\n",
       "\n",
       "    .dataframe thead th {\n",
       "        text-align: right;\n",
       "    }\n",
       "</style>\n",
       "<table border=\"1\" class=\"dataframe\">\n",
       "  <thead>\n",
       "    <tr style=\"text-align: right;\">\n",
       "      <th></th>\n",
       "      <th>cost</th>\n",
       "      <th>age_bin</th>\n",
       "      <th>status</th>\n",
       "    </tr>\n",
       "  </thead>\n",
       "  <tbody>\n",
       "    <tr>\n",
       "      <th>0</th>\n",
       "      <td>500</td>\n",
       "      <td>0-20</td>\n",
       "      <td>0.286578</td>\n",
       "    </tr>\n",
       "    <tr>\n",
       "      <th>1</th>\n",
       "      <td>500</td>\n",
       "      <td>21-25</td>\n",
       "      <td>0.283505</td>\n",
       "    </tr>\n",
       "    <tr>\n",
       "      <th>2</th>\n",
       "      <td>500</td>\n",
       "      <td>26-30</td>\n",
       "      <td>0.255597</td>\n",
       "    </tr>\n",
       "    <tr>\n",
       "      <th>3</th>\n",
       "      <td>500</td>\n",
       "      <td>31-35</td>\n",
       "      <td>0.165217</td>\n",
       "    </tr>\n",
       "    <tr>\n",
       "      <th>4</th>\n",
       "      <td>500</td>\n",
       "      <td>36-40</td>\n",
       "      <td>0.175573</td>\n",
       "    </tr>\n",
       "    <tr>\n",
       "      <th>5</th>\n",
       "      <td>500</td>\n",
       "      <td>41-45</td>\n",
       "      <td>0.191489</td>\n",
       "    </tr>\n",
       "    <tr>\n",
       "      <th>6</th>\n",
       "      <td>500</td>\n",
       "      <td>46-50</td>\n",
       "      <td>0.285714</td>\n",
       "    </tr>\n",
       "    <tr>\n",
       "      <th>7</th>\n",
       "      <td>500</td>\n",
       "      <td>50+</td>\n",
       "      <td>0.307692</td>\n",
       "    </tr>\n",
       "    <tr>\n",
       "      <th>8</th>\n",
       "      <td>750</td>\n",
       "      <td>0-20</td>\n",
       "      <td>0.249445</td>\n",
       "    </tr>\n",
       "    <tr>\n",
       "      <th>9</th>\n",
       "      <td>750</td>\n",
       "      <td>21-25</td>\n",
       "      <td>0.250124</td>\n",
       "    </tr>\n",
       "    <tr>\n",
       "      <th>10</th>\n",
       "      <td>750</td>\n",
       "      <td>26-30</td>\n",
       "      <td>0.249445</td>\n",
       "    </tr>\n",
       "    <tr>\n",
       "      <th>11</th>\n",
       "      <td>750</td>\n",
       "      <td>31-35</td>\n",
       "      <td>0.128114</td>\n",
       "    </tr>\n",
       "    <tr>\n",
       "      <th>12</th>\n",
       "      <td>750</td>\n",
       "      <td>36-40</td>\n",
       "      <td>0.097115</td>\n",
       "    </tr>\n",
       "    <tr>\n",
       "      <th>13</th>\n",
       "      <td>750</td>\n",
       "      <td>41-45</td>\n",
       "      <td>0.109646</td>\n",
       "    </tr>\n",
       "    <tr>\n",
       "      <th>14</th>\n",
       "      <td>750</td>\n",
       "      <td>46-50</td>\n",
       "      <td>0.198748</td>\n",
       "    </tr>\n",
       "    <tr>\n",
       "      <th>15</th>\n",
       "      <td>750</td>\n",
       "      <td>50+</td>\n",
       "      <td>0.296992</td>\n",
       "    </tr>\n",
       "    <tr>\n",
       "      <th>16</th>\n",
       "      <td>1000</td>\n",
       "      <td>0-20</td>\n",
       "      <td>0.206955</td>\n",
       "    </tr>\n",
       "    <tr>\n",
       "      <th>17</th>\n",
       "      <td>1000</td>\n",
       "      <td>21-25</td>\n",
       "      <td>0.190771</td>\n",
       "    </tr>\n",
       "    <tr>\n",
       "      <th>18</th>\n",
       "      <td>1000</td>\n",
       "      <td>26-30</td>\n",
       "      <td>0.191932</td>\n",
       "    </tr>\n",
       "    <tr>\n",
       "      <th>19</th>\n",
       "      <td>1000</td>\n",
       "      <td>31-35</td>\n",
       "      <td>0.069580</td>\n",
       "    </tr>\n",
       "    <tr>\n",
       "      <th>20</th>\n",
       "      <td>1000</td>\n",
       "      <td>36-40</td>\n",
       "      <td>0.035191</td>\n",
       "    </tr>\n",
       "    <tr>\n",
       "      <th>21</th>\n",
       "      <td>1000</td>\n",
       "      <td>41-45</td>\n",
       "      <td>0.067100</td>\n",
       "    </tr>\n",
       "    <tr>\n",
       "      <th>22</th>\n",
       "      <td>1000</td>\n",
       "      <td>46-50</td>\n",
       "      <td>0.171171</td>\n",
       "    </tr>\n",
       "    <tr>\n",
       "      <th>23</th>\n",
       "      <td>1000</td>\n",
       "      <td>50+</td>\n",
       "      <td>0.239130</td>\n",
       "    </tr>\n",
       "    <tr>\n",
       "      <th>24</th>\n",
       "      <td>1500</td>\n",
       "      <td>0-20</td>\n",
       "      <td>0.133663</td>\n",
       "    </tr>\n",
       "    <tr>\n",
       "      <th>25</th>\n",
       "      <td>1500</td>\n",
       "      <td>21-25</td>\n",
       "      <td>0.158784</td>\n",
       "    </tr>\n",
       "    <tr>\n",
       "      <th>26</th>\n",
       "      <td>1500</td>\n",
       "      <td>26-30</td>\n",
       "      <td>0.124706</td>\n",
       "    </tr>\n",
       "    <tr>\n",
       "      <th>27</th>\n",
       "      <td>1500</td>\n",
       "      <td>31-35</td>\n",
       "      <td>0.100313</td>\n",
       "    </tr>\n",
       "    <tr>\n",
       "      <th>28</th>\n",
       "      <td>1500</td>\n",
       "      <td>36-40</td>\n",
       "      <td>0.000000</td>\n",
       "    </tr>\n",
       "    <tr>\n",
       "      <th>29</th>\n",
       "      <td>1500</td>\n",
       "      <td>41-45</td>\n",
       "      <td>0.000000</td>\n",
       "    </tr>\n",
       "    <tr>\n",
       "      <th>30</th>\n",
       "      <td>1500</td>\n",
       "      <td>46-50</td>\n",
       "      <td>0.097561</td>\n",
       "    </tr>\n",
       "    <tr>\n",
       "      <th>31</th>\n",
       "      <td>1500</td>\n",
       "      <td>50+</td>\n",
       "      <td>0.176471</td>\n",
       "    </tr>\n",
       "  </tbody>\n",
       "</table>\n",
       "</div>"
      ],
      "text/plain": [
       "    cost age_bin    status\n",
       "0    500    0-20  0.286578\n",
       "1    500   21-25  0.283505\n",
       "2    500   26-30  0.255597\n",
       "3    500   31-35  0.165217\n",
       "4    500   36-40  0.175573\n",
       "5    500   41-45  0.191489\n",
       "6    500   46-50  0.285714\n",
       "7    500     50+  0.307692\n",
       "8    750    0-20  0.249445\n",
       "9    750   21-25  0.250124\n",
       "10   750   26-30  0.249445\n",
       "11   750   31-35  0.128114\n",
       "12   750   36-40  0.097115\n",
       "13   750   41-45  0.109646\n",
       "14   750   46-50  0.198748\n",
       "15   750     50+  0.296992\n",
       "16  1000    0-20  0.206955\n",
       "17  1000   21-25  0.190771\n",
       "18  1000   26-30  0.191932\n",
       "19  1000   31-35  0.069580\n",
       "20  1000   36-40  0.035191\n",
       "21  1000   41-45  0.067100\n",
       "22  1000   46-50  0.171171\n",
       "23  1000     50+  0.239130\n",
       "24  1500    0-20  0.133663\n",
       "25  1500   21-25  0.158784\n",
       "26  1500   26-30  0.124706\n",
       "27  1500   31-35  0.100313\n",
       "28  1500   36-40  0.000000\n",
       "29  1500   41-45  0.000000\n",
       "30  1500   46-50  0.097561\n",
       "31  1500     50+  0.176471"
      ]
     },
     "execution_count": 20,
     "metadata": {},
     "output_type": "execute_result"
    }
   ],
   "source": [
    "# кладем в новый столбец возрастную группу\n",
    "cost_age_data['age_bin'] = cost_age_data.age.apply(calculate_age_bins)\n",
    "\n",
    "# создаём агрегированный набор данных\n",
    "cost_age_data_agg = cost_age_data.groupby(['cost','age_bin'])['status'].mean().reset_index()\n",
    "cost_age_data_agg"
   ]
  },
  {
   "cell_type": "code",
   "execution_count": 21,
   "metadata": {
    "id": "yCrpExQH2a4Z"
   },
   "outputs": [
    {
     "data": {
      "text/html": [
       "<div>\n",
       "<style scoped>\n",
       "    .dataframe tbody tr th:only-of-type {\n",
       "        vertical-align: middle;\n",
       "    }\n",
       "\n",
       "    .dataframe tbody tr th {\n",
       "        vertical-align: top;\n",
       "    }\n",
       "\n",
       "    .dataframe thead th {\n",
       "        text-align: right;\n",
       "    }\n",
       "</style>\n",
       "<table border=\"1\" class=\"dataframe\">\n",
       "  <thead>\n",
       "    <tr style=\"text-align: right;\">\n",
       "      <th>cost</th>\n",
       "      <th>500</th>\n",
       "      <th>750</th>\n",
       "      <th>1000</th>\n",
       "      <th>1500</th>\n",
       "    </tr>\n",
       "    <tr>\n",
       "      <th>age_bin</th>\n",
       "      <th></th>\n",
       "      <th></th>\n",
       "      <th></th>\n",
       "      <th></th>\n",
       "    </tr>\n",
       "  </thead>\n",
       "  <tbody>\n",
       "    <tr>\n",
       "      <th>0-20</th>\n",
       "      <td>0.286578</td>\n",
       "      <td>0.249445</td>\n",
       "      <td>0.206955</td>\n",
       "      <td>0.133663</td>\n",
       "    </tr>\n",
       "    <tr>\n",
       "      <th>21-25</th>\n",
       "      <td>0.283505</td>\n",
       "      <td>0.250124</td>\n",
       "      <td>0.190771</td>\n",
       "      <td>0.158784</td>\n",
       "    </tr>\n",
       "    <tr>\n",
       "      <th>26-30</th>\n",
       "      <td>0.255597</td>\n",
       "      <td>0.249445</td>\n",
       "      <td>0.191932</td>\n",
       "      <td>0.124706</td>\n",
       "    </tr>\n",
       "    <tr>\n",
       "      <th>31-35</th>\n",
       "      <td>0.165217</td>\n",
       "      <td>0.128114</td>\n",
       "      <td>0.069580</td>\n",
       "      <td>0.100313</td>\n",
       "    </tr>\n",
       "    <tr>\n",
       "      <th>36-40</th>\n",
       "      <td>0.175573</td>\n",
       "      <td>0.097115</td>\n",
       "      <td>0.035191</td>\n",
       "      <td>0.000000</td>\n",
       "    </tr>\n",
       "    <tr>\n",
       "      <th>41-45</th>\n",
       "      <td>0.191489</td>\n",
       "      <td>0.109646</td>\n",
       "      <td>0.067100</td>\n",
       "      <td>0.000000</td>\n",
       "    </tr>\n",
       "    <tr>\n",
       "      <th>46-50</th>\n",
       "      <td>0.285714</td>\n",
       "      <td>0.198748</td>\n",
       "      <td>0.171171</td>\n",
       "      <td>0.097561</td>\n",
       "    </tr>\n",
       "    <tr>\n",
       "      <th>50+</th>\n",
       "      <td>0.307692</td>\n",
       "      <td>0.296992</td>\n",
       "      <td>0.239130</td>\n",
       "      <td>0.176471</td>\n",
       "    </tr>\n",
       "  </tbody>\n",
       "</table>\n",
       "</div>"
      ],
      "text/plain": [
       "cost         500       750       1000      1500\n",
       "age_bin                                        \n",
       "0-20     0.286578  0.249445  0.206955  0.133663\n",
       "21-25    0.283505  0.250124  0.190771  0.158784\n",
       "26-30    0.255597  0.249445  0.191932  0.124706\n",
       "31-35    0.165217  0.128114  0.069580  0.100313\n",
       "36-40    0.175573  0.097115  0.035191  0.000000\n",
       "41-45    0.191489  0.109646  0.067100  0.000000\n",
       "46-50    0.285714  0.198748  0.171171  0.097561\n",
       "50+      0.307692  0.296992  0.239130  0.176471"
      ]
     },
     "execution_count": 21,
     "metadata": {},
     "output_type": "execute_result"
    }
   ],
   "source": [
    "# напиши код здесь\n",
    "fail_cost_age = cost_age_data_agg.pivot(index=\"age_bin\", \n",
    "                                        columns=\"cost\", \n",
    "                                        values=\"status\")\n",
    "fail_cost_age"
   ]
  },
  {
   "cell_type": "code",
   "execution_count": 22,
   "metadata": {},
   "outputs": [
    {
     "data": {
      "image/png": "[encoded data removed]",
      "text/plain": [
       "<Figure size 720x576 with 2 Axes>"
      ]
     },
     "metadata": {
      "needs_background": "light"
     },
     "output_type": "display_data"
    }
   ],
   "source": [
    "plt.figure(figsize=(10,8))\n",
    "sns.heatmap(fail_cost_age, \n",
    "            annot=True, \n",
    "            cmap=\"YlGnBu\")\n",
    "plt.title(\"Вероятность прогула в зависимости от возраста и цены занятия\")\n",
    "plt.ylabel(\"Возраст\")\n",
    "plt.xlabel(\"цена\")\n",
    "plt.show()"
   ]
  },
  {
   "cell_type": "markdown",
   "metadata": {},
   "source": [
    "## Наблюдения\n",
    "Наибольшая доля прогулов наблюдается при самой низкой цене занятия в наиболее молодых и наиболее пожилых группах клиентов. Меньше всего вероятность прогула у клиентов средних возрастных групп 36 - 40 и 41 - 45 при цене занятия 1500 руб. В целом для всех возрастных групп четко видна зависимость уменьшения вероятности прогула при увеличении цены занятия."
   ]
  },
  {
   "cell_type": "markdown",
   "metadata": {
    "id": "GNIl4szG2a4a"
   },
   "source": [
    "## EXTRA\n",
    "\n",
    "Если остались силы, сделай дополнительное задание по желанию. Основная его сложность в том, что нужно построить bar chart, а на занятии функцию этого графика мы не проходили. Но найти информацию самостоятельно будет совсем не сложно. \n",
    "\n",
    "**Чтобы углубиться в данные, построй bar chart количества тренировок по дням недели (с понедельника по воскресенье) и отобрази горизонтальной линией на графике среднее количество тренировок  в день.**\n",
    "\n",
    "Как это сделать:\n",
    "1. Внимательно изучи код, который мы подготовили, и запусти ячейки. Что мы сделалали:\n",
    "    - вернули индекс внутри датафрейма\n",
    "    - переименовали столбцы, чтобы они соответствовали содержимому\n",
    "    - добавили столбец с номером дня недели с помощью `dt.weekday`\n",
    "    \n",
    "    - добавили столбец с названием дня недели с помощью `dt.day_name()`\n",
    "    \n",
    "\n",
    "2. Cгруппируй данные колонки `week_day_num` по `workouts` с подсчетом среднего.\n",
    "3. Построй bar chart. Можешь добавить любые агрументы, но обязательно используй вот эти:\n",
    "\n",
    "    - размер графика\n",
    "    - название графика\n",
    "    - подпись оси `X`\n",
    "    \n",
    "    - подпись оси `Y`\n",
    "    - задай цвет на графике\n",
    "    \n",
    "\n",
    "4. Добавь горизонтальную линию, параллельную оси `X`, со значением `y` равным средним количеством тренировок в день. Если не помнишь, как это делать, смело смотри шпаргалку – там ты найдешь все детали.\n",
    "5. Если еще осталось желание исследовать новое, можешь добавить на график название дней недели, задав их с помощью метода `plt.xticks`, его ты легко найдешь в документации. \n",
    "6. Оставь комментарий: что ты видишь на графике? \n",
    "\n",
    "**Подготовим данные**"
   ]
  },
  {
   "cell_type": "code",
   "execution_count": 23,
   "metadata": {
    "id": "jFmrNufe2a4a"
   },
   "outputs": [
    {
     "data": {
      "text/plain": [
       "start_at\n",
       "2020-01-01      1\n",
       "2020-01-02      4\n",
       "2020-01-03      5\n",
       "2020-01-04      5\n",
       "2020-01-05      9\n",
       "             ... \n",
       "2020-12-04    365\n",
       "2020-12-05    292\n",
       "2020-12-06    250\n",
       "2020-12-07    451\n",
       "2020-12-08      3\n",
       "Freq: D, Name: workout_id, Length: 343, dtype: int64"
      ]
     },
     "execution_count": 23,
     "metadata": {},
     "output_type": "execute_result"
    }
   ],
   "source": [
    "trainings_by_day # посмотрим, в каком формате лежат нужные данные"
   ]
  },
  {
   "cell_type": "code",
   "execution_count": 24,
   "metadata": {
    "id": "KXngVWFy2a4b"
   },
   "outputs": [
    {
     "data": {
      "text/html": [
       "<div>\n",
       "<style scoped>\n",
       "    .dataframe tbody tr th:only-of-type {\n",
       "        vertical-align: middle;\n",
       "    }\n",
       "\n",
       "    .dataframe tbody tr th {\n",
       "        vertical-align: top;\n",
       "    }\n",
       "\n",
       "    .dataframe thead th {\n",
       "        text-align: right;\n",
       "    }\n",
       "</style>\n",
       "<table border=\"1\" class=\"dataframe\">\n",
       "  <thead>\n",
       "    <tr style=\"text-align: right;\">\n",
       "      <th></th>\n",
       "      <th>workouts_date</th>\n",
       "      <th>workouts</th>\n",
       "      <th>week_day_num</th>\n",
       "      <th>week_day_name</th>\n",
       "    </tr>\n",
       "  </thead>\n",
       "  <tbody>\n",
       "    <tr>\n",
       "      <th>0</th>\n",
       "      <td>2020-01-01</td>\n",
       "      <td>1</td>\n",
       "      <td>2</td>\n",
       "      <td>Wednesday</td>\n",
       "    </tr>\n",
       "    <tr>\n",
       "      <th>1</th>\n",
       "      <td>2020-01-02</td>\n",
       "      <td>4</td>\n",
       "      <td>3</td>\n",
       "      <td>Thursday</td>\n",
       "    </tr>\n",
       "    <tr>\n",
       "      <th>2</th>\n",
       "      <td>2020-01-03</td>\n",
       "      <td>5</td>\n",
       "      <td>4</td>\n",
       "      <td>Friday</td>\n",
       "    </tr>\n",
       "    <tr>\n",
       "      <th>3</th>\n",
       "      <td>2020-01-04</td>\n",
       "      <td>5</td>\n",
       "      <td>5</td>\n",
       "      <td>Saturday</td>\n",
       "    </tr>\n",
       "    <tr>\n",
       "      <th>4</th>\n",
       "      <td>2020-01-05</td>\n",
       "      <td>9</td>\n",
       "      <td>6</td>\n",
       "      <td>Sunday</td>\n",
       "    </tr>\n",
       "    <tr>\n",
       "      <th>...</th>\n",
       "      <td>...</td>\n",
       "      <td>...</td>\n",
       "      <td>...</td>\n",
       "      <td>...</td>\n",
       "    </tr>\n",
       "    <tr>\n",
       "      <th>338</th>\n",
       "      <td>2020-12-04</td>\n",
       "      <td>365</td>\n",
       "      <td>4</td>\n",
       "      <td>Friday</td>\n",
       "    </tr>\n",
       "    <tr>\n",
       "      <th>339</th>\n",
       "      <td>2020-12-05</td>\n",
       "      <td>292</td>\n",
       "      <td>5</td>\n",
       "      <td>Saturday</td>\n",
       "    </tr>\n",
       "    <tr>\n",
       "      <th>340</th>\n",
       "      <td>2020-12-06</td>\n",
       "      <td>250</td>\n",
       "      <td>6</td>\n",
       "      <td>Sunday</td>\n",
       "    </tr>\n",
       "    <tr>\n",
       "      <th>341</th>\n",
       "      <td>2020-12-07</td>\n",
       "      <td>451</td>\n",
       "      <td>0</td>\n",
       "      <td>Monday</td>\n",
       "    </tr>\n",
       "    <tr>\n",
       "      <th>342</th>\n",
       "      <td>2020-12-08</td>\n",
       "      <td>3</td>\n",
       "      <td>1</td>\n",
       "      <td>Tuesday</td>\n",
       "    </tr>\n",
       "  </tbody>\n",
       "</table>\n",
       "<p>343 rows × 4 columns</p>\n",
       "</div>"
      ],
      "text/plain": [
       "    workouts_date  workouts  week_day_num week_day_name\n",
       "0      2020-01-01         1             2     Wednesday\n",
       "1      2020-01-02         4             3      Thursday\n",
       "2      2020-01-03         5             4        Friday\n",
       "3      2020-01-04         5             5      Saturday\n",
       "4      2020-01-05         9             6        Sunday\n",
       "..            ...       ...           ...           ...\n",
       "338    2020-12-04       365             4        Friday\n",
       "339    2020-12-05       292             5      Saturday\n",
       "340    2020-12-06       250             6        Sunday\n",
       "341    2020-12-07       451             0        Monday\n",
       "342    2020-12-08         3             1       Tuesday\n",
       "\n",
       "[343 rows x 4 columns]"
      ]
     },
     "execution_count": 24,
     "metadata": {},
     "output_type": "execute_result"
    }
   ],
   "source": [
    "trainings_by_day_frame = trainings_by_day.reset_index() # сбросим индекс\n",
    "trainings_by_day_frame.columns=['workouts_date', 'workouts'] # переименуем столбцы, чтобы названия соответствовали содержимому\n",
    "trainings_by_day_frame['week_day_num'] = trainings_by_day_frame['workouts_date'].dt.weekday # добавим номер дня недели\n",
    "trainings_by_day_frame['week_day_name'] = trainings_by_day_frame['workouts_date'].dt.day_name() # добавим название дня недели\n",
    "trainings_by_day_frame"
   ]
  },
  {
   "cell_type": "markdown",
   "metadata": {
    "id": "MWkqIQe32a4b"
   },
   "source": [
    "Мы видим, что нумерация начинается с 0 до 6. Чтобы дни недели выглядели привычнее, добавим к номеру дня 1."
   ]
  },
  {
   "cell_type": "code",
   "execution_count": 25,
   "metadata": {
    "id": "FwXlZjv42a4c"
   },
   "outputs": [],
   "source": [
    "trainings_by_day_frame['week_day_num'] += 1 \n",
    "trainings_by_day_frame.sort_values('week_day_num', inplace=True)"
   ]
  },
  {
   "cell_type": "code",
   "execution_count": 26,
   "metadata": {
    "id": "DvoQRVs72a4c"
   },
   "outputs": [
    {
     "data": {
      "image/png": "[encoded data removed]",
      "text/plain": [
       "<Figure size 1080x360 with 1 Axes>"
      ]
     },
     "metadata": {
      "needs_background": "light"
     },
     "output_type": "display_data"
    }
   ],
   "source": [
    "# напиши код здесь\n",
    "plt.figure(figsize=(15,5)) #\n",
    "plt.grid()\n",
    "plt.title('Распределение количества тренировок по дням недели')\n",
    "plt.xlabel('День недели')\n",
    "plt.ylabel('Количество тренировок')\n",
    "plt.bar(trainings_by_day_frame['week_day_name'],\n",
    "        trainings_by_day_frame['workouts'],\n",
    "        width = 0.5)\n",
    "plt.show()"
   ]
  },
  {
   "cell_type": "markdown",
   "metadata": {
    "id": "d8ReOsxd2a4d"
   },
   "source": [
    "# 🎉🎉🎉 Поздравляем, ты великолепен! "
   ]
  }
 ],
 "metadata": {
  "colab": {
   "name": "Skills_Python_3.1_homework.ipynb",
   "provenance": []
  },
  "kernelspec": {
   "display_name": "Python 3 (ipykernel)",
   "language": "python",
   "name": "python3"
  },
  "language_info": {
   "codemirror_mode": {
    "name": "ipython",
    "version": 3
   },
   "file_extension": ".py",
   "mimetype": "text/x-python",
   "name": "python",
   "nbconvert_exporter": "python",
   "pygments_lexer": "ipython3",
   "version": "3.9.7"
  }
 },
 "nbformat": 4,
 "nbformat_minor": 1
}
