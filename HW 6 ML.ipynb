{
 "cells": [
  {
   "cell_type": "code",
   "execution_count": 1,
   "id": "683bd3d2",
   "metadata": {},
   "outputs": [],
   "source": [
    "# Importing the libraries \n",
    "import pandas as pd\n",
    "import numpy as np\n",
    "from sklearn import metrics\n",
    "import matplotlib.pyplot as plt\n",
    "import seaborn as sns\n",
    "%matplotlib inline"
   ]
  },
  {
   "cell_type": "markdown",
   "id": "f258cc04",
   "metadata": {},
   "source": [
    "Требуется исследовать, зависит ли факт провала клиента в просрочку от набора признаков. Постройте дерево решений и сделайте вывод о взаимосвязях. Факт провала в просрочку (таргет-величина) представлена колонкой flag_coll (1 - провалился в просрочку, 0 - не провалился в просрочку)\n",
    "**Описание признаков:**\n",
    "\n",
    "- amt_credit - Размер выданного кредита\n",
    "- bki - Размер внешнего долга по Бюро Кредитный Историй\n",
    "- age - возраст клиента (полных лет)\n",
    "- is_educ - флаг, показывающий, есть ли у клиента высшее образование\n",
    "- cl_segm - клиентский сегмент (качество клиента, от 1 до 4)\n",
    "- credit_type - кредитный продукт\n",
    "    - CC - Credit Card (Кредитная карта)\n",
    "    - POS - потребительский кредит\n",
    "- fssp - размер долга, переданный в Федеральную Службу Судебных Приставов\n",
    "- cnt_closed_contract - кол-во уже закрытых клиентом контрактов в нашем банке\n",
    "- is_cellphone - флаг, показывающий, есть ли у клиента подтвержденный номер мобильного телефона"
   ]
  },
  {
   "cell_type": "code",
   "execution_count": 2,
   "id": "80e82e74",
   "metadata": {},
   "outputs": [],
   "source": [
    "bancs = pd.read_csv('Датасет банки.csv', sep = ';')\n"
   ]
  },
  {
   "cell_type": "code",
   "execution_count": 3,
   "id": "b2773693",
   "metadata": {},
   "outputs": [
    {
     "name": "stdout",
     "output_type": "stream",
     "text": [
      "<class 'pandas.core.frame.DataFrame'>\n",
      "RangeIndex: 9568 entries, 0 to 9567\n",
      "Data columns (total 11 columns):\n",
      " #   Column               Non-Null Count  Dtype  \n",
      "---  ------               --------------  -----  \n",
      " 0   id_client            9568 non-null   int64  \n",
      " 1   flag_coll            9406 non-null   float64\n",
      " 2   amt_credit           9361 non-null   float64\n",
      " 3   bki                  9361 non-null   float64\n",
      " 4   age                  9361 non-null   float64\n",
      " 5   is_educ              9361 non-null   float64\n",
      " 6   cl_segm              9361 non-null   float64\n",
      " 7   credit_type          9361 non-null   object \n",
      " 8   fssp                 9361 non-null   float64\n",
      " 9   cnt_closed_contract  9361 non-null   float64\n",
      " 10  is_cellphone         9361 non-null   float64\n",
      "dtypes: float64(9), int64(1), object(1)\n",
      "memory usage: 822.4+ KB\n"
     ]
    }
   ],
   "source": [
    "bancs.info()"
   ]
  },
  {
   "cell_type": "code",
   "execution_count": 4,
   "id": "740d4086",
   "metadata": {},
   "outputs": [],
   "source": [
    "train_bancs = bancs.dropna()"
   ]
  },
  {
   "cell_type": "code",
   "execution_count": 5,
   "id": "7151f129",
   "metadata": {},
   "outputs": [
    {
     "name": "stdout",
     "output_type": "stream",
     "text": [
      "<class 'pandas.core.frame.DataFrame'>\n",
      "Int64Index: 9361 entries, 0 to 9360\n",
      "Data columns (total 11 columns):\n",
      " #   Column               Non-Null Count  Dtype  \n",
      "---  ------               --------------  -----  \n",
      " 0   id_client            9361 non-null   int64  \n",
      " 1   flag_coll            9361 non-null   float64\n",
      " 2   amt_credit           9361 non-null   float64\n",
      " 3   bki                  9361 non-null   float64\n",
      " 4   age                  9361 non-null   float64\n",
      " 5   is_educ              9361 non-null   float64\n",
      " 6   cl_segm              9361 non-null   float64\n",
      " 7   credit_type          9361 non-null   object \n",
      " 8   fssp                 9361 non-null   float64\n",
      " 9   cnt_closed_contract  9361 non-null   float64\n",
      " 10  is_cellphone         9361 non-null   float64\n",
      "dtypes: float64(9), int64(1), object(1)\n",
      "memory usage: 877.6+ KB\n"
     ]
    }
   ],
   "source": [
    "train_bancs.info()"
   ]
  },
  {
   "cell_type": "code",
   "execution_count": 6,
   "id": "278d8a7e",
   "metadata": {},
   "outputs": [
    {
     "data": {
      "text/plain": [
       "array([ 1.,  0., -1.])"
      ]
     },
     "execution_count": 6,
     "metadata": {},
     "output_type": "execute_result"
    }
   ],
   "source": [
    "train_bancs['flag_coll'].unique()"
   ]
  },
  {
   "cell_type": "markdown",
   "id": "43e6023c",
   "metadata": {},
   "source": [
    "В значениях таргет-величины есть странные значения -1. Тогда как должны быть только 0 и 1. Оставим только их."
   ]
  },
  {
   "cell_type": "code",
   "execution_count": 7,
   "id": "b3634962",
   "metadata": {
    "scrolled": true
   },
   "outputs": [],
   "source": [
    "train_bancs = train_bancs.loc[train_bancs['flag_coll'] != -1]"
   ]
  },
  {
   "cell_type": "code",
   "execution_count": 8,
   "id": "3227ad73",
   "metadata": {},
   "outputs": [
    {
     "data": {
      "text/plain": [
       "<AxesSubplot:xlabel='is_educ', ylabel='count'>"
      ]
     },
     "execution_count": 8,
     "metadata": {},
     "output_type": "execute_result"
    },
    {
     "data": {
      "image/png": "[encoded data removed]",
      "text/plain": [
       "<Figure size 432x288 with 1 Axes>"
      ]
     },
     "metadata": {
      "needs_background": "light"
     },
     "output_type": "display_data"
    }
   ],
   "source": [
    "sns.countplot(x='is_educ', data=train_bancs)\n"
   ]
  },
  {
   "cell_type": "code",
   "execution_count": 9,
   "id": "824a7a12",
   "metadata": {},
   "outputs": [
    {
     "data": {
      "text/plain": [
       "<AxesSubplot:xlabel='cl_segm', ylabel='count'>"
      ]
     },
     "execution_count": 9,
     "metadata": {},
     "output_type": "execute_result"
    },
    {
     "data": {
      "image/png": "[encoded data removed]",
      "text/plain": [
       "<Figure size 432x288 with 1 Axes>"
      ]
     },
     "metadata": {
      "needs_background": "light"
     },
     "output_type": "display_data"
    }
   ],
   "source": [
    "sns.countplot(x='cl_segm', data=train_bancs)\n"
   ]
  },
  {
   "cell_type": "code",
   "execution_count": 10,
   "id": "2138f5af",
   "metadata": {},
   "outputs": [
    {
     "data": {
      "text/plain": [
       "<AxesSubplot:xlabel='credit_type', ylabel='count'>"
      ]
     },
     "execution_count": 10,
     "metadata": {},
     "output_type": "execute_result"
    },
    {
     "data": {
      "image/png": "[encoded data removed]",
      "text/plain": [
       "<Figure size 432x288 with 1 Axes>"
      ]
     },
     "metadata": {
      "needs_background": "light"
     },
     "output_type": "display_data"
    }
   ],
   "source": [
    "sns.countplot(x='credit_type', data=train_bancs)\n"
   ]
  },
  {
   "cell_type": "code",
   "execution_count": 11,
   "id": "ff32d0bf",
   "metadata": {},
   "outputs": [
    {
     "data": {
      "text/plain": [
       "<AxesSubplot:xlabel='is_cellphone', ylabel='count'>"
      ]
     },
     "execution_count": 11,
     "metadata": {},
     "output_type": "execute_result"
    },
    {
     "data": {
      "image/png": "[encoded data removed]",
      "text/plain": [
       "<Figure size 432x288 with 1 Axes>"
      ]
     },
     "metadata": {
      "needs_background": "light"
     },
     "output_type": "display_data"
    }
   ],
   "source": [
    "sns.countplot(x='is_cellphone', data=train_bancs)\n"
   ]
  },
  {
   "cell_type": "code",
   "execution_count": 12,
   "id": "c17fe1ed",
   "metadata": {},
   "outputs": [],
   "source": [
    "train_bancs.rename(columns = {'flag_coll':'delay'}, inplace = True)"
   ]
  },
  {
   "cell_type": "code",
   "execution_count": 13,
   "id": "178f44e2",
   "metadata": {},
   "outputs": [],
   "source": [
    "# new feature\n",
    "train_bancs['no_delay'] = 1 - train_bancs['delay']"
   ]
  },
  {
   "cell_type": "code",
   "execution_count": 14,
   "id": "bb5914f4",
   "metadata": {},
   "outputs": [
    {
     "data": {
      "text/plain": [
       "<AxesSubplot:xlabel='is_educ'>"
      ]
     },
     "execution_count": 14,
     "metadata": {},
     "output_type": "execute_result"
    },
    {
     "data": {
      "image/png": "[encoded data removed]",
      "text/plain": [
       "<Figure size 720x360 with 1 Axes>"
      ]
     },
     "metadata": {
      "needs_background": "light"
     },
     "output_type": "display_data"
    }
   ],
   "source": [
    "train_bancs.groupby('is_educ').agg('sum')[['delay', 'no_delay']].plot(kind='bar',\n",
    "                                                           figsize=(10, 5),\n",
    "                                                           stacked=True)"
   ]
  },
  {
   "cell_type": "code",
   "execution_count": 15,
   "id": "9dfc3f3e",
   "metadata": {},
   "outputs": [
    {
     "data": {
      "text/plain": [
       "<AxesSubplot:xlabel='is_educ'>"
      ]
     },
     "execution_count": 15,
     "metadata": {},
     "output_type": "execute_result"
    },
    {
     "data": {
      "image/png": "[encoded data removed]",
      "text/plain": [
       "<Figure size 720x360 with 1 Axes>"
      ]
     },
     "metadata": {
      "needs_background": "light"
     },
     "output_type": "display_data"
    }
   ],
   "source": [
    "train_bancs.groupby('is_educ').agg('mean')[['delay', 'no_delay']].plot(kind='bar',\n",
    "                                                            figsize=(10, 5),\n",
    "                                                            stacked=True)"
   ]
  },
  {
   "cell_type": "code",
   "execution_count": 18,
   "id": "53d979cd",
   "metadata": {},
   "outputs": [
    {
     "data": {
      "text/plain": [
       "<AxesSubplot:xlabel='cl_segm'>"
      ]
     },
     "execution_count": 18,
     "metadata": {},
     "output_type": "execute_result"
    },
    {
     "data": {
      "image/png": "[encoded data removed]",
      "text/plain": [
       "<Figure size 720x360 with 1 Axes>"
      ]
     },
     "metadata": {
      "needs_background": "light"
     },
     "output_type": "display_data"
    }
   ],
   "source": [
    "train_bancs.groupby('cl_segm').agg('mean')[['delay', 'no_delay']].plot(kind='bar',\n",
    "                                                            figsize=(10, 5),\n",
    "                                                            stacked=True)"
   ]
  },
  {
   "cell_type": "code",
   "execution_count": 19,
   "id": "0d200cf7",
   "metadata": {},
   "outputs": [
    {
     "data": {
      "text/plain": [
       "<AxesSubplot:xlabel='credit_type'>"
      ]
     },
     "execution_count": 19,
     "metadata": {},
     "output_type": "execute_result"
    },
    {
     "data": {
      "image/png": "[encoded data removed]",
      "text/plain": [
       "<Figure size 720x360 with 1 Axes>"
      ]
     },
     "metadata": {
      "needs_background": "light"
     },
     "output_type": "display_data"
    }
   ],
   "source": [
    "train_bancs.groupby('credit_type').agg('mean')[['delay', 'no_delay']].plot(kind='bar',\n",
    "                                                            figsize=(10, 5),\n",
    "                                                            stacked=True)"
   ]
  },
  {
   "cell_type": "code",
   "execution_count": 20,
   "id": "5cc23245",
   "metadata": {},
   "outputs": [
    {
     "data": {
      "text/plain": [
       "<AxesSubplot:xlabel='is_cellphone'>"
      ]
     },
     "execution_count": 20,
     "metadata": {},
     "output_type": "execute_result"
    },
    {
     "data": {
      "image/png": "[encoded data removed]",
      "text/plain": [
       "<Figure size 720x360 with 1 Axes>"
      ]
     },
     "metadata": {
      "needs_background": "light"
     },
     "output_type": "display_data"
    }
   ],
   "source": [
    "train_bancs.groupby('is_cellphone').agg('mean')[['delay', 'no_delay']].plot(kind='bar',\n",
    "                                                            figsize=(10, 5),\n",
    "                                                            stacked=True)"
   ]
  },
  {
   "cell_type": "code",
   "execution_count": 25,
   "id": "0f3cfa6e",
   "metadata": {},
   "outputs": [
    {
     "data": {
      "text/plain": [
       "<matplotlib.legend.Legend at 0x1cdcc5b5dc0>"
      ]
     },
     "execution_count": 25,
     "metadata": {},
     "output_type": "execute_result"
    },
    {
     "data": {
      "image/png": "[encoded data removed]",
      "text/plain": [
       "<Figure size 1152x504 with 1 Axes>"
      ]
     },
     "metadata": {
      "needs_background": "light"
     },
     "output_type": "display_data"
    }
   ],
   "source": [
    "figure = plt.figure(figsize=(16, 7))\n",
    "plt.hist([train_bancs[train_bancs['delay'] == 1]['bki'], train_bancs[train_bancs['delay'] == 0]['bki']], \n",
    "         stacked=True, bins = 20, label = ['dalay','no_delay'])\n",
    "plt.xlabel('external debt BKI')\n",
    "plt.ylabel('Number of clients')\n",
    "plt.legend()"
   ]
  },
  {
   "cell_type": "code",
   "execution_count": 24,
   "id": "0797f6f4",
   "metadata": {},
   "outputs": [
    {
     "data": {
      "text/plain": [
       "<matplotlib.legend.Legend at 0x1cdcc29db80>"
      ]
     },
     "execution_count": 24,
     "metadata": {},
     "output_type": "execute_result"
    },
    {
     "data": {
      "image/png": "[encoded data removed]",
      "text/plain": [
       "<Figure size 1152x504 with 1 Axes>"
      ]
     },
     "metadata": {
      "needs_background": "light"
     },
     "output_type": "display_data"
    }
   ],
   "source": [
    "figure = plt.figure(figsize=(16, 7))\n",
    "plt.hist([train_bancs[train_bancs['delay'] == 1]['age'], train_bancs[train_bancs['delay'] == 0]['age']], \n",
    "         stacked=True, bins = 50, label = ['dalay','no_delay'])\n",
    "plt.xlabel('Age')\n",
    "plt.ylabel('Number of clients')\n",
    "plt.legend()"
   ]
  },
  {
   "cell_type": "code",
   "execution_count": 27,
   "id": "5a1a07f5",
   "metadata": {},
   "outputs": [
    {
     "data": {
      "text/plain": [
       "<matplotlib.legend.Legend at 0x1cdccca20d0>"
      ]
     },
     "execution_count": 27,
     "metadata": {},
     "output_type": "execute_result"
    },
    {
     "data": {
      "image/png": "[encoded data removed]",
      "text/plain": [
       "<Figure size 1152x504 with 1 Axes>"
      ]
     },
     "metadata": {
      "needs_background": "light"
     },
     "output_type": "display_data"
    }
   ],
   "source": [
    "figure = plt.figure(figsize=(16, 7))\n",
    "plt.hist([train_bancs[train_bancs['delay'] == 1]['fssp'], train_bancs[train_bancs['delay'] == 0]['fssp']], \n",
    "         stacked=True, bins = 20, label = ['dalay','no_delay'])\n",
    "plt.xlabel('Debt at FSSP')\n",
    "plt.ylabel('Number of clients')\n",
    "plt.legend()"
   ]
  },
  {
   "cell_type": "code",
   "execution_count": 32,
   "id": "501533bd",
   "metadata": {},
   "outputs": [
    {
     "data": {
      "text/plain": [
       "<matplotlib.legend.Legend at 0x1cdccd37b20>"
      ]
     },
     "execution_count": 32,
     "metadata": {},
     "output_type": "execute_result"
    },
    {
     "data": {
      "image/png": "[encoded data removed]",
      "text/plain": [
       "<Figure size 1152x504 with 1 Axes>"
      ]
     },
     "metadata": {
      "needs_background": "light"
     },
     "output_type": "display_data"
    }
   ],
   "source": [
    "figure = plt.figure(figsize=(16, 7))\n",
    "plt.hist([train_bancs[train_bancs['delay'] == 1]['amt_credit'], train_bancs[train_bancs['delay'] == 0]['amt_credit']], \n",
    "         stacked=True, bins = 20, label = ['dalay','no_delay'])\n",
    "plt.xlabel('Credit amount')\n",
    "plt.ylabel('Number of clients')\n",
    "plt.legend()"
   ]
  },
  {
   "cell_type": "code",
   "execution_count": 28,
   "id": "e4ca12a4",
   "metadata": {},
   "outputs": [
    {
     "data": {
      "text/plain": [
       "<matplotlib.legend.Legend at 0x1cdccd4da60>"
      ]
     },
     "execution_count": 28,
     "metadata": {},
     "output_type": "execute_result"
    },
    {
     "data": {
      "image/png": "[encoded data removed]",
      "text/plain": [
       "<Figure size 1152x504 with 1 Axes>"
      ]
     },
     "metadata": {
      "needs_background": "light"
     },
     "output_type": "display_data"
    }
   ],
   "source": [
    "figure = plt.figure(figsize=(16, 7))\n",
    "plt.hist([train_bancs[train_bancs['delay'] == 1]['cnt_closed_contract'], train_bancs[train_bancs['delay'] == 0]['cnt_closed_contract']], \n",
    "         stacked=True, bins = 20, label = ['dalay','no_delay'])\n",
    "plt.xlabel('Number of closed contracts')\n",
    "plt.ylabel('Number of clients')\n",
    "plt.legend()"
   ]
  },
  {
   "cell_type": "code",
   "execution_count": 29,
   "id": "8b4ac7b0",
   "metadata": {},
   "outputs": [
    {
     "data": {
      "text/html": [
       "<div>\n",
       "<style scoped>\n",
       "    .dataframe tbody tr th:only-of-type {\n",
       "        vertical-align: middle;\n",
       "    }\n",
       "\n",
       "    .dataframe tbody tr th {\n",
       "        vertical-align: top;\n",
       "    }\n",
       "\n",
       "    .dataframe thead th {\n",
       "        text-align: right;\n",
       "    }\n",
       "</style>\n",
       "<table border=\"1\" class=\"dataframe\">\n",
       "  <thead>\n",
       "    <tr style=\"text-align: right;\">\n",
       "      <th></th>\n",
       "      <th>id_client</th>\n",
       "      <th>delay</th>\n",
       "      <th>amt_credit</th>\n",
       "      <th>bki</th>\n",
       "      <th>age</th>\n",
       "      <th>is_educ</th>\n",
       "      <th>cl_segm</th>\n",
       "      <th>credit_type</th>\n",
       "      <th>fssp</th>\n",
       "      <th>cnt_closed_contract</th>\n",
       "      <th>is_cellphone</th>\n",
       "      <th>no_delay</th>\n",
       "    </tr>\n",
       "  </thead>\n",
       "  <tbody>\n",
       "    <tr>\n",
       "      <th>0</th>\n",
       "      <td>1000001</td>\n",
       "      <td>1.0</td>\n",
       "      <td>225000.0</td>\n",
       "      <td>26395.0</td>\n",
       "      <td>68.0</td>\n",
       "      <td>0.0</td>\n",
       "      <td>2.0</td>\n",
       "      <td>CC</td>\n",
       "      <td>0.0</td>\n",
       "      <td>0.0</td>\n",
       "      <td>0.0</td>\n",
       "      <td>0.0</td>\n",
       "    </tr>\n",
       "    <tr>\n",
       "      <th>1</th>\n",
       "      <td>1000002</td>\n",
       "      <td>0.0</td>\n",
       "      <td>75000.0</td>\n",
       "      <td>89146.0</td>\n",
       "      <td>69.0</td>\n",
       "      <td>1.0</td>\n",
       "      <td>2.0</td>\n",
       "      <td>POS</td>\n",
       "      <td>0.0</td>\n",
       "      <td>1.0</td>\n",
       "      <td>1.0</td>\n",
       "      <td>1.0</td>\n",
       "    </tr>\n",
       "    <tr>\n",
       "      <th>2</th>\n",
       "      <td>1000003</td>\n",
       "      <td>0.0</td>\n",
       "      <td>10000.0</td>\n",
       "      <td>35635.0</td>\n",
       "      <td>56.0</td>\n",
       "      <td>1.0</td>\n",
       "      <td>3.0</td>\n",
       "      <td>CC</td>\n",
       "      <td>0.0</td>\n",
       "      <td>0.0</td>\n",
       "      <td>1.0</td>\n",
       "      <td>1.0</td>\n",
       "    </tr>\n",
       "    <tr>\n",
       "      <th>3</th>\n",
       "      <td>1000004</td>\n",
       "      <td>0.0</td>\n",
       "      <td>400000.0</td>\n",
       "      <td>60715.0</td>\n",
       "      <td>36.0</td>\n",
       "      <td>1.0</td>\n",
       "      <td>2.0</td>\n",
       "      <td>POS</td>\n",
       "      <td>0.0</td>\n",
       "      <td>0.0</td>\n",
       "      <td>0.0</td>\n",
       "      <td>1.0</td>\n",
       "    </tr>\n",
       "    <tr>\n",
       "      <th>4</th>\n",
       "      <td>1000005</td>\n",
       "      <td>1.0</td>\n",
       "      <td>175000.0</td>\n",
       "      <td>38110.0</td>\n",
       "      <td>48.0</td>\n",
       "      <td>0.0</td>\n",
       "      <td>2.0</td>\n",
       "      <td>POS</td>\n",
       "      <td>0.0</td>\n",
       "      <td>1.0</td>\n",
       "      <td>1.0</td>\n",
       "      <td>0.0</td>\n",
       "    </tr>\n",
       "    <tr>\n",
       "      <th>...</th>\n",
       "      <td>...</td>\n",
       "      <td>...</td>\n",
       "      <td>...</td>\n",
       "      <td>...</td>\n",
       "      <td>...</td>\n",
       "      <td>...</td>\n",
       "      <td>...</td>\n",
       "      <td>...</td>\n",
       "      <td>...</td>\n",
       "      <td>...</td>\n",
       "      <td>...</td>\n",
       "      <td>...</td>\n",
       "    </tr>\n",
       "    <tr>\n",
       "      <th>9356</th>\n",
       "      <td>1009357</td>\n",
       "      <td>0.0</td>\n",
       "      <td>125000.0</td>\n",
       "      <td>0.0</td>\n",
       "      <td>53.0</td>\n",
       "      <td>1.0</td>\n",
       "      <td>2.0</td>\n",
       "      <td>CC</td>\n",
       "      <td>0.0</td>\n",
       "      <td>1.0</td>\n",
       "      <td>1.0</td>\n",
       "      <td>1.0</td>\n",
       "    </tr>\n",
       "    <tr>\n",
       "      <th>9357</th>\n",
       "      <td>1009358</td>\n",
       "      <td>0.0</td>\n",
       "      <td>200000.0</td>\n",
       "      <td>0.0</td>\n",
       "      <td>63.0</td>\n",
       "      <td>1.0</td>\n",
       "      <td>3.0</td>\n",
       "      <td>CC</td>\n",
       "      <td>0.0</td>\n",
       "      <td>0.0</td>\n",
       "      <td>1.0</td>\n",
       "      <td>1.0</td>\n",
       "    </tr>\n",
       "    <tr>\n",
       "      <th>9358</th>\n",
       "      <td>1009359</td>\n",
       "      <td>0.0</td>\n",
       "      <td>700000.0</td>\n",
       "      <td>43638.0</td>\n",
       "      <td>51.0</td>\n",
       "      <td>0.0</td>\n",
       "      <td>1.0</td>\n",
       "      <td>POS</td>\n",
       "      <td>0.0</td>\n",
       "      <td>0.0</td>\n",
       "      <td>1.0</td>\n",
       "      <td>1.0</td>\n",
       "    </tr>\n",
       "    <tr>\n",
       "      <th>9359</th>\n",
       "      <td>1009360</td>\n",
       "      <td>0.0</td>\n",
       "      <td>100000.0</td>\n",
       "      <td>0.0</td>\n",
       "      <td>26.0</td>\n",
       "      <td>1.0</td>\n",
       "      <td>2.0</td>\n",
       "      <td>POS</td>\n",
       "      <td>0.0</td>\n",
       "      <td>0.0</td>\n",
       "      <td>1.0</td>\n",
       "      <td>1.0</td>\n",
       "    </tr>\n",
       "    <tr>\n",
       "      <th>9360</th>\n",
       "      <td>1009361</td>\n",
       "      <td>0.0</td>\n",
       "      <td>10000.0</td>\n",
       "      <td>61831.0</td>\n",
       "      <td>62.0</td>\n",
       "      <td>0.0</td>\n",
       "      <td>3.0</td>\n",
       "      <td>POS</td>\n",
       "      <td>41433.0</td>\n",
       "      <td>0.0</td>\n",
       "      <td>1.0</td>\n",
       "      <td>1.0</td>\n",
       "    </tr>\n",
       "  </tbody>\n",
       "</table>\n",
       "<p>9356 rows × 12 columns</p>\n",
       "</div>"
      ],
      "text/plain": [
       "      id_client  delay  amt_credit      bki   age  is_educ  cl_segm  \\\n",
       "0       1000001    1.0    225000.0  26395.0  68.0      0.0      2.0   \n",
       "1       1000002    0.0     75000.0  89146.0  69.0      1.0      2.0   \n",
       "2       1000003    0.0     10000.0  35635.0  56.0      1.0      3.0   \n",
       "3       1000004    0.0    400000.0  60715.0  36.0      1.0      2.0   \n",
       "4       1000005    1.0    175000.0  38110.0  48.0      0.0      2.0   \n",
       "...         ...    ...         ...      ...   ...      ...      ...   \n",
       "9356    1009357    0.0    125000.0      0.0  53.0      1.0      2.0   \n",
       "9357    1009358    0.0    200000.0      0.0  63.0      1.0      3.0   \n",
       "9358    1009359    0.0    700000.0  43638.0  51.0      0.0      1.0   \n",
       "9359    1009360    0.0    100000.0      0.0  26.0      1.0      2.0   \n",
       "9360    1009361    0.0     10000.0  61831.0  62.0      0.0      3.0   \n",
       "\n",
       "     credit_type     fssp  cnt_closed_contract  is_cellphone  no_delay  \n",
       "0             CC      0.0                  0.0           0.0       0.0  \n",
       "1            POS      0.0                  1.0           1.0       1.0  \n",
       "2             CC      0.0                  0.0           1.0       1.0  \n",
       "3            POS      0.0                  0.0           0.0       1.0  \n",
       "4            POS      0.0                  1.0           1.0       0.0  \n",
       "...          ...      ...                  ...           ...       ...  \n",
       "9356          CC      0.0                  1.0           1.0       1.0  \n",
       "9357          CC      0.0                  0.0           1.0       1.0  \n",
       "9358         POS      0.0                  0.0           1.0       1.0  \n",
       "9359         POS      0.0                  0.0           1.0       1.0  \n",
       "9360         POS  41433.0                  0.0           1.0       1.0  \n",
       "\n",
       "[9356 rows x 12 columns]"
      ]
     },
     "execution_count": 29,
     "metadata": {},
     "output_type": "execute_result"
    }
   ],
   "source": [
    "train_bancs"
   ]
  },
  {
   "cell_type": "code",
   "execution_count": 30,
   "id": "1f0a5593",
   "metadata": {},
   "outputs": [
    {
     "name": "stdout",
     "output_type": "stream",
     "text": [
      "<class 'pandas.core.frame.DataFrame'>\n",
      "Int64Index: 9356 entries, 0 to 9360\n",
      "Data columns (total 12 columns):\n",
      " #   Column               Non-Null Count  Dtype  \n",
      "---  ------               --------------  -----  \n",
      " 0   id_client            9356 non-null   int64  \n",
      " 1   delay                9356 non-null   float64\n",
      " 2   amt_credit           9356 non-null   float64\n",
      " 3   bki                  9356 non-null   float64\n",
      " 4   age                  9356 non-null   float64\n",
      " 5   is_educ              9356 non-null   float64\n",
      " 6   cl_segm              9356 non-null   float64\n",
      " 7   credit_type          9356 non-null   object \n",
      " 8   fssp                 9356 non-null   float64\n",
      " 9   cnt_closed_contract  9356 non-null   float64\n",
      " 10  is_cellphone         9356 non-null   float64\n",
      " 11  no_delay             9356 non-null   float64\n",
      "dtypes: float64(10), int64(1), object(1)\n",
      "memory usage: 950.2+ KB\n"
     ]
    }
   ],
   "source": [
    "train_bancs.info()"
   ]
  },
  {
   "cell_type": "code",
   "execution_count": 121,
   "id": "52f073ad",
   "metadata": {},
   "outputs": [
    {
     "data": {
      "text/html": [
       "<div>\n",
       "<style scoped>\n",
       "    .dataframe tbody tr th:only-of-type {\n",
       "        vertical-align: middle;\n",
       "    }\n",
       "\n",
       "    .dataframe tbody tr th {\n",
       "        vertical-align: top;\n",
       "    }\n",
       "\n",
       "    .dataframe thead th {\n",
       "        text-align: right;\n",
       "    }\n",
       "</style>\n",
       "<table border=\"1\" class=\"dataframe\">\n",
       "  <thead>\n",
       "    <tr style=\"text-align: right;\">\n",
       "      <th></th>\n",
       "      <th>delay</th>\n",
       "      <th>amt_credit</th>\n",
       "      <th>bki</th>\n",
       "      <th>age</th>\n",
       "      <th>is_educ</th>\n",
       "      <th>cl_segm</th>\n",
       "      <th>credit_type</th>\n",
       "      <th>fssp</th>\n",
       "      <th>cnt_closed_contract</th>\n",
       "      <th>is_cellphone</th>\n",
       "    </tr>\n",
       "  </thead>\n",
       "  <tbody>\n",
       "    <tr>\n",
       "      <th>0</th>\n",
       "      <td>1.0</td>\n",
       "      <td>225000.0</td>\n",
       "      <td>26395.0</td>\n",
       "      <td>68.0</td>\n",
       "      <td>0.0</td>\n",
       "      <td>2.0</td>\n",
       "      <td>CC</td>\n",
       "      <td>0.0</td>\n",
       "      <td>0.0</td>\n",
       "      <td>0.0</td>\n",
       "    </tr>\n",
       "    <tr>\n",
       "      <th>1</th>\n",
       "      <td>0.0</td>\n",
       "      <td>75000.0</td>\n",
       "      <td>89146.0</td>\n",
       "      <td>69.0</td>\n",
       "      <td>1.0</td>\n",
       "      <td>2.0</td>\n",
       "      <td>POS</td>\n",
       "      <td>0.0</td>\n",
       "      <td>1.0</td>\n",
       "      <td>1.0</td>\n",
       "    </tr>\n",
       "    <tr>\n",
       "      <th>2</th>\n",
       "      <td>0.0</td>\n",
       "      <td>10000.0</td>\n",
       "      <td>35635.0</td>\n",
       "      <td>56.0</td>\n",
       "      <td>1.0</td>\n",
       "      <td>3.0</td>\n",
       "      <td>CC</td>\n",
       "      <td>0.0</td>\n",
       "      <td>0.0</td>\n",
       "      <td>1.0</td>\n",
       "    </tr>\n",
       "    <tr>\n",
       "      <th>3</th>\n",
       "      <td>0.0</td>\n",
       "      <td>400000.0</td>\n",
       "      <td>60715.0</td>\n",
       "      <td>36.0</td>\n",
       "      <td>1.0</td>\n",
       "      <td>2.0</td>\n",
       "      <td>POS</td>\n",
       "      <td>0.0</td>\n",
       "      <td>0.0</td>\n",
       "      <td>0.0</td>\n",
       "    </tr>\n",
       "    <tr>\n",
       "      <th>4</th>\n",
       "      <td>1.0</td>\n",
       "      <td>175000.0</td>\n",
       "      <td>38110.0</td>\n",
       "      <td>48.0</td>\n",
       "      <td>0.0</td>\n",
       "      <td>2.0</td>\n",
       "      <td>POS</td>\n",
       "      <td>0.0</td>\n",
       "      <td>1.0</td>\n",
       "      <td>1.0</td>\n",
       "    </tr>\n",
       "  </tbody>\n",
       "</table>\n",
       "</div>"
      ],
      "text/plain": [
       "   delay  amt_credit      bki   age  is_educ  cl_segm credit_type  fssp  \\\n",
       "0    1.0    225000.0  26395.0  68.0      0.0      2.0          CC   0.0   \n",
       "1    0.0     75000.0  89146.0  69.0      1.0      2.0         POS   0.0   \n",
       "2    0.0     10000.0  35635.0  56.0      1.0      3.0          CC   0.0   \n",
       "3    0.0    400000.0  60715.0  36.0      1.0      2.0         POS   0.0   \n",
       "4    1.0    175000.0  38110.0  48.0      0.0      2.0         POS   0.0   \n",
       "\n",
       "   cnt_closed_contract  is_cellphone  \n",
       "0                  0.0           0.0  \n",
       "1                  1.0           1.0  \n",
       "2                  0.0           1.0  \n",
       "3                  0.0           0.0  \n",
       "4                  1.0           1.0  "
      ]
     },
     "execution_count": 121,
     "metadata": {},
     "output_type": "execute_result"
    }
   ],
   "source": [
    "df1=train_bancs.drop(['no_delay','id_client'], axis=1)\n",
    "df1.head()"
   ]
  },
  {
   "cell_type": "code",
   "execution_count": 122,
   "id": "c8ff1f99",
   "metadata": {},
   "outputs": [
    {
     "data": {
      "text/html": [
       "<div>\n",
       "<style scoped>\n",
       "    .dataframe tbody tr th:only-of-type {\n",
       "        vertical-align: middle;\n",
       "    }\n",
       "\n",
       "    .dataframe tbody tr th {\n",
       "        vertical-align: top;\n",
       "    }\n",
       "\n",
       "    .dataframe thead th {\n",
       "        text-align: right;\n",
       "    }\n",
       "</style>\n",
       "<table border=\"1\" class=\"dataframe\">\n",
       "  <thead>\n",
       "    <tr style=\"text-align: right;\">\n",
       "      <th></th>\n",
       "      <th>delay</th>\n",
       "      <th>amt_credit</th>\n",
       "      <th>bki</th>\n",
       "      <th>age</th>\n",
       "      <th>is_educ</th>\n",
       "      <th>cl_segm</th>\n",
       "      <th>credit_type</th>\n",
       "      <th>fssp</th>\n",
       "      <th>cnt_closed_contract</th>\n",
       "      <th>is_cellphone</th>\n",
       "    </tr>\n",
       "  </thead>\n",
       "  <tbody>\n",
       "    <tr>\n",
       "      <th>0</th>\n",
       "      <td>1.0</td>\n",
       "      <td>225000.0</td>\n",
       "      <td>26395.0</td>\n",
       "      <td>68.0</td>\n",
       "      <td>0.0</td>\n",
       "      <td>2.0</td>\n",
       "      <td>0</td>\n",
       "      <td>0.0</td>\n",
       "      <td>0.0</td>\n",
       "      <td>0.0</td>\n",
       "    </tr>\n",
       "    <tr>\n",
       "      <th>1</th>\n",
       "      <td>0.0</td>\n",
       "      <td>75000.0</td>\n",
       "      <td>89146.0</td>\n",
       "      <td>69.0</td>\n",
       "      <td>1.0</td>\n",
       "      <td>2.0</td>\n",
       "      <td>1</td>\n",
       "      <td>0.0</td>\n",
       "      <td>1.0</td>\n",
       "      <td>1.0</td>\n",
       "    </tr>\n",
       "    <tr>\n",
       "      <th>2</th>\n",
       "      <td>0.0</td>\n",
       "      <td>10000.0</td>\n",
       "      <td>35635.0</td>\n",
       "      <td>56.0</td>\n",
       "      <td>1.0</td>\n",
       "      <td>3.0</td>\n",
       "      <td>0</td>\n",
       "      <td>0.0</td>\n",
       "      <td>0.0</td>\n",
       "      <td>1.0</td>\n",
       "    </tr>\n",
       "    <tr>\n",
       "      <th>3</th>\n",
       "      <td>0.0</td>\n",
       "      <td>400000.0</td>\n",
       "      <td>60715.0</td>\n",
       "      <td>36.0</td>\n",
       "      <td>1.0</td>\n",
       "      <td>2.0</td>\n",
       "      <td>1</td>\n",
       "      <td>0.0</td>\n",
       "      <td>0.0</td>\n",
       "      <td>0.0</td>\n",
       "    </tr>\n",
       "    <tr>\n",
       "      <th>4</th>\n",
       "      <td>1.0</td>\n",
       "      <td>175000.0</td>\n",
       "      <td>38110.0</td>\n",
       "      <td>48.0</td>\n",
       "      <td>0.0</td>\n",
       "      <td>2.0</td>\n",
       "      <td>1</td>\n",
       "      <td>0.0</td>\n",
       "      <td>1.0</td>\n",
       "      <td>1.0</td>\n",
       "    </tr>\n",
       "  </tbody>\n",
       "</table>\n",
       "</div>"
      ],
      "text/plain": [
       "   delay  amt_credit      bki   age  is_educ  cl_segm  credit_type  fssp  \\\n",
       "0    1.0    225000.0  26395.0  68.0      0.0      2.0            0   0.0   \n",
       "1    0.0     75000.0  89146.0  69.0      1.0      2.0            1   0.0   \n",
       "2    0.0     10000.0  35635.0  56.0      1.0      3.0            0   0.0   \n",
       "3    0.0    400000.0  60715.0  36.0      1.0      2.0            1   0.0   \n",
       "4    1.0    175000.0  38110.0  48.0      0.0      2.0            1   0.0   \n",
       "\n",
       "   cnt_closed_contract  is_cellphone  \n",
       "0                  0.0           0.0  \n",
       "1                  1.0           1.0  \n",
       "2                  0.0           1.0  \n",
       "3                  0.0           0.0  \n",
       "4                  1.0           1.0  "
      ]
     },
     "execution_count": 122,
     "metadata": {},
     "output_type": "execute_result"
    }
   ],
   "source": [
    "# Converting categorical feature to numeric\n",
    "df1.credit_type=df1.credit_type.map({'CC':0, 'POS':1})\n",
    "df1.head()"
   ]
  },
  {
   "cell_type": "markdown",
   "id": "09aa05a5",
   "metadata": {},
   "source": [
    "## Feature Scaling"
   ]
  },
  {
   "cell_type": "code",
   "execution_count": 123,
   "id": "c8e9837d",
   "metadata": {},
   "outputs": [],
   "source": [
    "df1.age = (df1.age-min(df1.age))/(max(df1.age)-min(df1.age))\n",
    "df1.bki = (df1.bki-min(df1.bki))/(max(df1.bki)-min(df1.bki))\n",
    "df1.fssp = (df1.fssp-min(df1.fssp))/(max(df1.fssp)-min(df1.fssp))\n",
    "df1.amt_credit = (df1.amt_credit-min(df1.amt_credit))/(max(df1.amt_credit)-min(df1.amt_credit))\n"
   ]
  },
  {
   "cell_type": "code",
   "execution_count": 124,
   "id": "3f6a0c09",
   "metadata": {},
   "outputs": [
    {
     "data": {
      "text/html": [
       "<div>\n",
       "<style scoped>\n",
       "    .dataframe tbody tr th:only-of-type {\n",
       "        vertical-align: middle;\n",
       "    }\n",
       "\n",
       "    .dataframe tbody tr th {\n",
       "        vertical-align: top;\n",
       "    }\n",
       "\n",
       "    .dataframe thead th {\n",
       "        text-align: right;\n",
       "    }\n",
       "</style>\n",
       "<table border=\"1\" class=\"dataframe\">\n",
       "  <thead>\n",
       "    <tr style=\"text-align: right;\">\n",
       "      <th></th>\n",
       "      <th>delay</th>\n",
       "      <th>amt_credit</th>\n",
       "      <th>bki</th>\n",
       "      <th>age</th>\n",
       "      <th>is_educ</th>\n",
       "      <th>cl_segm</th>\n",
       "      <th>credit_type</th>\n",
       "      <th>fssp</th>\n",
       "      <th>cnt_closed_contract</th>\n",
       "      <th>is_cellphone</th>\n",
       "    </tr>\n",
       "  </thead>\n",
       "  <tbody>\n",
       "    <tr>\n",
       "      <th>count</th>\n",
       "      <td>9356.000000</td>\n",
       "      <td>9356.000000</td>\n",
       "      <td>9356.000000</td>\n",
       "      <td>9356.000000</td>\n",
       "      <td>9356.000000</td>\n",
       "      <td>9356.000000</td>\n",
       "      <td>9356.000000</td>\n",
       "      <td>9356.000000</td>\n",
       "      <td>9356.000000</td>\n",
       "      <td>9356.000000</td>\n",
       "    </tr>\n",
       "    <tr>\n",
       "      <th>mean</th>\n",
       "      <td>0.394292</td>\n",
       "      <td>0.210825</td>\n",
       "      <td>0.402593</td>\n",
       "      <td>0.498302</td>\n",
       "      <td>0.349936</td>\n",
       "      <td>2.472531</td>\n",
       "      <td>0.650064</td>\n",
       "      <td>0.102779</td>\n",
       "      <td>1.312206</td>\n",
       "      <td>0.703399</td>\n",
       "    </tr>\n",
       "    <tr>\n",
       "      <th>std</th>\n",
       "      <td>0.488724</td>\n",
       "      <td>0.234346</td>\n",
       "      <td>0.326630</td>\n",
       "      <td>0.294531</td>\n",
       "      <td>0.476975</td>\n",
       "      <td>1.010471</td>\n",
       "      <td>0.476975</td>\n",
       "      <td>0.239433</td>\n",
       "      <td>2.068394</td>\n",
       "      <td>0.456784</td>\n",
       "    </tr>\n",
       "    <tr>\n",
       "      <th>min</th>\n",
       "      <td>0.000000</td>\n",
       "      <td>0.000000</td>\n",
       "      <td>0.000000</td>\n",
       "      <td>0.000000</td>\n",
       "      <td>0.000000</td>\n",
       "      <td>1.000000</td>\n",
       "      <td>0.000000</td>\n",
       "      <td>0.000000</td>\n",
       "      <td>0.000000</td>\n",
       "      <td>0.000000</td>\n",
       "    </tr>\n",
       "    <tr>\n",
       "      <th>25%</th>\n",
       "      <td>0.000000</td>\n",
       "      <td>0.065657</td>\n",
       "      <td>0.065571</td>\n",
       "      <td>0.250000</td>\n",
       "      <td>0.000000</td>\n",
       "      <td>2.000000</td>\n",
       "      <td>0.000000</td>\n",
       "      <td>0.000000</td>\n",
       "      <td>0.000000</td>\n",
       "      <td>0.000000</td>\n",
       "    </tr>\n",
       "    <tr>\n",
       "      <th>50%</th>\n",
       "      <td>0.000000</td>\n",
       "      <td>0.116162</td>\n",
       "      <td>0.380788</td>\n",
       "      <td>0.500000</td>\n",
       "      <td>0.000000</td>\n",
       "      <td>2.000000</td>\n",
       "      <td>1.000000</td>\n",
       "      <td>0.000000</td>\n",
       "      <td>0.000000</td>\n",
       "      <td>1.000000</td>\n",
       "    </tr>\n",
       "    <tr>\n",
       "      <th>75%</th>\n",
       "      <td>1.000000</td>\n",
       "      <td>0.267677</td>\n",
       "      <td>0.689819</td>\n",
       "      <td>0.750000</td>\n",
       "      <td>1.000000</td>\n",
       "      <td>3.000000</td>\n",
       "      <td>1.000000</td>\n",
       "      <td>0.000000</td>\n",
       "      <td>2.000000</td>\n",
       "      <td>1.000000</td>\n",
       "    </tr>\n",
       "    <tr>\n",
       "      <th>max</th>\n",
       "      <td>1.000000</td>\n",
       "      <td>1.000000</td>\n",
       "      <td>1.000000</td>\n",
       "      <td>1.000000</td>\n",
       "      <td>1.000000</td>\n",
       "      <td>4.000000</td>\n",
       "      <td>1.000000</td>\n",
       "      <td>1.000000</td>\n",
       "      <td>10.000000</td>\n",
       "      <td>1.000000</td>\n",
       "    </tr>\n",
       "  </tbody>\n",
       "</table>\n",
       "</div>"
      ],
      "text/plain": [
       "             delay   amt_credit          bki          age      is_educ  \\\n",
       "count  9356.000000  9356.000000  9356.000000  9356.000000  9356.000000   \n",
       "mean      0.394292     0.210825     0.402593     0.498302     0.349936   \n",
       "std       0.488724     0.234346     0.326630     0.294531     0.476975   \n",
       "min       0.000000     0.000000     0.000000     0.000000     0.000000   \n",
       "25%       0.000000     0.065657     0.065571     0.250000     0.000000   \n",
       "50%       0.000000     0.116162     0.380788     0.500000     0.000000   \n",
       "75%       1.000000     0.267677     0.689819     0.750000     1.000000   \n",
       "max       1.000000     1.000000     1.000000     1.000000     1.000000   \n",
       "\n",
       "           cl_segm  credit_type         fssp  cnt_closed_contract  \\\n",
       "count  9356.000000  9356.000000  9356.000000          9356.000000   \n",
       "mean      2.472531     0.650064     0.102779             1.312206   \n",
       "std       1.010471     0.476975     0.239433             2.068394   \n",
       "min       1.000000     0.000000     0.000000             0.000000   \n",
       "25%       2.000000     0.000000     0.000000             0.000000   \n",
       "50%       2.000000     1.000000     0.000000             0.000000   \n",
       "75%       3.000000     1.000000     0.000000             2.000000   \n",
       "max       4.000000     1.000000     1.000000            10.000000   \n",
       "\n",
       "       is_cellphone  \n",
       "count   9356.000000  \n",
       "mean       0.703399  \n",
       "std        0.456784  \n",
       "min        0.000000  \n",
       "25%        0.000000  \n",
       "50%        1.000000  \n",
       "75%        1.000000  \n",
       "max        1.000000  "
      ]
     },
     "execution_count": 124,
     "metadata": {},
     "output_type": "execute_result"
    }
   ],
   "source": [
    "df1.describe()"
   ]
  },
  {
   "cell_type": "markdown",
   "id": "c36e3ee8",
   "metadata": {},
   "source": [
    "## Decision Tree"
   ]
  },
  {
   "cell_type": "code",
   "execution_count": 125,
   "id": "dc6f52c2",
   "metadata": {},
   "outputs": [],
   "source": [
    "from sklearn.model_selection import train_test_split\n",
    "from sklearn.metrics import confusion_matrix\n",
    "from sklearn.tree import DecisionTreeClassifier\n",
    "from sklearn.metrics import accuracy_score"
   ]
  },
  {
   "cell_type": "code",
   "execution_count": 156,
   "id": "de39d3ad",
   "metadata": {},
   "outputs": [],
   "source": [
    "X_train, X_test, y_train, y_test = train_test_split(\n",
    "    df1.drop(['delay'], axis=1),\n",
    "    df1.delay,\n",
    "    test_size= 0.3,\n",
    "    random_state=0,\n",
    "    stratify=df1.delay\n",
    ")"
   ]
  },
  {
   "cell_type": "code",
   "execution_count": 157,
   "id": "9cf18c42",
   "metadata": {},
   "outputs": [
    {
     "data": {
      "text/plain": [
       "DecisionTreeClassifier()"
      ]
     },
     "execution_count": 157,
     "metadata": {},
     "output_type": "execute_result"
    }
   ],
   "source": [
    "tree = DecisionTreeClassifier()\n",
    "tree.fit(X_train, y_train)"
   ]
  },
  {
   "cell_type": "code",
   "execution_count": 158,
   "id": "fc41f1ad",
   "metadata": {},
   "outputs": [],
   "source": [
    "y_pred = tree.predict(X_test)"
   ]
  },
  {
   "cell_type": "code",
   "execution_count": 159,
   "id": "920134a0",
   "metadata": {},
   "outputs": [],
   "source": [
    "acc = accuracy_score(y_test,y_pred)"
   ]
  },
  {
   "cell_type": "code",
   "execution_count": 160,
   "id": "2a4343fd",
   "metadata": {},
   "outputs": [
    {
     "data": {
      "text/plain": [
       "0.6565728535803349"
      ]
     },
     "execution_count": 160,
     "metadata": {},
     "output_type": "execute_result"
    }
   ],
   "source": [
    "acc"
   ]
  },
  {
   "cell_type": "markdown",
   "id": "39f87101",
   "metadata": {},
   "source": [
    "### Для размера тестовой выборки 10% acc=0,626, для 20%, acc=0,659, для 30% acc=0,668, для 40% acc=0,653, для 40% acc=0,648"
   ]
  },
  {
   "cell_type": "code",
   "execution_count": 161,
   "id": "70231a77",
   "metadata": {},
   "outputs": [
    {
     "data": {
      "text/plain": [
       "array([[1210,  490],\n",
       "       [ 474,  633]], dtype=int64)"
      ]
     },
     "execution_count": 161,
     "metadata": {},
     "output_type": "execute_result"
    }
   ],
   "source": [
    "cm=confusion_matrix(y_test, y_pred)\n",
    "cm"
   ]
  },
  {
   "cell_type": "code",
   "execution_count": 162,
   "id": "8a810f37",
   "metadata": {},
   "outputs": [
    {
     "data": {
      "text/plain": [
       "<AxesSubplot:>"
      ]
     },
     "execution_count": 162,
     "metadata": {},
     "output_type": "execute_result"
    },
    {
     "data": {
      "image/png": "[encoded data removed]",
      "text/plain": [
       "<Figure size 432x288 with 2 Axes>"
      ]
     },
     "metadata": {
      "needs_background": "light"
     },
     "output_type": "display_data"
    }
   ],
   "source": [
    "sns.heatmap(cm,annot=True)"
   ]
  },
  {
   "cell_type": "code",
   "execution_count": null,
   "id": "4e7cba77",
   "metadata": {},
   "outputs": [],
   "source": []
  },
  {
   "cell_type": "code",
   "execution_count": null,
   "id": "5f12b4bc",
   "metadata": {},
   "outputs": [],
   "source": []
  }
 ],
 "metadata": {
  "kernelspec": {
   "display_name": "Python 3 (ipykernel)",
   "language": "python",
   "name": "python3"
  },
  "language_info": {
   "codemirror_mode": {
    "name": "ipython",
    "version": 3
   },
   "file_extension": ".py",
   "mimetype": "text/x-python",
   "name": "python",
   "nbconvert_exporter": "python",
   "pygments_lexer": "ipython3",
   "version": "3.9.7"
  }
 },
 "nbformat": 4,
 "nbformat_minor": 5
}
