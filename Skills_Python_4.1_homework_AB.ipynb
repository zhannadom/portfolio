{
 "cells": [
  {
   "cell_type": "markdown",
   "metadata": {
    "id": "ztPv6Kb-ILDp"
   },
   "source": [
    "# Домашнее задание 4.1\n",
    "\n",
    "# 🥨👨🏻‍🍳🥐🥖\n",
    "\n",
    "Тест с картинками оказался в итоге успешным, и теперь мы хотим усилить визуальный контент. Есть идея, что если мы сделаем не одну картинку, а еще и добавим видео производства наших изделий, то пользователь будет принимать решение о покупке охотнее и быстрее, и конверсия в заказ вырастет. \n",
    "\n",
    "__Продакт вернул нам такой дизайн эксперимента:__\n",
    "\n",
    "*1. `Бизнес-проблема:`* мы считаем, что конверсии из визита в покупку в нашем магазине недостаточно высоки. Мы посмотрели на страницы конкурентов и поняли, что у нас есть возможность увеличить объем продаж, если мы еще немного изменим дизайн страницы с каталогом продукции. \n",
    "\n",
    "*2. `Гипотеза:`* предполагается, что добавление видео с процессом приготовления вкусностей мотивирует к их покупке и позволяет добиться двух эффектов:\n",
    "   * повышение конверсии из визита в оплату (больше людей захотят купить нашу продукцию)\n",
    "   * как минимум, не снижение среднего чека покупки, а в идеале — увеличение\n",
    "    \n",
    "*3. `Ожидаемые действия пользователей:`* мы ожидаем, что, увидев видео с процессом приготовления вкусностей вместе с описанием продукции, больше людей захотят сделать покупку, а возможно — в среднем будут покупать больше продукции в одном заказе.\n",
    "\n",
    "*4. `Эксперимент будет считаться успешным, если:`*\n",
    "   * конверсия из визита в покупку с окном в 7 дней повысится\n",
    "   * средний чек покупки не снизится\n",
    "\n",
    "\n",
    "## Что нужно сделать?\n",
    "\n",
    "Проанализировать данные нового теста и дать свои комментарии о его успешности. Можно ли выкатывать изменение на всех пользователей?\n",
    "\n",
    "1. Выбрать окно конверсии\n",
    "2. Исследовать распределение пользователей по группам по основным сегментам\n",
    "3. Оценить статистическую значимость в изменении конверсии с помощью критерия хи-квадрат\n",
    "4. Вычислить мощность теста\n",
    "5. Использовать бутстрап для оценки влияния теста на средний чек\n",
    "6. Сделать вывод по результатам проведенного теста "
   ]
  },
  {
   "cell_type": "markdown",
   "metadata": {
    "id": "hppSG_9JbL0s"
   },
   "source": [
    "## Задание 1. Выбери окно конверсии, используя исторические данные \n",
    "\n",
    "**1. Прочитай файл investigate_window.csv.**\n",
    "   - Запиши даннные в переменную `historical_data`\n",
    "    \n",
    "   - Отправь безымянную колонку с нумерацией в индекс с помощью аргумента функции `read_csv()`.\n",
    "   \n",
    "   - Проверь, какой тип данных в каждой колонке, и переведи столбцы с датами в формат даты. "
   ]
  },
  {
   "cell_type": "code",
   "execution_count": 1,
   "metadata": {
    "id": "bZRgs094bL0v"
   },
   "outputs": [],
   "source": [
    "import pandas as pd"
   ]
  },
  {
   "cell_type": "code",
   "execution_count": 21,
   "metadata": {
    "id": "Sk2xONPmbL0x"
   },
   "outputs": [],
   "source": [
    "historical_data = pd.read_csv('investigate_window.csv',parse_dates = ['main_page_viewed_at','order_completed_at'],index_col=0)"
   ]
  },
  {
   "cell_type": "code",
   "execution_count": 22,
   "metadata": {
    "id": "dS3UJGDhbL0x",
    "outputId": "4d8207fa-32d3-44f3-de6f-072b393742b4"
   },
   "outputs": [
    {
     "data": {
      "text/html": [
       "<div>\n",
       "<style scoped>\n",
       "    .dataframe tbody tr th:only-of-type {\n",
       "        vertical-align: middle;\n",
       "    }\n",
       "\n",
       "    .dataframe tbody tr th {\n",
       "        vertical-align: top;\n",
       "    }\n",
       "\n",
       "    .dataframe thead th {\n",
       "        text-align: right;\n",
       "    }\n",
       "</style>\n",
       "<table border=\"1\" class=\"dataframe\">\n",
       "  <thead>\n",
       "    <tr style=\"text-align: right;\">\n",
       "      <th></th>\n",
       "      <th>user_id</th>\n",
       "      <th>main_page_viewed_at</th>\n",
       "      <th>order_completed_at</th>\n",
       "      <th>time_to_order</th>\n",
       "    </tr>\n",
       "  </thead>\n",
       "  <tbody>\n",
       "    <tr>\n",
       "      <th>0</th>\n",
       "      <td>959238</td>\n",
       "      <td>2020-11-20 23:55:02.759000+00:00</td>\n",
       "      <td>2020-11-30 02:22:32.759000+00:00</td>\n",
       "      <td>9.102431</td>\n",
       "    </tr>\n",
       "    <tr>\n",
       "      <th>1</th>\n",
       "      <td>337366</td>\n",
       "      <td>2020-12-05 23:41:42.244000+00:00</td>\n",
       "      <td>2020-12-12 22:25:52.244000+00:00</td>\n",
       "      <td>6.947338</td>\n",
       "    </tr>\n",
       "    <tr>\n",
       "      <th>2</th>\n",
       "      <td>259956</td>\n",
       "      <td>2020-11-20 23:33:53.269000+00:00</td>\n",
       "      <td>2020-11-25 13:08:03.269000+00:00</td>\n",
       "      <td>4.565394</td>\n",
       "    </tr>\n",
       "    <tr>\n",
       "      <th>3</th>\n",
       "      <td>534280</td>\n",
       "      <td>2020-11-28 23:44:56.556000+00:00</td>\n",
       "      <td>2020-12-05 10:14:06.556000+00:00</td>\n",
       "      <td>6.436921</td>\n",
       "    </tr>\n",
       "    <tr>\n",
       "      <th>4</th>\n",
       "      <td>795121</td>\n",
       "      <td>2020-11-18 23:59:56.236000+00:00</td>\n",
       "      <td>2020-11-27 02:38:16.236000+00:00</td>\n",
       "      <td>8.109954</td>\n",
       "    </tr>\n",
       "  </tbody>\n",
       "</table>\n",
       "</div>"
      ],
      "text/plain": [
       "   user_id              main_page_viewed_at               order_completed_at  \\\n",
       "0   959238 2020-11-20 23:55:02.759000+00:00 2020-11-30 02:22:32.759000+00:00   \n",
       "1   337366 2020-12-05 23:41:42.244000+00:00 2020-12-12 22:25:52.244000+00:00   \n",
       "2   259956 2020-11-20 23:33:53.269000+00:00 2020-11-25 13:08:03.269000+00:00   \n",
       "3   534280 2020-11-28 23:44:56.556000+00:00 2020-12-05 10:14:06.556000+00:00   \n",
       "4   795121 2020-11-18 23:59:56.236000+00:00 2020-11-27 02:38:16.236000+00:00   \n",
       "\n",
       "   time_to_order  \n",
       "0       9.102431  \n",
       "1       6.947338  \n",
       "2       4.565394  \n",
       "3       6.436921  \n",
       "4       8.109954  "
      ]
     },
     "execution_count": 22,
     "metadata": {},
     "output_type": "execute_result"
    }
   ],
   "source": [
    "historical_data.head()"
   ]
  },
  {
   "cell_type": "code",
   "execution_count": 23,
   "metadata": {
    "id": "Xef2_8M4bL0z",
    "outputId": "e7204528-c53d-4ddc-8149-27040c3f23ed"
   },
   "outputs": [
    {
     "data": {
      "text/plain": [
       "user_id                              int64\n",
       "main_page_viewed_at    datetime64[ns, UTC]\n",
       "order_completed_at     datetime64[ns, UTC]\n",
       "time_to_order                      float64\n",
       "dtype: object"
      ]
     },
     "execution_count": 23,
     "metadata": {},
     "output_type": "execute_result"
    }
   ],
   "source": [
    "# Проверь, выводятся ли даты в формате datetime. Если нет — исправь это. \n",
    "\n",
    "historical_data.dtypes"
   ]
  },
  {
   "cell_type": "markdown",
   "metadata": {
    "id": "olR8gTUvbL00"
   },
   "source": [
    "**2. Вычисли 95, 90 и 85 перцентили для наших данных с помощью колонки time_to_order.**\n",
    "   - Импортируй библиотеку `NumPy` и используй функцию перцентиля из нее.\n",
    "   - Какой перцентиль соответствует недельному окну конверсии? \n",
    "   - Запиши это значение в отдельную переменную `perc_X`, где Х — это выбранный тобой процент, а значение переменной – значение перцентиля, т. е. количество дней, которое избирается в качестве окна конверсии. \n",
    "   - Округли значение до 1 знака после запятой."
   ]
  },
  {
   "cell_type": "code",
   "execution_count": 24,
   "metadata": {
    "id": "5uiFILNtbL01"
   },
   "outputs": [],
   "source": [
    "import numpy as np"
   ]
  },
  {
   "cell_type": "markdown",
   "metadata": {
    "id": "SRawyRWsbL02"
   },
   "source": [
    "**3. Построй гистограмму распределения времени между первым заходом на сайт и покупкой.** \n",
    "   - Передай функции графика в аргумент данные о времени конверсии\n",
    "   - Назови график и оси\n",
    "   - Вертикальной пунктирной линией отметь значение выбранного тобой перцентиля. \n",
    "   - Выведи значение перцентиля в легенду. \n",
    "*Можешь использовать `seaborn` или `matplotlib`, как тебе удобнее.*"
   ]
  },
  {
   "cell_type": "code",
   "execution_count": 25,
   "metadata": {
    "id": "z0Ie-hfKbL02"
   },
   "outputs": [],
   "source": [
    "import seaborn as sns \n",
    "import matplotlib.pyplot as plt"
   ]
  },
  {
   "cell_type": "code",
   "execution_count": 26,
   "metadata": {
    "id": "UMNd1kw3bL03"
   },
   "outputs": [
    {
     "data": {
      "text/plain": [
       "7.117476851851854"
      ]
     },
     "execution_count": 26,
     "metadata": {},
     "output_type": "execute_result"
    }
   ],
   "source": [
    "# напиши здесь код\n",
    "np.percentile(historical_data['time_to_order'], 95) # 95 перцентиль\n"
   ]
  },
  {
   "cell_type": "code",
   "execution_count": 27,
   "metadata": {},
   "outputs": [
    {
     "data": {
      "text/plain": [
       "2.864949845679016"
      ]
     },
     "execution_count": 27,
     "metadata": {},
     "output_type": "execute_result"
    }
   ],
   "source": [
    "np.percentile(historical_data['time_to_order'], 90) # 90 перцентиль "
   ]
  },
  {
   "cell_type": "code",
   "execution_count": 28,
   "metadata": {},
   "outputs": [
    {
     "data": {
      "text/plain": [
       "1.9903886959876524"
      ]
     },
     "execution_count": 28,
     "metadata": {},
     "output_type": "execute_result"
    }
   ],
   "source": [
    "np.percentile(historical_data['time_to_order'], 85) # 85 перцентиль "
   ]
  },
  {
   "cell_type": "markdown",
   "metadata": {},
   "source": [
    "Выберем 90й процентиль. Так как разница между 95м и 90 ощутимая. Можно выбрать окно конверсии - 3 дня."
   ]
  },
  {
   "cell_type": "code",
   "execution_count": 29,
   "metadata": {},
   "outputs": [],
   "source": [
    "perc_90 = round(np.percentile(historical_data['time_to_order'], 90), 1)"
   ]
  },
  {
   "cell_type": "code",
   "execution_count": 30,
   "metadata": {},
   "outputs": [
    {
     "name": "stderr",
     "output_type": "stream",
     "text": [
      "C:\\Users\\zhann\\anaconda3\\lib\\site-packages\\seaborn\\distributions.py:2619: FutureWarning: `distplot` is a deprecated function and will be removed in a future version. Please adapt your code to use either `displot` (a figure-level function with similar flexibility) or `histplot` (an axes-level function for histograms).\n",
      "  warnings.warn(msg, FutureWarning)\n"
     ]
    },
    {
     "data": {
      "image/png": "[encoded data removed]",
      "text/plain": [
       "<Figure size 1152x648 with 1 Axes>"
      ]
     },
     "metadata": {
      "needs_background": "light"
     },
     "output_type": "display_data"
    }
   ],
   "source": [
    "plt.figure(figsize=(16,9))\n",
    "sns.distplot(historical_data['time_to_order'])\n",
    "plt.vlines(perc_90, ymin = 0, ymax = 1, linestyles = 'dashed', label = f'90-ый перцентиль – {perc_90} дней')\n",
    "plt.title('Распределение времени между первым заходом на сайт и покупкой')\n",
    "plt.xlabel('Количество дней')\n",
    "plt.ylabel('Количество пользователей')\n",
    "plt.legend()\n",
    "plt.show()"
   ]
  },
  {
   "cell_type": "markdown",
   "metadata": {
    "id": "3nsIxdYObL03"
   },
   "source": [
    "## Задание 2. Исследуй распределение пользователей по группам по основным сегментам \n",
    "\n",
    "**1. Прочитай файл bakery_ab_test.csv.**\n",
    "   - Проверь, импортированы ли нужные тебе библиотеки.\n",
    "   - Запиши данные в переменную `data`. \n",
    "   - Назначь индекс аналогично первому заданию."
   ]
  },
  {
   "cell_type": "code",
   "execution_count": 31,
   "metadata": {
    "id": "-l6Y90j6bL03"
   },
   "outputs": [
    {
     "data": {
      "text/html": [
       "<div>\n",
       "<style scoped>\n",
       "    .dataframe tbody tr th:only-of-type {\n",
       "        vertical-align: middle;\n",
       "    }\n",
       "\n",
       "    .dataframe tbody tr th {\n",
       "        vertical-align: top;\n",
       "    }\n",
       "\n",
       "    .dataframe thead th {\n",
       "        text-align: right;\n",
       "    }\n",
       "</style>\n",
       "<table border=\"1\" class=\"dataframe\">\n",
       "  <thead>\n",
       "    <tr style=\"text-align: right;\">\n",
       "      <th></th>\n",
       "      <th>user_id</th>\n",
       "      <th>test_group</th>\n",
       "      <th>purchase_amount</th>\n",
       "      <th>geo_group</th>\n",
       "      <th>acquisition_channel</th>\n",
       "      <th>within_window</th>\n",
       "      <th>platform</th>\n",
       "    </tr>\n",
       "  </thead>\n",
       "  <tbody>\n",
       "    <tr>\n",
       "      <th>1</th>\n",
       "      <td>3738</td>\n",
       "      <td>test</td>\n",
       "      <td>306.639511</td>\n",
       "      <td>regions</td>\n",
       "      <td>target_direct</td>\n",
       "      <td>1</td>\n",
       "      <td>pc</td>\n",
       "    </tr>\n",
       "    <tr>\n",
       "      <th>2</th>\n",
       "      <td>3755</td>\n",
       "      <td>control</td>\n",
       "      <td>NaN</td>\n",
       "      <td>regions</td>\n",
       "      <td>target_direct</td>\n",
       "      <td>0</td>\n",
       "      <td>pc</td>\n",
       "    </tr>\n",
       "    <tr>\n",
       "      <th>3</th>\n",
       "      <td>3772</td>\n",
       "      <td>test</td>\n",
       "      <td>NaN</td>\n",
       "      <td>regions</td>\n",
       "      <td>context_brand</td>\n",
       "      <td>0</td>\n",
       "      <td>mobile</td>\n",
       "    </tr>\n",
       "    <tr>\n",
       "      <th>4</th>\n",
       "      <td>3789</td>\n",
       "      <td>control</td>\n",
       "      <td>NaN</td>\n",
       "      <td>spb</td>\n",
       "      <td>target_direct</td>\n",
       "      <td>0</td>\n",
       "      <td>pc</td>\n",
       "    </tr>\n",
       "    <tr>\n",
       "      <th>5</th>\n",
       "      <td>3806</td>\n",
       "      <td>test</td>\n",
       "      <td>NaN</td>\n",
       "      <td>regions</td>\n",
       "      <td>social_media</td>\n",
       "      <td>0</td>\n",
       "      <td>pc</td>\n",
       "    </tr>\n",
       "    <tr>\n",
       "      <th>...</th>\n",
       "      <td>...</td>\n",
       "      <td>...</td>\n",
       "      <td>...</td>\n",
       "      <td>...</td>\n",
       "      <td>...</td>\n",
       "      <td>...</td>\n",
       "      <td>...</td>\n",
       "    </tr>\n",
       "    <tr>\n",
       "      <th>152995</th>\n",
       "      <td>2604636</td>\n",
       "      <td>test</td>\n",
       "      <td>NaN</td>\n",
       "      <td>regions</td>\n",
       "      <td>target_direct</td>\n",
       "      <td>0</td>\n",
       "      <td>pc</td>\n",
       "    </tr>\n",
       "    <tr>\n",
       "      <th>152996</th>\n",
       "      <td>2604653</td>\n",
       "      <td>control</td>\n",
       "      <td>5236.818309</td>\n",
       "      <td>regions</td>\n",
       "      <td>organic</td>\n",
       "      <td>1</td>\n",
       "      <td>mobile</td>\n",
       "    </tr>\n",
       "    <tr>\n",
       "      <th>152997</th>\n",
       "      <td>2604670</td>\n",
       "      <td>control</td>\n",
       "      <td>NaN</td>\n",
       "      <td>regions</td>\n",
       "      <td>target_direct</td>\n",
       "      <td>0</td>\n",
       "      <td>pc</td>\n",
       "    </tr>\n",
       "    <tr>\n",
       "      <th>152998</th>\n",
       "      <td>2604687</td>\n",
       "      <td>control</td>\n",
       "      <td>101.783032</td>\n",
       "      <td>regions</td>\n",
       "      <td>target_direct</td>\n",
       "      <td>1</td>\n",
       "      <td>pc</td>\n",
       "    </tr>\n",
       "    <tr>\n",
       "      <th>152999</th>\n",
       "      <td>2604704</td>\n",
       "      <td>test</td>\n",
       "      <td>NaN</td>\n",
       "      <td>msk</td>\n",
       "      <td>social_media</td>\n",
       "      <td>0</td>\n",
       "      <td>pc</td>\n",
       "    </tr>\n",
       "  </tbody>\n",
       "</table>\n",
       "<p>150483 rows × 7 columns</p>\n",
       "</div>"
      ],
      "text/plain": [
       "        user_id test_group  purchase_amount geo_group acquisition_channel  \\\n",
       "1          3738       test       306.639511   regions       target_direct   \n",
       "2          3755    control              NaN   regions       target_direct   \n",
       "3          3772       test              NaN   regions       context_brand   \n",
       "4          3789    control              NaN       spb       target_direct   \n",
       "5          3806       test              NaN   regions        social_media   \n",
       "...         ...        ...              ...       ...                 ...   \n",
       "152995  2604636       test              NaN   regions       target_direct   \n",
       "152996  2604653    control      5236.818309   regions             organic   \n",
       "152997  2604670    control              NaN   regions       target_direct   \n",
       "152998  2604687    control       101.783032   regions       target_direct   \n",
       "152999  2604704       test              NaN       msk        social_media   \n",
       "\n",
       "        within_window platform  \n",
       "1                   1       pc  \n",
       "2                   0       pc  \n",
       "3                   0   mobile  \n",
       "4                   0       pc  \n",
       "5                   0       pc  \n",
       "...               ...      ...  \n",
       "152995              0       pc  \n",
       "152996              1   mobile  \n",
       "152997              0       pc  \n",
       "152998              1       pc  \n",
       "152999              0       pc  \n",
       "\n",
       "[150483 rows x 7 columns]"
      ]
     },
     "execution_count": 31,
     "metadata": {},
     "output_type": "execute_result"
    }
   ],
   "source": [
    "# напиши здесь код\n",
    "data = pd.read_csv('bakery_ab_test.csv',index_col=0)\n",
    "data"
   ]
  },
  {
   "cell_type": "markdown",
   "metadata": {
    "id": "BySl6id7bL04"
   },
   "source": [
    "**2. Напиши функцию plot_segment_distribution, чтобы проверить распределение пользователей по сегментам внутри каждой группы.**\n",
    "   - Аргументами функции должны быть данные теста, колонки с сегментами (маркетинг, гео и платформа), тест-фактор.\n",
    "   - Для каждого сегмента в функции агрегируй данные, посчитав по для каждой группы и сегмента количество пользователей.\n",
    "   - Сбрость индекс.\n",
    "   - Добавь в функцию построение столбиковой диаграммы (bar chart)."
   ]
  },
  {
   "cell_type": "code",
   "execution_count": 32,
   "metadata": {},
   "outputs": [],
   "source": [
    "def plot_segments_distribution(df, segment_columns, test_factor):\n",
    "    for segment in segment_columns:\n",
    "        aggregated_data = df.groupby(by = [test_factor, segment])['user_id'].count().reset_index()\n",
    "        sns.catplot(x = segment, \n",
    "                    y = 'user_id', \n",
    "                    hue = test_factor, # сообщаем, что хотим, чтобы разные группы имели разный цвет\n",
    "                    data = aggregated_data, \n",
    "                    kind = \"bar\", \n",
    "                    height = 4, # задаем размер графика \n",
    "                    aspect = 1.5) # задаем ширину столбца\n",
    "    "
   ]
  },
  {
   "cell_type": "markdown",
   "metadata": {
    "id": "_miaIvPmbL05"
   },
   "source": [
    "**3. Вызови функцию и посмотри на графики. Какой вывод о качестве сплитования ты можешь сделать?**\n",
    "    — Передай списком столбцы, в которых обозначены сегменты пользователей, и отдельно столбец с тест-фактором."
   ]
  },
  {
   "cell_type": "code",
   "execution_count": 34,
   "metadata": {},
   "outputs": [
    {
     "data": {
      "image/png": "[encoded data removed]",
      "text/plain": [
       "<Figure size 502.5x288 with 1 Axes>"
      ]
     },
     "metadata": {
      "needs_background": "light"
     },
     "output_type": "display_data"
    },
    {
     "data": {
      "image/png": "[encoded data removed]",
      "text/plain": [
       "<Figure size 502.5x288 with 1 Axes>"
      ]
     },
     "metadata": {
      "needs_background": "light"
     },
     "output_type": "display_data"
    },
    {
     "data": {
      "image/png": "[encoded data removed]",
      "text/plain": [
       "<Figure size 502.5x288 with 1 Axes>"
      ]
     },
     "metadata": {
      "needs_background": "light"
     },
     "output_type": "display_data"
    }
   ],
   "source": [
    "plot_segments_distribution(data, #датафрейм\n",
    "                           [\"geo_group\", \"acquisition_channel\",\"platform\"], #сегменты\n",
    "                           \"test_group\") #тест-фактор"
   ]
  },
  {
   "cell_type": "markdown",
   "metadata": {
    "id": "0e90OJ0YbL05"
   },
   "source": [
    "<div\n",
    "  style=\"\n",
    "    padding: 24px;\n",
    "    background-color: #009ee4;\n",
    "    border-radius: 24px;\n",
    "    color: white;\n",
    "    font-family: Arial;\n",
    "  \"\n",
    ">\n",
    "  <div style=\"font-size: 36px; margin-top: 6px; line-height: 16px; font-weight: bold\">\n",
    "    Вывод\n",
    "  <div style=\" font-size: 18px; margin-top: 24px; line-height: 24px\">\n",
    "Сплитование по геогруппе и маркетинговому каналу равномерное, а по платформе - неравномерное. В контрольной группе больше с  платформы 'mobile', а в тестовой с 'pc'.\n",
    "\n",
    "      \n",
    "\n",
    "</div>\n"
   ]
  },
  {
   "cell_type": "markdown",
   "metadata": {
    "id": "8jAA6GdHbL05"
   },
   "source": [
    "## Задание 3. Используй критерий Хи-квадрат для конверсии\n"
   ]
  },
  {
   "cell_type": "markdown",
   "metadata": {
    "id": "ixJWxL_JbL06"
   },
   "source": [
    "В прошлом задании ты, скорее всего, столкнулся с неравномерным распределением пользователей. Раньше мы просто перезапускали тест, чтобы собрать данные, но сейчас тест уже завершен, так что нам нужно анализировать те данные, которые есть. Мы не можем исправить данные, но можем проанализировать общие результаты и сравнить их с результатами для пользователей, зашедших с разных платформ, чтобы уменьшить риск принятия ошибочного решения. Поэтому дальше мы будем анализировать параллельно 3 теста:\n",
    "\n",
    "1. Все пользователи, попавшие в тест\n",
    "2. Пользователи, заходившие с ПК `platform = 'pc'`\n",
    "3. Пользователи, заходившие с мобильного `platform = 'mobile'`"
   ]
  },
  {
   "cell_type": "markdown",
   "metadata": {
    "id": "x2DlXIbDbL07"
   },
   "source": [
    "**Создай для каждой из 3 групп теста отдельную таблицу с метриками**\n",
    "   - общее количество пользователей \n",
    "   - количество покупок в окне конверсии\n",
    "   - средняя сумма покупки \n",
    "   - конверсия (количество покупок в окне конверсии / общее количество пользователей или среднее по полю `within_window`)\n",
    "    \n",
    "*Для фильтрации нужных пользователей можешь использовать* `loc[ ]`\n"
   ]
  },
  {
   "cell_type": "code",
   "execution_count": 35,
   "metadata": {},
   "outputs": [
    {
     "data": {
      "text/html": [
       "<div>\n",
       "<style scoped>\n",
       "    .dataframe tbody tr th:only-of-type {\n",
       "        vertical-align: middle;\n",
       "    }\n",
       "\n",
       "    .dataframe tbody tr th {\n",
       "        vertical-align: top;\n",
       "    }\n",
       "\n",
       "    .dataframe thead th {\n",
       "        text-align: right;\n",
       "    }\n",
       "</style>\n",
       "<table border=\"1\" class=\"dataframe\">\n",
       "  <thead>\n",
       "    <tr style=\"text-align: right;\">\n",
       "      <th></th>\n",
       "      <th>user_id</th>\n",
       "      <th>test_group</th>\n",
       "      <th>purchase_amount</th>\n",
       "      <th>geo_group</th>\n",
       "      <th>acquisition_channel</th>\n",
       "      <th>within_window</th>\n",
       "      <th>platform</th>\n",
       "    </tr>\n",
       "  </thead>\n",
       "  <tbody>\n",
       "    <tr>\n",
       "      <th>1</th>\n",
       "      <td>3738</td>\n",
       "      <td>test</td>\n",
       "      <td>306.639511</td>\n",
       "      <td>regions</td>\n",
       "      <td>target_direct</td>\n",
       "      <td>1</td>\n",
       "      <td>pc</td>\n",
       "    </tr>\n",
       "    <tr>\n",
       "      <th>2</th>\n",
       "      <td>3755</td>\n",
       "      <td>control</td>\n",
       "      <td>NaN</td>\n",
       "      <td>regions</td>\n",
       "      <td>target_direct</td>\n",
       "      <td>0</td>\n",
       "      <td>pc</td>\n",
       "    </tr>\n",
       "    <tr>\n",
       "      <th>3</th>\n",
       "      <td>3772</td>\n",
       "      <td>test</td>\n",
       "      <td>NaN</td>\n",
       "      <td>regions</td>\n",
       "      <td>context_brand</td>\n",
       "      <td>0</td>\n",
       "      <td>mobile</td>\n",
       "    </tr>\n",
       "    <tr>\n",
       "      <th>4</th>\n",
       "      <td>3789</td>\n",
       "      <td>control</td>\n",
       "      <td>NaN</td>\n",
       "      <td>spb</td>\n",
       "      <td>target_direct</td>\n",
       "      <td>0</td>\n",
       "      <td>pc</td>\n",
       "    </tr>\n",
       "    <tr>\n",
       "      <th>5</th>\n",
       "      <td>3806</td>\n",
       "      <td>test</td>\n",
       "      <td>NaN</td>\n",
       "      <td>regions</td>\n",
       "      <td>social_media</td>\n",
       "      <td>0</td>\n",
       "      <td>pc</td>\n",
       "    </tr>\n",
       "    <tr>\n",
       "      <th>...</th>\n",
       "      <td>...</td>\n",
       "      <td>...</td>\n",
       "      <td>...</td>\n",
       "      <td>...</td>\n",
       "      <td>...</td>\n",
       "      <td>...</td>\n",
       "      <td>...</td>\n",
       "    </tr>\n",
       "    <tr>\n",
       "      <th>152995</th>\n",
       "      <td>2604636</td>\n",
       "      <td>test</td>\n",
       "      <td>NaN</td>\n",
       "      <td>regions</td>\n",
       "      <td>target_direct</td>\n",
       "      <td>0</td>\n",
       "      <td>pc</td>\n",
       "    </tr>\n",
       "    <tr>\n",
       "      <th>152996</th>\n",
       "      <td>2604653</td>\n",
       "      <td>control</td>\n",
       "      <td>5236.818309</td>\n",
       "      <td>regions</td>\n",
       "      <td>organic</td>\n",
       "      <td>1</td>\n",
       "      <td>mobile</td>\n",
       "    </tr>\n",
       "    <tr>\n",
       "      <th>152997</th>\n",
       "      <td>2604670</td>\n",
       "      <td>control</td>\n",
       "      <td>NaN</td>\n",
       "      <td>regions</td>\n",
       "      <td>target_direct</td>\n",
       "      <td>0</td>\n",
       "      <td>pc</td>\n",
       "    </tr>\n",
       "    <tr>\n",
       "      <th>152998</th>\n",
       "      <td>2604687</td>\n",
       "      <td>control</td>\n",
       "      <td>101.783032</td>\n",
       "      <td>regions</td>\n",
       "      <td>target_direct</td>\n",
       "      <td>1</td>\n",
       "      <td>pc</td>\n",
       "    </tr>\n",
       "    <tr>\n",
       "      <th>152999</th>\n",
       "      <td>2604704</td>\n",
       "      <td>test</td>\n",
       "      <td>NaN</td>\n",
       "      <td>msk</td>\n",
       "      <td>social_media</td>\n",
       "      <td>0</td>\n",
       "      <td>pc</td>\n",
       "    </tr>\n",
       "  </tbody>\n",
       "</table>\n",
       "<p>150483 rows × 7 columns</p>\n",
       "</div>"
      ],
      "text/plain": [
       "        user_id test_group  purchase_amount geo_group acquisition_channel  \\\n",
       "1          3738       test       306.639511   regions       target_direct   \n",
       "2          3755    control              NaN   regions       target_direct   \n",
       "3          3772       test              NaN   regions       context_brand   \n",
       "4          3789    control              NaN       spb       target_direct   \n",
       "5          3806       test              NaN   regions        social_media   \n",
       "...         ...        ...              ...       ...                 ...   \n",
       "152995  2604636       test              NaN   regions       target_direct   \n",
       "152996  2604653    control      5236.818309   regions             organic   \n",
       "152997  2604670    control              NaN   regions       target_direct   \n",
       "152998  2604687    control       101.783032   regions       target_direct   \n",
       "152999  2604704       test              NaN       msk        social_media   \n",
       "\n",
       "        within_window platform  \n",
       "1                   1       pc  \n",
       "2                   0       pc  \n",
       "3                   0   mobile  \n",
       "4                   0       pc  \n",
       "5                   0       pc  \n",
       "...               ...      ...  \n",
       "152995              0       pc  \n",
       "152996              1   mobile  \n",
       "152997              0       pc  \n",
       "152998              1       pc  \n",
       "152999              0       pc  \n",
       "\n",
       "[150483 rows x 7 columns]"
      ]
     },
     "execution_count": 35,
     "metadata": {},
     "output_type": "execute_result"
    }
   ],
   "source": [
    "data"
   ]
  },
  {
   "cell_type": "code",
   "execution_count": 36,
   "metadata": {
    "id": "yicAUBtnbL07"
   },
   "outputs": [
    {
     "data": {
      "text/html": [
       "<div>\n",
       "<style scoped>\n",
       "    .dataframe tbody tr th:only-of-type {\n",
       "        vertical-align: middle;\n",
       "    }\n",
       "\n",
       "    .dataframe tbody tr th {\n",
       "        vertical-align: top;\n",
       "    }\n",
       "\n",
       "    .dataframe thead th {\n",
       "        text-align: right;\n",
       "    }\n",
       "</style>\n",
       "<table border=\"1\" class=\"dataframe\">\n",
       "  <thead>\n",
       "    <tr style=\"text-align: right;\">\n",
       "      <th></th>\n",
       "      <th>test_group</th>\n",
       "      <th>user_id</th>\n",
       "      <th>within_window</th>\n",
       "      <th>conversion</th>\n",
       "    </tr>\n",
       "  </thead>\n",
       "  <tbody>\n",
       "    <tr>\n",
       "      <th>0</th>\n",
       "      <td>control</td>\n",
       "      <td>75210</td>\n",
       "      <td>22998</td>\n",
       "      <td>30.58</td>\n",
       "    </tr>\n",
       "    <tr>\n",
       "      <th>1</th>\n",
       "      <td>test</td>\n",
       "      <td>75273</td>\n",
       "      <td>24427</td>\n",
       "      <td>32.45</td>\n",
       "    </tr>\n",
       "  </tbody>\n",
       "</table>\n",
       "</div>"
      ],
      "text/plain": [
       "  test_group  user_id  within_window  conversion\n",
       "0    control    75210          22998       30.58\n",
       "1       test    75273          24427       32.45"
      ]
     },
     "execution_count": 36,
     "metadata": {},
     "output_type": "execute_result"
    }
   ],
   "source": [
    "metrics = data.groupby('test_group', as_index= False).agg({'user_id': 'count', 'within_window': 'sum'})\n",
    "metrics['conversion'] = round(metrics['within_window']/metrics['user_id']*100, 2)\n",
    "metrics"
   ]
  },
  {
   "cell_type": "code",
   "execution_count": 41,
   "metadata": {
    "id": "dAdU8YspbL07"
   },
   "outputs": [
    {
     "data": {
      "text/html": [
       "<div>\n",
       "<style scoped>\n",
       "    .dataframe tbody tr th:only-of-type {\n",
       "        vertical-align: middle;\n",
       "    }\n",
       "\n",
       "    .dataframe tbody tr th {\n",
       "        vertical-align: top;\n",
       "    }\n",
       "\n",
       "    .dataframe thead th {\n",
       "        text-align: right;\n",
       "    }\n",
       "</style>\n",
       "<table border=\"1\" class=\"dataframe\">\n",
       "  <thead>\n",
       "    <tr style=\"text-align: right;\">\n",
       "      <th></th>\n",
       "      <th>test_group</th>\n",
       "      <th>user_id</th>\n",
       "      <th>within_window</th>\n",
       "      <th>conversion</th>\n",
       "    </tr>\n",
       "  </thead>\n",
       "  <tbody>\n",
       "    <tr>\n",
       "      <th>0</th>\n",
       "      <td>control</td>\n",
       "      <td>45112</td>\n",
       "      <td>13732</td>\n",
       "      <td>30.44</td>\n",
       "    </tr>\n",
       "    <tr>\n",
       "      <th>1</th>\n",
       "      <td>test</td>\n",
       "      <td>60317</td>\n",
       "      <td>19659</td>\n",
       "      <td>32.59</td>\n",
       "    </tr>\n",
       "  </tbody>\n",
       "</table>\n",
       "</div>"
      ],
      "text/plain": [
       "  test_group  user_id  within_window  conversion\n",
       "0    control    45112          13732       30.44\n",
       "1       test    60317          19659       32.59"
      ]
     },
     "execution_count": 41,
     "metadata": {},
     "output_type": "execute_result"
    }
   ],
   "source": [
    "metrics_pc = data.loc[data['platform']=='pc'].groupby('test_group', as_index= False).agg({'user_id': 'count',\\\n",
    "                                                                                          'within_window': 'sum'})\n",
    "metrics_pc['conversion'] = round(metrics_pc['within_window']/metrics_pc['user_id']*100, 2)\n",
    "metrics_pc"
   ]
  },
  {
   "cell_type": "code",
   "execution_count": 42,
   "metadata": {
    "id": "j1bGG9yrbL08"
   },
   "outputs": [
    {
     "data": {
      "text/html": [
       "<div>\n",
       "<style scoped>\n",
       "    .dataframe tbody tr th:only-of-type {\n",
       "        vertical-align: middle;\n",
       "    }\n",
       "\n",
       "    .dataframe tbody tr th {\n",
       "        vertical-align: top;\n",
       "    }\n",
       "\n",
       "    .dataframe thead th {\n",
       "        text-align: right;\n",
       "    }\n",
       "</style>\n",
       "<table border=\"1\" class=\"dataframe\">\n",
       "  <thead>\n",
       "    <tr style=\"text-align: right;\">\n",
       "      <th></th>\n",
       "      <th>test_group</th>\n",
       "      <th>user_id</th>\n",
       "      <th>within_window</th>\n",
       "      <th>conversion</th>\n",
       "    </tr>\n",
       "  </thead>\n",
       "  <tbody>\n",
       "    <tr>\n",
       "      <th>0</th>\n",
       "      <td>control</td>\n",
       "      <td>30098</td>\n",
       "      <td>9266</td>\n",
       "      <td>30.79</td>\n",
       "    </tr>\n",
       "    <tr>\n",
       "      <th>1</th>\n",
       "      <td>test</td>\n",
       "      <td>14956</td>\n",
       "      <td>4768</td>\n",
       "      <td>31.88</td>\n",
       "    </tr>\n",
       "  </tbody>\n",
       "</table>\n",
       "</div>"
      ],
      "text/plain": [
       "  test_group  user_id  within_window  conversion\n",
       "0    control    30098           9266       30.79\n",
       "1       test    14956           4768       31.88"
      ]
     },
     "execution_count": 42,
     "metadata": {},
     "output_type": "execute_result"
    }
   ],
   "source": [
    "metrics_mobile = data.loc[data['platform']=='mobile'].groupby('test_group', as_index= False).agg({'user_id': 'count',\\\n",
    "                                                                                                  'within_window': 'sum'})\n",
    "metrics_mobile['conversion'] = round(metrics_mobile['within_window']/metrics_mobile['user_id']*100, 2)\n",
    "metrics_mobile"
   ]
  },
  {
   "cell_type": "markdown",
   "metadata": {
    "id": "CqMnSwzvbL08"
   },
   "source": [
    "**1. Вычисли** `p-value` **для каждой группы с помощью теста хи-квадрат**\n",
    "\n",
    "   - Импортируй библиотеку `statsmodels` и используй функцию `proportions_chisquare` из нее\n",
    "   - Результат работы функции `proportions_chisquare` присвой трем переменным для каждой группы\n"
   ]
  },
  {
   "cell_type": "code",
   "execution_count": 45,
   "metadata": {
    "id": "Q5J-6Z54bL08"
   },
   "outputs": [],
   "source": [
    "import statsmodels.stats.proportion as proportion"
   ]
  },
  {
   "cell_type": "code",
   "execution_count": 46,
   "metadata": {
    "id": "_w0kri_PbL0-"
   },
   "outputs": [],
   "source": [
    "chi2stat, pval, table = proportion.proportions_chisquare(metrics['within_window'], metrics['user_id'])"
   ]
  },
  {
   "cell_type": "code",
   "execution_count": 47,
   "metadata": {
    "id": "WZHc1CEHbL0-"
   },
   "outputs": [],
   "source": [
    "chi2stat_pc, pval_pc, table_pc = proportion.proportions_chisquare(metrics_pc['within_window'], metrics_pc['user_id'])"
   ]
  },
  {
   "cell_type": "code",
   "execution_count": 48,
   "metadata": {
    "id": "hu9CH3VFbL0_"
   },
   "outputs": [],
   "source": [
    "chi2stat_mobile, pval_mobile, table_mobile = proportion.proportions_chisquare(metrics_mobile['within_window'], \\\n",
    "                                                                              metrics_mobile['user_id'])"
   ]
  },
  {
   "cell_type": "markdown",
   "metadata": {
    "id": "cbSeqgLkbL0_"
   },
   "source": [
    "**2. Введи в анализ уровень значимости в 5% с помощью переменной** `alpha`.\n"
   ]
  },
  {
   "cell_type": "code",
   "execution_count": 49,
   "metadata": {
    "id": "YRT0d5F4bL0_"
   },
   "outputs": [
    {
     "name": "stdout",
     "output_type": "stream",
     "text": [
      "True\n"
     ]
    }
   ],
   "source": [
    "# напиши здесь код\n",
    "alpha=0.05\n",
    "print(pval < alpha)"
   ]
  },
  {
   "cell_type": "code",
   "execution_count": 50,
   "metadata": {},
   "outputs": [
    {
     "name": "stdout",
     "output_type": "stream",
     "text": [
      "True\n"
     ]
    }
   ],
   "source": [
    "print(pval_pc < alpha)"
   ]
  },
  {
   "cell_type": "code",
   "execution_count": 51,
   "metadata": {},
   "outputs": [
    {
     "name": "stdout",
     "output_type": "stream",
     "text": [
      "True\n"
     ]
    }
   ],
   "source": [
    "print(pval_mobile < alpha)"
   ]
  },
  {
   "cell_type": "markdown",
   "metadata": {
    "id": "5HjWvrfObL1A"
   },
   "source": [
    "**3. Оставь комментарий, какой вывод о наличии статистически значимой в каждой группе разницы можно сделать? Что делаем с нулевой гипотезой?**"
   ]
  },
  {
   "cell_type": "markdown",
   "metadata": {},
   "source": [
    "<div\n",
    "  style=\"\n",
    "    padding: 24px;\n",
    "    background-color: #009ee4;\n",
    "    border-radius: 24px;\n",
    "    color: white;\n",
    "    font-family: Arial;\n",
    "  \"\n",
    ">\n",
    "  <div style=\"font-size: 36px; margin-top: 6px; line-height: 16px; font-weight: bold\">\n",
    "    Вывод\n",
    "  <div style=\" font-size: 18px; margin-top: 24px; line-height: 24px\">\n",
    "Зачение p-value меньше желаемого уровня вероятности ошибки первого рода  для всех трех групп. Следовательно различия в конверсии являются статистически значимыми. Во всех трех группах конверсия в тестовой группе выше чем в контрольной. Нулевая гипотеза не верна.\n",
    "\n",
    "      \n",
    "\n",
    "</div>\n",
    "\n"
   ]
  },
  {
   "cell_type": "markdown",
   "metadata": {
    "id": "aTrhi9zfbL1B"
   },
   "source": [
    "## Задание 4. Вычисли мощность теста\n",
    "\n",
    "1. Импортируй объект `stats.power` из библиотеки `statsmodels`\n",
    "2. Присвой функцию `GofChisquarePower()` из этой библиотеки в переменную `chipower` \n",
    "3. Реализуй функцию для подсчета `effect_size`"
   ]
  },
  {
   "cell_type": "code",
   "execution_count": 55,
   "metadata": {
    "id": "-yk7MRcIbL1B"
   },
   "outputs": [],
   "source": [
    "import statsmodels.stats.power as smp"
   ]
  },
  {
   "cell_type": "code",
   "execution_count": 59,
   "metadata": {
    "id": "-riu6DIdbL1C"
   },
   "outputs": [],
   "source": [
    "# напиши здесь код\n",
    "chipower = smp.GofChisquarePower()\n"
   ]
  },
  {
   "cell_type": "markdown",
   "metadata": {
    "id": "fPvQU-50bL1D"
   },
   "source": [
    "`effect_size` — это та самая наблюдаемая разница между двумя вариантами. Вычисляется следующим образом: \n",
    "\n",
    "$$ES = \\sqrt{(p_0 - p_1)^2/p_o}$$\n",
    "\n",
    ", где под $p_0$ можно понимать конверсию в контрольной группе, а $p_1$ — тестовой"
   ]
  },
  {
   "cell_type": "code",
   "execution_count": 60,
   "metadata": {
    "id": "oKd-pOhNbL1H"
   },
   "outputs": [],
   "source": [
    "def chi2_effect_size(p0, p1):\n",
    "    return np.sqrt(((p0 - p1)**2 / p0))"
   ]
  },
  {
   "cell_type": "markdown",
   "metadata": {
    "id": "DNxX0FxlbL1I"
   },
   "source": [
    "4. Запиши значения конверсии в тестовой `conversion_test` и контрольной `conversion_control` группы в разные переменные\n",
    "    - переведи серию в массив с помощью `.values[ ]`\n",
    "    - раздели значения на 100, чтобы получить значения, а не %\n",
    "    \n",
    "    \n",
    "5. Создай переменную nobs для количества наблюдений и запиши в нее значение меньшей группы"
   ]
  },
  {
   "cell_type": "code",
   "execution_count": 56,
   "metadata": {
    "id": "3Pk5F428bL1J"
   },
   "outputs": [],
   "source": [
    "conversion_control = metrics['conversion'].values[0]/100 \n",
    "conversion_test = metrics['conversion'].values[1]/100\n",
    "nobs = min(metrics['user_id'])"
   ]
  },
  {
   "cell_type": "code",
   "execution_count": 57,
   "metadata": {
    "id": "GvXJIApvbL1K"
   },
   "outputs": [],
   "source": [
    "conversion_control_mobile = metrics_mobile['conversion'].values[0]/100 \n",
    "conversion_test_mobile = metrics_mobile['conversion'].values[1]/100\n",
    "nobs_mobile =  min(metrics_mobile['user_id'])"
   ]
  },
  {
   "cell_type": "code",
   "execution_count": 58,
   "metadata": {
    "id": "uCdz925obL1K"
   },
   "outputs": [],
   "source": [
    "conversion_control_pc = metrics_pc['conversion'].values[0]/100 \n",
    "conversion_test_pc = metrics_pc['conversion'].values[1]/100\n",
    "nobs_pc =  min(metrics_pc['user_id'])"
   ]
  },
  {
   "cell_type": "markdown",
   "metadata": {
    "id": "_IYBUKzTbL1K"
   },
   "source": [
    "**6. Вызови функцию .solve_power и передай ей в аргументы** \n",
    "    - effect_size\n",
    "    - количество наблюдений меньшей группы\n",
    "    - значение p-value\n",
    "    - мощности присвой значение None\n",
    "    \n",
    "**7. Сделай анализ мощности для каждого сегмента, для которого делали тест хи-квадрат.**\n",
    "\n",
    "Оставь комментарий, как ты оцениваешь мощность этого теста? Можно ли на основе таких показателей делать выводы?\n"
   ]
  },
  {
   "cell_type": "code",
   "execution_count": 66,
   "metadata": {
    "id": "iedF3DKybL1L"
   },
   "outputs": [
    {
     "data": {
      "text/plain": [
       "0.9271367916086642"
      ]
     },
     "execution_count": 66,
     "metadata": {},
     "output_type": "execute_result"
    }
   ],
   "source": [
    "power = chipower.solve_power(effect_size = chi2_effect_size(conversion_control, conversion_test), \n",
    "                                               nobs = nobs, \n",
    "                                               alpha = pval, \n",
    "                                               power = None) \n",
    "power"
   ]
  },
  {
   "cell_type": "code",
   "execution_count": 67,
   "metadata": {
    "id": "N5BqF4yYbL1L"
   },
   "outputs": [
    {
     "data": {
      "text/plain": [
       "0.51629109023244"
      ]
     },
     "execution_count": 67,
     "metadata": {},
     "output_type": "execute_result"
    }
   ],
   "source": [
    "mobile_power = chipower.solve_power(effect_size = chi2_effect_size(conversion_control_mobile, conversion_test_mobile), \n",
    "                                               nobs = nobs_mobile, \n",
    "                                               alpha = pval_mobile, \n",
    "                                               power = None) \n",
    "mobile_power"
   ]
  },
  {
   "cell_type": "code",
   "execution_count": 87,
   "metadata": {},
   "outputs": [
    {
     "data": {
      "text/plain": [
       "20340.578661911783"
      ]
     },
     "execution_count": 87,
     "metadata": {},
     "output_type": "execute_result"
    }
   ],
   "source": [
    "mobile_nobs_adv = chipower.solve_power(effect_size = chi2_effect_size(conversion_control_mobile, conversion_test_mobile), \n",
    "                                               nobs = None, \n",
    "                                               alpha = 0.05, \n",
    "                                               power = 0.8) \n",
    "mobile_nobs_adv"
   ]
  },
  {
   "cell_type": "code",
   "execution_count": 65,
   "metadata": {
    "id": "EkzdB9swbL1L"
   },
   "outputs": [
    {
     "data": {
      "text/plain": [
       "0.79997711974453"
      ]
     },
     "execution_count": 65,
     "metadata": {},
     "output_type": "execute_result"
    }
   ],
   "source": [
    "pc_power = chipower.solve_power(effect_size = chi2_effect_size(conversion_control_pc, conversion_test_pc), \n",
    "                                               nobs = nobs_pc, \n",
    "                                               alpha = pval_pc, \n",
    "                                               power = None) \n",
    "pc_power"
   ]
  },
  {
   "cell_type": "markdown",
   "metadata": {},
   "source": [
    "<div\n",
    "  style=\"\n",
    "    padding: 24px;\n",
    "    background-color: #009ee4;\n",
    "    border-radius: 24px;\n",
    "    color: white;\n",
    "    font-family: Arial;\n",
    "  \"\n",
    ">\n",
    "  <div style=\"font-size: 36px; margin-top: 6px; line-height: 16px; font-weight: bold\">\n",
    "    Вывод\n",
    "  <div style=\" font-size: 18px; margin-top: 24px; line-height: 24px\">\n",
    "      Значение мощности в целом по всей выборке достаточно высокое 92%. Для платформы 'pc' на границе приемлемого - 80%. \n",
    "      \n",
    "      \n",
    "  <div style=\"padding: 24px; background-color: #ff7775; border-radius: 24px\">\n",
    "    <img\n",
    "      style=\"width: 56px; height: 56px; float: left\"\n",
    "      src=\"data:image/png;base64,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\"\n",
    "    />\n",
    "    <div\n",
    "      style=\"\n",
    "        font-size: 18px;\n",
    "        line-height: 26px;\n",
    "        font-family: Arial;\n",
    "        color: white;\n",
    "        margin-left: 84px;\n",
    "      \"\n",
    "    >\n",
    "      А вот для мобильных мощность недостаточная - всего 52%, с вероятностью 48% мы бы не увидели статистически значимых отличий там, где они существуют.   \n",
    "   </div>\n",
    "  </div>\n",
    "</body>\n",
    "\n",
    "      \n",
    "\n",
    "</div>"
   ]
  },
  {
   "cell_type": "markdown",
   "metadata": {
    "id": "lYlqrjkLbL1M"
   },
   "source": [
    "## Задание 5. Воспользуйся бутстрапом для оценки влияния теста на средний чек"
   ]
  },
  {
   "cell_type": "markdown",
   "metadata": {
    "id": "cAEEwfC1bL1N"
   },
   "source": [
    "**1. Сделай бутстрап среднего чека для тестовой и контрольной выборок, визуализируй результат. Какие выводы можно сделать?**\n",
    "   - загрузи нужные модули из библиотеки `bootstrapped`\n",
    "   - для сегментов, которые мы анализируем отдельно, создай переменную со значением среднего чека\n",
    "   - чтобы убрать строки без покупок, используй `dropna()` и `.values`, чтобы перевести данные в формат массива"
   ]
  },
  {
   "cell_type": "code",
   "execution_count": 68,
   "metadata": {
    "id": "HiFX2R0DbL1O"
   },
   "outputs": [],
   "source": [
    "# импортируем необходимые модули\n",
    "import bootstrapped.bootstrap as bs\n",
    "import bootstrapped.stats_functions as bs_stats\n",
    "import bootstrapped.compare_functions as bs_compare\n",
    "import numpy as np"
   ]
  },
  {
   "cell_type": "code",
   "execution_count": 73,
   "metadata": {
    "id": "Q4QY9KlEbL1O"
   },
   "outputs": [],
   "source": [
    "test = data[data['test_group'] == 'test']['purchase_amount'].dropna().values\n",
    "control = data[data['test_group'] == 'control']['purchase_amount'].dropna().values\n",
    "\n",
    "test_pc = data[data['test_group'] == 'test']['purchase_amount'].loc[data['platform']=='pc'].\\\n",
    "                                        dropna().values\n",
    "control_pc = data[data['test_group'] == 'control']['purchase_amount'].loc[data['platform']=='pc']\\\n",
    "                                        .dropna().values\n",
    "\n",
    "test_mobile = data[data['test_group'] == 'test']['purchase_amount'].loc[data['platform']=='mobile'].\\\n",
    "                                        dropna().values\n",
    "control_mobile = data[data['test_group'] == 'control']['purchase_amount'].loc[data['platform']=='mobile']\\\n",
    "                                        .dropna().values"
   ]
  },
  {
   "cell_type": "markdown",
   "metadata": {
    "id": "2kZnidOtbL1P"
   },
   "source": [
    "**2. Вызови функцию `bootstrap_ab` для каждого сегмента, передай ей нужные аргументы**\n",
    "   - `test = `\n",
    "   - `ctrl = `\n",
    "   - `stat_func = bs_stats.mean`\n",
    "   - `compare_func = bs_compare.difference`\n",
    "   - `return_distribution = True`"
   ]
  },
  {
   "cell_type": "code",
   "execution_count": 74,
   "metadata": {
    "id": "_3d_VHvpbL1P"
   },
   "outputs": [],
   "source": [
    "boot = bs.bootstrap_ab(test = test, ctrl = control\n",
    "                              , stat_func = bs_stats.mean\n",
    "                              , compare_func = bs_compare.difference\n",
    "                              , return_distribution=True)"
   ]
  },
  {
   "cell_type": "code",
   "execution_count": 75,
   "metadata": {
    "id": "vfIIQjwVbL1Q"
   },
   "outputs": [],
   "source": [
    "boot_pc = bs.bootstrap_ab(test = test_pc, ctrl = control_pc\n",
    "                              , stat_func = bs_stats.mean\n",
    "                              , compare_func = bs_compare.difference\n",
    "                              , return_distribution=True)"
   ]
  },
  {
   "cell_type": "code",
   "execution_count": 76,
   "metadata": {
    "id": "EvRqr4YmbL1R"
   },
   "outputs": [],
   "source": [
    "boot_mobile = bs.bootstrap_ab(test = test_mobile, ctrl = control_mobile\n",
    "                              , stat_func = bs_stats.mean\n",
    "                              , compare_func = bs_compare.difference\n",
    "                              , return_distribution=True)"
   ]
  },
  {
   "cell_type": "markdown",
   "metadata": {
    "id": "48tQjFX3bL1R"
   },
   "source": [
    "**3. Задай размер доверительного интервала для каждого исследуемого сегмента 95% с помощью перцентилей**"
   ]
  },
  {
   "cell_type": "code",
   "execution_count": 77,
   "metadata": {
    "id": "gCCAbRnfbL1R"
   },
   "outputs": [],
   "source": [
    "borders = np.percentile(boot, [2.5, 97.5])\n",
    "borders_pc = np.percentile(boot_pc, [2.5, 97.5])\n",
    "borders_mobile = np.percentile(boot_mobile, [2.5, 97.5])"
   ]
  },
  {
   "cell_type": "markdown",
   "metadata": {
    "id": "VX-vFjvCbL1S"
   },
   "source": [
    "**4. Оцени, есть ли статистически значимое изменение по среднему чеку в каждом сегменте**\n",
    "\n",
    "   - Построй гистограмму распределения значений среднего чека.\n",
    "   - Выведи границы доверительного интервала линиями.\n",
    "   - Выведи ноль красной линией.\n",
    "   - Оставь комментарий, есть ли статистически значимое изменение по среднему чеку в каждом сегменте.\n",
    "   "
   ]
  },
  {
   "cell_type": "code",
   "execution_count": 81,
   "metadata": {
    "id": "yrzEZotTbL1S"
   },
   "outputs": [
    {
     "name": "stderr",
     "output_type": "stream",
     "text": [
      "C:\\Users\\zhann\\anaconda3\\lib\\site-packages\\seaborn\\distributions.py:2619: FutureWarning: `distplot` is a deprecated function and will be removed in a future version. Please adapt your code to use either `displot` (a figure-level function with similar flexibility) or `histplot` (an axes-level function for histograms).\n",
      "  warnings.warn(msg, FutureWarning)\n"
     ]
    },
    {
     "data": {
      "image/png": "[encoded data removed]",
      "text/plain": [
       "<Figure size 864x432 with 1 Axes>"
      ]
     },
     "metadata": {
      "needs_background": "light"
     },
     "output_type": "display_data"
    }
   ],
   "source": [
    "sns.distplot(boot) # функция построения распределения\n",
    "plt.title('Bootstrap-распределение разниц среднего чека для всей выборки')\n",
    "plt.rcParams[\"figure.figsize\"] = (12, 6)\n",
    "plt.vlines(0, # отрисуем линию на уровне ноля\n",
    "           ymin = 0, \n",
    "           ymax = 0.01, \n",
    "           linestyles= '--', \n",
    "           colors = 'red')\n",
    "plt.vlines(borders, # отрисуем перцентили\n",
    "           ymin = 0, \n",
    "           ymax = 0.01, \n",
    "           linestyles= '--', \n",
    "           colors = 'grey', \n",
    "           label = '95%-доверительный интервал')\n",
    "plt.legend()\n",
    "plt.show()"
   ]
  },
  {
   "cell_type": "code",
   "execution_count": 84,
   "metadata": {},
   "outputs": [
    {
     "name": "stderr",
     "output_type": "stream",
     "text": [
      "C:\\Users\\zhann\\anaconda3\\lib\\site-packages\\seaborn\\distributions.py:2619: FutureWarning: `distplot` is a deprecated function and will be removed in a future version. Please adapt your code to use either `displot` (a figure-level function with similar flexibility) or `histplot` (an axes-level function for histograms).\n",
      "  warnings.warn(msg, FutureWarning)\n"
     ]
    },
    {
     "data": {
      "image/png": "[encoded data removed]",
      "text/plain": [
       "<Figure size 864x432 with 1 Axes>"
      ]
     },
     "metadata": {
      "needs_background": "light"
     },
     "output_type": "display_data"
    }
   ],
   "source": [
    "sns.distplot(boot_pc) # функция построения распределения\n",
    "plt.title('Bootstrap-распределение разниц среднего чека для платформы pc')\n",
    "plt.rcParams[\"figure.figsize\"] = (12, 6)\n",
    "plt.vlines(0, # отрисуем линию на уровне ноля\n",
    "           ymin = 0, \n",
    "           ymax = 0.008, \n",
    "           linestyles= '--', \n",
    "           colors = 'red')\n",
    "plt.vlines(borders_pc, # отрисуем перцентили\n",
    "           ymin = 0, \n",
    "           ymax = 0.008, \n",
    "           linestyles= '--', \n",
    "           colors = 'grey', \n",
    "           label = '95%-доверительный интервал')\n",
    "plt.legend()\n",
    "plt.show()"
   ]
  },
  {
   "cell_type": "code",
   "execution_count": 86,
   "metadata": {},
   "outputs": [
    {
     "name": "stderr",
     "output_type": "stream",
     "text": [
      "C:\\Users\\zhann\\anaconda3\\lib\\site-packages\\seaborn\\distributions.py:2619: FutureWarning: `distplot` is a deprecated function and will be removed in a future version. Please adapt your code to use either `displot` (a figure-level function with similar flexibility) or `histplot` (an axes-level function for histograms).\n",
      "  warnings.warn(msg, FutureWarning)\n"
     ]
    },
    {
     "data": {
      "image/png": "[encoded data removed]",
      "text/plain": [
       "<Figure size 864x432 with 1 Axes>"
      ]
     },
     "metadata": {
      "needs_background": "light"
     },
     "output_type": "display_data"
    }
   ],
   "source": [
    "sns.distplot(boot_mobile) # функция построения распределения\n",
    "plt.title('Bootstrap-распределение разниц среднего чека для платформы mobile')\n",
    "plt.rcParams[\"figure.figsize\"] = (12, 6)\n",
    "plt.vlines(0, # отрисуем линию на уровне ноля\n",
    "           ymin = 0, \n",
    "           ymax = 0.005, \n",
    "           linestyles= '--', \n",
    "           colors = 'red')\n",
    "plt.vlines(borders_mobile, # отрисуем перцентили\n",
    "           ymin = 0, \n",
    "           ymax = 0.005, \n",
    "           linestyles= '--', \n",
    "           colors = 'grey', \n",
    "           label = '95%-доверительный интервал')\n",
    "plt.legend()\n",
    "plt.show()"
   ]
  },
  {
   "cell_type": "markdown",
   "metadata": {},
   "source": [
    "<div\n",
    "  style=\"\n",
    "    padding: 24px;\n",
    "    background-color: #009ee4;\n",
    "    border-radius: 24px;\n",
    "    color: white;\n",
    "    font-family: Arial;\n",
    "  \"\n",
    ">\n",
    "  <div style=\"font-size: 36px; margin-top: 6px; line-height: 16px; font-weight: bold\">\n",
    "    Вывод\n",
    "  <div style=\" font-size: 18px; margin-top: 24px; line-height: 24px\">\n",
    "      Для всех трех групп ноль находится за пределами доверительного интервала, и для всех он находится левее, следовательно средний чек статистически выше в тестовой группе относительно контрольной.\n",
    "      "
   ]
  },
  {
   "cell_type": "markdown",
   "metadata": {
    "id": "feYlEGx_bL1S"
   },
   "source": [
    "## Задание 6. Сделай вывод по результатам проведенного теста (заданий 2–5)\n",
    "\n",
    "Нужно ли внедрять изменение каталога? Почему?"
   ]
  },
  {
   "cell_type": "markdown",
   "metadata": {},
   "source": [
    "<div\n",
    "  style=\"\n",
    "    padding: 24px;\n",
    "    background-color: #009ee4;\n",
    "    border-radius: 24px;\n",
    "    color: white;\n",
    "    font-family: Arial;\n",
    "  \"\n",
    ">\n",
    "  <div style=\"font-size: 36px; margin-top: 6px; line-height: 16px; font-weight: bold\">\n",
    "    Вывод\n",
    "  <div style=\" font-size: 18px; margin-top: 24px; line-height: 24px\">\n",
    "      В целом тесты показали статистичеки значимое улучшение обеих метрик: конверсии в покупку и среднего чека по результатам A/B теста. Распределение покупателей по группам относительно используемой платформы было не совсем равномерным, но влияние этого было снижено за счет определения статистических показателей для трех групп: полной выборки, отдельно для платформы \"pc\" и отдельно для платформы \"mobile\". Для платформы mobile - была достаточно низкая мощность p-теста. Можно посоветовать набрать больше данных для этой платформы, а пока внедрить новую версию только на pc.\n",
    "      <div "
   ]
  },
  {
   "cell_type": "code",
   "execution_count": 88,
   "metadata": {},
   "outputs": [
    {
     "name": "stdout",
     "output_type": "stream",
     "text": [
      "Необходимый размер выборки для эксперимента - 40681\n"
     ]
    }
   ],
   "source": [
    "print('Необходимый размер выборки для эксперимента - {:.0f}'.format(2*mobile_nobs_adv))"
   ]
  },
  {
   "cell_type": "markdown",
   "metadata": {
    "id": "L3mfyEI4bL1S"
   },
   "source": [
    "# 🎉🎉🎉 Поздравляем, ты великолепен! "
   ]
  }
 ],
 "metadata": {
  "colab": {
   "name": "Skills_Python_4.1_homework.ipynb",
   "provenance": []
  },
  "kernelspec": {
   "display_name": "Python 3 (ipykernel)",
   "language": "python",
   "name": "python3"
  },
  "language_info": {
   "codemirror_mode": {
    "name": "ipython",
    "version": 3
   },
   "file_extension": ".py",
   "mimetype": "text/x-python",
   "name": "python",
   "nbconvert_exporter": "python",
   "pygments_lexer": "ipython3",
   "version": "3.9.7"
  }
 },
 "nbformat": 4,
 "nbformat_minor": 1
}
