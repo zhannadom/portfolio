{
 "cells": [
  {
   "cell_type": "markdown",
   "id": "f978c924",
   "metadata": {},
   "source": [
    "### Предыстория\n",
    "\n",
    "Ученые из корпорации Umbrella разработали новый тип вируса - Las Plagas. На данный момент непонятно, как именно будет зависеть эффективность данного вируса от тех или иных характеристик человека, на которого он воздействует.\n",
    "\n",
    "Для исследования **вируса Las Plagas** корпорация разработала эксперимент по симуляции заражения в городе Ракун-сити. Для эксперимента были разработаны симуляции людей, и на них был распространен вирус с **разной дозой заражения**.\n",
    "\n",
    "Ваша задача, как аналитика данных в корпорации, - это построить модель машинного обучения, которая сможет предсказывать произойдет ли заражение того или иного человека в зависимости от его характеристик.\n",
    "\n",
    "### Задача для воркшопа\n",
    "\n",
    "Ваша задача - подготовить модель машинного обучения и ее оценку для отдела исследований. Воспользуйтесь файлом “Umbrella_LasPlagas.csv” и постройте дерево решений для таргет-признака FLAG_MUT (1 - заражение произошло, 0 - заражение не произошло)\n",
    "\n",
    "Исследуйте данные, выберите признаки для модели и оцените accuracy_rate полученной модели. \n",
    "\n",
    "Также исследуйте зависимость accuracy_rate от размера тестовой выборки: увеличивайте последовательно размер тестовой выборки (с 1% до 49%) и посмотрите, как будет меняться accuracy_rate. Визуализируйте результат с помощью графика.\n",
    "\n",
    "### Описание данных\n",
    "\n",
    "**Umbrella_LasPlagas**\n",
    "\n",
    "- ID_SIMPERS - id человека\n",
    "- FLAG_MUT - таргет-величина. Флаг, который показывает, развился ли в результате вирус Лас Плагас в организме\n",
    "- AGE - возраст человека\n",
    "- DOSE - условная доза вирусного воздействия, которому подвергся человек\n",
    "- HEIGHT - высота человека\n",
    "- WEIGHT - вес человека\n",
    "- IS_CAUCAS - является ли человека белым?\n",
    "- HAS_APPENDIX - имеет ли человек аппендицит?\n",
    "- HAS_ALLERGY - имеет ли человек аллергию?"
   ]
  },
  {
   "cell_type": "code",
   "execution_count": 2,
   "id": "cb11ad03",
   "metadata": {},
   "outputs": [],
   "source": [
    "# Importing the libraries \n",
    "import pandas as pd\n",
    "import numpy as np\n",
    "from sklearn import metrics\n",
    "import matplotlib.pyplot as plt\n",
    "import seaborn as sns\n",
    "%matplotlib inline"
   ]
  },
  {
   "cell_type": "code",
   "execution_count": 3,
   "id": "95df7c70",
   "metadata": {},
   "outputs": [],
   "source": [
    "df = pd.read_csv('Umbrella_LasPlagas.csv', sep = ';')\n"
   ]
  },
  {
   "cell_type": "code",
   "execution_count": 6,
   "id": "aaf8f0ed",
   "metadata": {},
   "outputs": [
    {
     "name": "stdout",
     "output_type": "stream",
     "text": [
      "<class 'pandas.core.frame.DataFrame'>\n",
      "RangeIndex: 4887 entries, 0 to 4886\n",
      "Data columns (total 10 columns):\n",
      " #   Column        Non-Null Count  Dtype  \n",
      "---  ------        --------------  -----  \n",
      " 0   ID_SIMPERS    4887 non-null   int64  \n",
      " 1   FLAG_MUT      4866 non-null   float64\n",
      " 2   AGE           4859 non-null   float64\n",
      " 3   DOSE          4856 non-null   float64\n",
      " 4   HEIGHT        4776 non-null   float64\n",
      " 5   WEIGHT        4776 non-null   float64\n",
      " 6   GENDER        4844 non-null   object \n",
      " 7   IS_CAUCAS     4846 non-null   object \n",
      " 8   HAS_APPENDIX  4846 non-null   object \n",
      " 9   HAS_ALLERGY   4856 non-null   object \n",
      "dtypes: float64(5), int64(1), object(4)\n",
      "memory usage: 381.9+ KB\n"
     ]
    }
   ],
   "source": [
    "df.info()"
   ]
  },
  {
   "cell_type": "code",
   "execution_count": 7,
   "id": "223e12f1",
   "metadata": {},
   "outputs": [],
   "source": [
    "df_used = df.dropna()"
   ]
  },
  {
   "cell_type": "code",
   "execution_count": 8,
   "id": "e8d1b38f",
   "metadata": {},
   "outputs": [
    {
     "name": "stdout",
     "output_type": "stream",
     "text": [
      "<class 'pandas.core.frame.DataFrame'>\n",
      "Int64Index: 4772 entries, 0 to 4886\n",
      "Data columns (total 10 columns):\n",
      " #   Column        Non-Null Count  Dtype  \n",
      "---  ------        --------------  -----  \n",
      " 0   ID_SIMPERS    4772 non-null   int64  \n",
      " 1   FLAG_MUT      4772 non-null   float64\n",
      " 2   AGE           4772 non-null   float64\n",
      " 3   DOSE          4772 non-null   float64\n",
      " 4   HEIGHT        4772 non-null   float64\n",
      " 5   WEIGHT        4772 non-null   float64\n",
      " 6   GENDER        4772 non-null   object \n",
      " 7   IS_CAUCAS     4772 non-null   object \n",
      " 8   HAS_APPENDIX  4772 non-null   object \n",
      " 9   HAS_ALLERGY   4772 non-null   object \n",
      "dtypes: float64(5), int64(1), object(4)\n",
      "memory usage: 410.1+ KB\n"
     ]
    }
   ],
   "source": [
    "df_used.info()"
   ]
  },
  {
   "cell_type": "code",
   "execution_count": 9,
   "id": "492a6086",
   "metadata": {},
   "outputs": [],
   "source": [
    "def statistical_analysis(x,q = [.1,.25,.3,.4,.5,.6,.75,.9]):\n",
    "    mean_x=x.mean()    #определяем среднее\n",
    "    var_x=x.var()      #определяем дисперсию\n",
    "    std_x=x.std()      #определяем стандартное отклонение\n",
    "    #создаем dataframe по квантилям\n",
    "    qs = np.quantile(x,q)\n",
    "    qsr = qs[1:]/qs[:-1]\n",
    "    v=0.0\n",
    "    qsr = np.insert(qsr, 0, v)\n",
    "    dfq = pd.DataFrame(q, columns=['уровень квантиля']) \n",
    "    dfq['quantile'] = qs\n",
    "    dfq['ratio'] = qsr\n",
    "    nq = np.quantile(x,.25)\n",
    "    vq = np.quantile(x,.75)\n",
    "    sns.histplot(data=x),      #гистограмма\n",
    "    print('Среднее равно', mean_x),   \n",
    "    print('Дисперсия равна', var_x),\n",
    "    print('Стандартное отклонение равно', std_x),\n",
    "    print(dfq)\n",
    "    print('Межквартильный размах: ',(vq-nq))"
   ]
  },
  {
   "cell_type": "code",
   "execution_count": 14,
   "id": "d72413fa",
   "metadata": {},
   "outputs": [
    {
     "name": "stdout",
     "output_type": "stream",
     "text": [
      "Среднее равно 36.62615255658005\n",
      "Дисперсия равна 531.7013322491958\n",
      "Стандартное отклонение равно 23.058649835781708\n",
      "    уровень квантиля  quantile     ratio\n",
      "0              0.250      19.0  0.000000\n",
      "1              0.500      31.0  1.631579\n",
      "2              0.750      53.0  1.709677\n",
      "3              0.800      57.0  1.075472\n",
      "4              0.900      65.0  1.140351\n",
      "5              0.910      66.0  1.015385\n",
      "6              0.920      68.0  1.030303\n",
      "7              0.930      69.0  1.014706\n",
      "8              0.940      71.0  1.028986\n",
      "9              0.950      73.0  1.028169\n",
      "10             0.960      75.0  1.027397\n",
      "11             0.970      76.0  1.013333\n",
      "12             0.980      78.0  1.026316\n",
      "13             0.990      80.0  1.025641\n",
      "14             0.997      80.0  1.000000\n",
      "15             0.999     250.0  3.125000\n",
      "16             1.000     250.0  1.000000\n",
      "Межквартильный размах:  34.0\n"
     ]
    },
    {
     "data": {
      "image/png": "[encoded data removed]",
      "text/plain": [
       "<Figure size 432x288 with 1 Axes>"
      ]
     },
     "metadata": {
      "needs_background": "light"
     },
     "output_type": "display_data"
    }
   ],
   "source": [
    "statistical_analysis(df_used['AGE'], q = [.25, .5, .75, .8, .9, .91, .92, .93, .94, .95, .96, .97, .98, .99, .997, .999, 1])"
   ]
  },
  {
   "cell_type": "code",
   "execution_count": 15,
   "id": "1332186f",
   "metadata": {},
   "outputs": [],
   "source": [
    "df_used = df_used.loc[df_used['AGE'] < 100]"
   ]
  },
  {
   "cell_type": "code",
   "execution_count": 16,
   "id": "96dc1493",
   "metadata": {},
   "outputs": [
    {
     "name": "stdout",
     "output_type": "stream",
     "text": [
      "Среднее равно 36.05296343001261\n",
      "Дисперсия равна 419.9160507075114\n",
      "Стандартное отклонение равно 20.491853276546546\n",
      "    уровень квантиля  quantile     ratio\n",
      "0              0.250      19.0  0.000000\n",
      "1              0.500      31.0  1.631579\n",
      "2              0.750      53.0  1.709677\n",
      "3              0.800      57.0  1.075472\n",
      "4              0.900      65.0  1.140351\n",
      "5              0.910      66.0  1.015385\n",
      "6              0.920      67.0  1.015152\n",
      "7              0.930      69.0  1.029851\n",
      "8              0.940      71.0  1.028986\n",
      "9              0.950      72.0  1.014085\n",
      "10             0.960      74.0  1.027778\n",
      "11             0.970      76.0  1.027027\n",
      "12             0.980      77.0  1.013158\n",
      "13             0.990      79.0  1.025974\n",
      "14             0.997      80.0  1.012658\n",
      "15             0.999      80.0  1.000000\n",
      "16             1.000      80.0  1.000000\n",
      "Межквартильный размах:  34.0\n"
     ]
    },
    {
     "data": {
      "image/png": "[encoded data removed]",
      "text/plain": [
       "<Figure size 432x288 with 1 Axes>"
      ]
     },
     "metadata": {
      "needs_background": "light"
     },
     "output_type": "display_data"
    }
   ],
   "source": [
    "statistical_analysis(df_used['AGE'], q = [.25, .5, .75, .8, .9, .91, .92, .93, .94, .95, .96, .97, .98, .99, .997, .999, 1])"
   ]
  },
  {
   "cell_type": "code",
   "execution_count": 17,
   "id": "9375a2ad",
   "metadata": {},
   "outputs": [
    {
     "name": "stdout",
     "output_type": "stream",
     "text": [
      "Среднее равно 24.89344262295082\n",
      "Дисперсия равна 121.14966899513065\n",
      "Стандартное отклонение равно 11.006801033685067\n",
      "    уровень квантиля  quantile     ratio\n",
      "0              0.250      17.0  0.000000\n",
      "1              0.500      25.0  1.470588\n",
      "2              0.750      32.0  1.280000\n",
      "3              0.800      34.0  1.062500\n",
      "4              0.900      39.0  1.147059\n",
      "5              0.910      40.0  1.025641\n",
      "6              0.920      42.0  1.050000\n",
      "7              0.930      43.0  1.023810\n",
      "8              0.940      44.0  1.023256\n",
      "9              0.950      45.0  1.022727\n",
      "10             0.960      46.0  1.022222\n",
      "11             0.970      48.0  1.043478\n",
      "12             0.980      48.0  1.000000\n",
      "13             0.990      49.0  1.020833\n",
      "14             0.997      50.0  1.020408\n",
      "15             0.999      50.0  1.000000\n",
      "16             1.000      50.0  1.000000\n",
      "Межквартильный размах:  15.0\n"
     ]
    },
    {
     "data": {
      "image/png": "[encoded data removed]",
      "text/plain": [
       "<Figure size 432x288 with 1 Axes>"
      ]
     },
     "metadata": {
      "needs_background": "light"
     },
     "output_type": "display_data"
    }
   ],
   "source": [
    "statistical_analysis(df_used['DOSE'], q = [.25, .5, .75, .8, .9, .91, .92, .93, .94, .95, .96, .97, .98, .99, .997, .999, 1])"
   ]
  },
  {
   "cell_type": "code",
   "execution_count": 27,
   "id": "6ce31d88",
   "metadata": {},
   "outputs": [
    {
     "name": "stdout",
     "output_type": "stream",
     "text": [
      "Среднее равно 177.15636363636364\n",
      "Дисперсия равна 564.9381040183591\n",
      "Стандартное отклонение равно 23.768426620589743\n",
      "    уровень квантиля  quantile     ratio\n",
      "0             0.0200     104.0  0.000000\n",
      "1             0.2500     167.0  1.605769\n",
      "2             0.5000     181.0  1.083832\n",
      "3             0.7500     195.0  1.077348\n",
      "4             0.8000     198.0  1.015385\n",
      "5             0.9000     203.0  1.025253\n",
      "6             0.9100     204.0  1.004926\n",
      "7             0.9200     204.0  1.000000\n",
      "8             0.9300     205.0  1.004902\n",
      "9             0.9400     206.0  1.004878\n",
      "10            0.9500     206.0  1.000000\n",
      "11            0.9600     207.0  1.004854\n",
      "12            0.9700     207.0  1.000000\n",
      "13            0.9800     208.0  1.004831\n",
      "14            0.9900     209.0  1.004808\n",
      "15            0.9970     209.0  1.000000\n",
      "16            0.9990     209.0  1.000000\n",
      "17            0.9995     209.0  1.000000\n",
      "18            1.0000     209.0  1.000000\n",
      "Межквартильный размах:  28.0\n"
     ]
    },
    {
     "data": {
      "image/png": "[encoded data removed]",
      "text/plain": [
       "<Figure size 432x288 with 1 Axes>"
      ]
     },
     "metadata": {
      "needs_background": "light"
     },
     "output_type": "display_data"
    }
   ],
   "source": [
    "statistical_analysis(df_used['HEIGHT'], q = [0.02, .25, .5, .75, .8, .9, .91, .92, .93, .94, .95, .96, .97, .98, .99, .997, .999, .9995, 1])"
   ]
  },
  {
   "cell_type": "code",
   "execution_count": 26,
   "id": "aab3651d",
   "metadata": {},
   "outputs": [],
   "source": [
    "df_used = df_used[(df_used['HEIGHT']<210)&(df_used['HEIGHT']>0)]"
   ]
  },
  {
   "cell_type": "code",
   "execution_count": 28,
   "id": "880a55b3",
   "metadata": {},
   "outputs": [
    {
     "name": "stdout",
     "output_type": "stream",
     "text": [
      "Среднее равно 91.23572192513369\n",
      "Дисперсия равна 1897.2152833629748\n",
      "Стандартное отклонение равно 43.55703483207936\n",
      "    уровень квантиля  quantile     ratio\n",
      "0             0.0200     17.48  0.000000\n",
      "1             0.2500     62.00  3.546911\n",
      "2             0.5000     91.00  1.467742\n",
      "3             0.7500    121.00  1.329670\n",
      "4             0.8000    127.00  1.049587\n",
      "5             0.9000    139.00  1.094488\n",
      "6             0.9100    140.00  1.007194\n",
      "7             0.9200    142.00  1.014286\n",
      "8             0.9300    143.00  1.007042\n",
      "9             0.9400    144.00  1.006993\n",
      "10            0.9500    145.00  1.006944\n",
      "11            0.9600    146.04  1.007172\n",
      "12            0.9700    147.78  1.011915\n",
      "13            0.9800    148.00  1.001489\n",
      "14            0.9900    150.00  1.013514\n",
      "15            0.9970    150.00  1.000000\n",
      "16            0.9990    529.34  3.528933\n",
      "17            0.9995    613.26  1.158537\n",
      "18            1.0000   1159.00  1.889900\n",
      "Межквартильный размах:  59.0\n"
     ]
    },
    {
     "data": {
      "image/png": "[encoded data removed]",
      "text/plain": [
       "<Figure size 432x288 with 1 Axes>"
      ]
     },
     "metadata": {
      "needs_background": "light"
     },
     "output_type": "display_data"
    }
   ],
   "source": [
    "statistical_analysis(df_used['WEIGHT'], q = [0.02, .25, .5, .75, .8, .9, .91, .92, .93, .94, .95, .96, .97, .98, .99, .997, .999, .9995, 1])"
   ]
  },
  {
   "cell_type": "code",
   "execution_count": 29,
   "id": "0f2d70f9",
   "metadata": {},
   "outputs": [],
   "source": [
    "df_used = df_used[df_used['WEIGHT']<150]"
   ]
  },
  {
   "cell_type": "code",
   "execution_count": 30,
   "id": "1dd663d6",
   "metadata": {},
   "outputs": [
    {
     "name": "stdout",
     "output_type": "stream",
     "text": [
      "Среднее равно 89.65727902946274\n",
      "Дисперсия равна 1298.1408050757595\n",
      "Стандартное отклонение равно 36.0297211351373\n",
      "    уровень квантиля  quantile     ratio\n",
      "0             0.0200      17.0  0.000000\n",
      "1             0.2500      62.0  3.647059\n",
      "2             0.5000      90.0  1.451613\n",
      "3             0.7500     120.0  1.333333\n",
      "4             0.8000     126.0  1.050000\n",
      "5             0.9000     138.0  1.095238\n",
      "6             0.9100     139.0  1.007246\n",
      "7             0.9200     140.0  1.007194\n",
      "8             0.9300     141.0  1.007143\n",
      "9             0.9400     143.0  1.014184\n",
      "10            0.9500     144.0  1.006993\n",
      "11            0.9600     145.0  1.006944\n",
      "12            0.9700     146.0  1.006897\n",
      "13            0.9800     147.0  1.006849\n",
      "14            0.9900     148.0  1.006803\n",
      "15            0.9970     149.0  1.006757\n",
      "16            0.9990     149.0  1.000000\n",
      "17            0.9995     149.0  1.000000\n",
      "18            1.0000     149.0  1.000000\n",
      "Межквартильный размах:  58.0\n"
     ]
    },
    {
     "data": {
      "image/png": "[encoded data removed]",
      "text/plain": [
       "<Figure size 432x288 with 1 Axes>"
      ]
     },
     "metadata": {
      "needs_background": "light"
     },
     "output_type": "display_data"
    }
   ],
   "source": [
    "statistical_analysis(df_used['WEIGHT'], q = [0.02, .25, .5, .75, .8, .9, .91, .92, .93, .94, .95, .96, .97, .98, .99, .997, .999, .9995, 1])"
   ]
  },
  {
   "cell_type": "code",
   "execution_count": 31,
   "id": "03894ef9",
   "metadata": {},
   "outputs": [
    {
     "data": {
      "text/plain": [
       "12.0"
      ]
     },
     "execution_count": 31,
     "metadata": {},
     "output_type": "execute_result"
    }
   ],
   "source": [
    "df_used['WEIGHT'].min()"
   ]
  },
  {
   "cell_type": "code",
   "execution_count": 32,
   "id": "e21fa5e0",
   "metadata": {},
   "outputs": [
    {
     "data": {
      "text/plain": [
       "<AxesSubplot:xlabel='GENDER', ylabel='Count'>"
      ]
     },
     "execution_count": 32,
     "metadata": {},
     "output_type": "execute_result"
    },
    {
     "data": {
      "image/png": "[encoded data removed]",
      "text/plain": [
       "<Figure size 432x288 with 1 Axes>"
      ]
     },
     "metadata": {
      "needs_background": "light"
     },
     "output_type": "display_data"
    }
   ],
   "source": [
    "sns.histplot(df_used['GENDER'])"
   ]
  },
  {
   "cell_type": "code",
   "execution_count": 33,
   "id": "d73f1193",
   "metadata": {},
   "outputs": [
    {
     "data": {
      "text/plain": [
       "<AxesSubplot:xlabel='IS_CAUCAS', ylabel='Count'>"
      ]
     },
     "execution_count": 33,
     "metadata": {},
     "output_type": "execute_result"
    },
    {
     "data": {
      "image/png": "[encoded data removed]",
      "text/plain": [
       "<Figure size 432x288 with 1 Axes>"
      ]
     },
     "metadata": {
      "needs_background": "light"
     },
     "output_type": "display_data"
    }
   ],
   "source": [
    "sns.histplot(df_used['IS_CAUCAS'])"
   ]
  },
  {
   "cell_type": "code",
   "execution_count": 34,
   "id": "db1ab04d",
   "metadata": {},
   "outputs": [
    {
     "data": {
      "text/plain": [
       "<AxesSubplot:xlabel='HAS_APPENDIX', ylabel='Count'>"
      ]
     },
     "execution_count": 34,
     "metadata": {},
     "output_type": "execute_result"
    },
    {
     "data": {
      "image/png": "[encoded data removed]",
      "text/plain": [
       "<Figure size 432x288 with 1 Axes>"
      ]
     },
     "metadata": {
      "needs_background": "light"
     },
     "output_type": "display_data"
    }
   ],
   "source": [
    "sns.histplot(df_used['HAS_APPENDIX'])"
   ]
  },
  {
   "cell_type": "code",
   "execution_count": 35,
   "id": "dd6bb41c",
   "metadata": {},
   "outputs": [
    {
     "data": {
      "text/plain": [
       "<AxesSubplot:xlabel='HAS_ALLERGY', ylabel='Count'>"
      ]
     },
     "execution_count": 35,
     "metadata": {},
     "output_type": "execute_result"
    },
    {
     "data": {
      "image/png": "[encoded data removed]",
      "text/plain": [
       "<Figure size 432x288 with 1 Axes>"
      ]
     },
     "metadata": {
      "needs_background": "light"
     },
     "output_type": "display_data"
    }
   ],
   "source": [
    "sns.histplot(df_used['HAS_ALLERGY'])"
   ]
  },
  {
   "cell_type": "code",
   "execution_count": 37,
   "id": "c868aef1",
   "metadata": {},
   "outputs": [],
   "source": [
    "df_used.HAS_ALLERGY=df_used.HAS_ALLERGY.map({'NO':0, 'YES':1})"
   ]
  },
  {
   "cell_type": "code",
   "execution_count": 38,
   "id": "187fcba9",
   "metadata": {},
   "outputs": [
    {
     "data": {
      "text/html": [
       "<div>\n",
       "<style scoped>\n",
       "    .dataframe tbody tr th:only-of-type {\n",
       "        vertical-align: middle;\n",
       "    }\n",
       "\n",
       "    .dataframe tbody tr th {\n",
       "        vertical-align: top;\n",
       "    }\n",
       "\n",
       "    .dataframe thead th {\n",
       "        text-align: right;\n",
       "    }\n",
       "</style>\n",
       "<table border=\"1\" class=\"dataframe\">\n",
       "  <thead>\n",
       "    <tr style=\"text-align: right;\">\n",
       "      <th></th>\n",
       "      <th>ID_SIMPERS</th>\n",
       "      <th>FLAG_MUT</th>\n",
       "      <th>AGE</th>\n",
       "      <th>DOSE</th>\n",
       "      <th>HEIGHT</th>\n",
       "      <th>WEIGHT</th>\n",
       "      <th>GENDER</th>\n",
       "      <th>IS_CAUCAS</th>\n",
       "      <th>HAS_APPENDIX</th>\n",
       "      <th>HAS_ALLERGY</th>\n",
       "    </tr>\n",
       "  </thead>\n",
       "  <tbody>\n",
       "    <tr>\n",
       "      <th>0</th>\n",
       "      <td>10002748</td>\n",
       "      <td>1.0</td>\n",
       "      <td>17.0</td>\n",
       "      <td>19.0</td>\n",
       "      <td>164.0</td>\n",
       "      <td>120.0</td>\n",
       "      <td>M</td>\n",
       "      <td>NO</td>\n",
       "      <td>NO</td>\n",
       "      <td>0</td>\n",
       "    </tr>\n",
       "    <tr>\n",
       "      <th>1</th>\n",
       "      <td>10003438</td>\n",
       "      <td>0.0</td>\n",
       "      <td>62.0</td>\n",
       "      <td>17.0</td>\n",
       "      <td>169.0</td>\n",
       "      <td>137.0</td>\n",
       "      <td>M</td>\n",
       "      <td>YES</td>\n",
       "      <td>YES</td>\n",
       "      <td>0</td>\n",
       "    </tr>\n",
       "    <tr>\n",
       "      <th>2</th>\n",
       "      <td>10004371</td>\n",
       "      <td>1.0</td>\n",
       "      <td>5.0</td>\n",
       "      <td>24.0</td>\n",
       "      <td>100.0</td>\n",
       "      <td>21.0</td>\n",
       "      <td>M</td>\n",
       "      <td>YES</td>\n",
       "      <td>NO</td>\n",
       "      <td>0</td>\n",
       "    </tr>\n",
       "    <tr>\n",
       "      <th>3</th>\n",
       "      <td>10002836</td>\n",
       "      <td>1.0</td>\n",
       "      <td>13.0</td>\n",
       "      <td>29.0</td>\n",
       "      <td>154.0</td>\n",
       "      <td>48.0</td>\n",
       "      <td>F</td>\n",
       "      <td>NO</td>\n",
       "      <td>NO</td>\n",
       "      <td>0</td>\n",
       "    </tr>\n",
       "    <tr>\n",
       "      <th>4</th>\n",
       "      <td>10000347</td>\n",
       "      <td>0.0</td>\n",
       "      <td>35.0</td>\n",
       "      <td>28.0</td>\n",
       "      <td>198.0</td>\n",
       "      <td>121.0</td>\n",
       "      <td>M</td>\n",
       "      <td>YES</td>\n",
       "      <td>YES</td>\n",
       "      <td>1</td>\n",
       "    </tr>\n",
       "    <tr>\n",
       "      <th>...</th>\n",
       "      <td>...</td>\n",
       "      <td>...</td>\n",
       "      <td>...</td>\n",
       "      <td>...</td>\n",
       "      <td>...</td>\n",
       "      <td>...</td>\n",
       "      <td>...</td>\n",
       "      <td>...</td>\n",
       "      <td>...</td>\n",
       "      <td>...</td>\n",
       "    </tr>\n",
       "    <tr>\n",
       "      <th>4882</th>\n",
       "      <td>10004629</td>\n",
       "      <td>0.0</td>\n",
       "      <td>52.0</td>\n",
       "      <td>39.0</td>\n",
       "      <td>165.0</td>\n",
       "      <td>90.0</td>\n",
       "      <td>M</td>\n",
       "      <td>YES</td>\n",
       "      <td>YES</td>\n",
       "      <td>0</td>\n",
       "    </tr>\n",
       "    <tr>\n",
       "      <th>4883</th>\n",
       "      <td>10002019</td>\n",
       "      <td>0.0</td>\n",
       "      <td>20.0</td>\n",
       "      <td>24.0</td>\n",
       "      <td>166.0</td>\n",
       "      <td>115.0</td>\n",
       "      <td>M</td>\n",
       "      <td>NO</td>\n",
       "      <td>YES</td>\n",
       "      <td>0</td>\n",
       "    </tr>\n",
       "    <tr>\n",
       "      <th>4884</th>\n",
       "      <td>10001901</td>\n",
       "      <td>0.0</td>\n",
       "      <td>44.0</td>\n",
       "      <td>20.0</td>\n",
       "      <td>205.0</td>\n",
       "      <td>121.0</td>\n",
       "      <td>F</td>\n",
       "      <td>NO</td>\n",
       "      <td>NO</td>\n",
       "      <td>0</td>\n",
       "    </tr>\n",
       "    <tr>\n",
       "      <th>4885</th>\n",
       "      <td>10000011</td>\n",
       "      <td>0.0</td>\n",
       "      <td>28.0</td>\n",
       "      <td>5.0</td>\n",
       "      <td>171.0</td>\n",
       "      <td>87.0</td>\n",
       "      <td>F</td>\n",
       "      <td>YES</td>\n",
       "      <td>YES</td>\n",
       "      <td>1</td>\n",
       "    </tr>\n",
       "    <tr>\n",
       "      <th>4886</th>\n",
       "      <td>10001565</td>\n",
       "      <td>0.0</td>\n",
       "      <td>61.0</td>\n",
       "      <td>6.0</td>\n",
       "      <td>183.0</td>\n",
       "      <td>144.0</td>\n",
       "      <td>M</td>\n",
       "      <td>NO</td>\n",
       "      <td>YES</td>\n",
       "      <td>0</td>\n",
       "    </tr>\n",
       "  </tbody>\n",
       "</table>\n",
       "<p>4616 rows × 10 columns</p>\n",
       "</div>"
      ],
      "text/plain": [
       "      ID_SIMPERS  FLAG_MUT   AGE  DOSE  HEIGHT  WEIGHT GENDER IS_CAUCAS  \\\n",
       "0       10002748       1.0  17.0  19.0   164.0   120.0      M        NO   \n",
       "1       10003438       0.0  62.0  17.0   169.0   137.0      M       YES   \n",
       "2       10004371       1.0   5.0  24.0   100.0    21.0      M       YES   \n",
       "3       10002836       1.0  13.0  29.0   154.0    48.0      F        NO   \n",
       "4       10000347       0.0  35.0  28.0   198.0   121.0      M       YES   \n",
       "...          ...       ...   ...   ...     ...     ...    ...       ...   \n",
       "4882    10004629       0.0  52.0  39.0   165.0    90.0      M       YES   \n",
       "4883    10002019       0.0  20.0  24.0   166.0   115.0      M        NO   \n",
       "4884    10001901       0.0  44.0  20.0   205.0   121.0      F        NO   \n",
       "4885    10000011       0.0  28.0   5.0   171.0    87.0      F       YES   \n",
       "4886    10001565       0.0  61.0   6.0   183.0   144.0      M        NO   \n",
       "\n",
       "     HAS_APPENDIX  HAS_ALLERGY  \n",
       "0              NO            0  \n",
       "1             YES            0  \n",
       "2              NO            0  \n",
       "3              NO            0  \n",
       "4             YES            1  \n",
       "...           ...          ...  \n",
       "4882          YES            0  \n",
       "4883          YES            0  \n",
       "4884           NO            0  \n",
       "4885          YES            1  \n",
       "4886          YES            0  \n",
       "\n",
       "[4616 rows x 10 columns]"
      ]
     },
     "execution_count": 38,
     "metadata": {},
     "output_type": "execute_result"
    }
   ],
   "source": [
    "df_used"
   ]
  },
  {
   "cell_type": "code",
   "execution_count": 39,
   "id": "6b4b12ff",
   "metadata": {},
   "outputs": [],
   "source": [
    "df_used.HAS_APPENDIX=df_used.HAS_APPENDIX.map({'NO':0, 'YES':1})"
   ]
  },
  {
   "cell_type": "code",
   "execution_count": 40,
   "id": "fbd40abc",
   "metadata": {},
   "outputs": [],
   "source": [
    "df_used.IS_CAUCAS=df_used.IS_CAUCAS.map({'NO':0, 'YES':1})"
   ]
  },
  {
   "cell_type": "code",
   "execution_count": 41,
   "id": "b34f722b",
   "metadata": {},
   "outputs": [],
   "source": [
    "df_used.GENDER=df_used.GENDER.map({'M':0, 'F':1})"
   ]
  },
  {
   "cell_type": "code",
   "execution_count": 42,
   "id": "05670804",
   "metadata": {},
   "outputs": [],
   "source": [
    "from sklearn.model_selection import train_test_split\n",
    "from sklearn.metrics import confusion_matrix\n",
    "from sklearn.tree import DecisionTreeClassifier\n",
    "from sklearn.metrics import accuracy_score"
   ]
  },
  {
   "cell_type": "code",
   "execution_count": 63,
   "id": "6184dbc6",
   "metadata": {},
   "outputs": [],
   "source": [
    "X = df_used[['AGE','DOSE','HEIGHT','WEIGHT','GENDER','IS_CAUCAS', 'HAS_APPENDIX', 'HAS_ALLERGY']]\n",
    "y = df_used['FLAG_MUT']"
   ]
  },
  {
   "cell_type": "code",
   "execution_count": 54,
   "id": "22562ddd",
   "metadata": {},
   "outputs": [],
   "source": [
    "X_train, X_test, y_train, y_test = train_test_split(\n",
    "    df_used.drop(['ID_SIMPERS','FLAG_MUT'], axis=1),\n",
    "    df_used.FLAG_MUT,\n",
    "    test_size= 0.3,\n",
    "    random_state=0,\n",
    "    stratify=df_used.FLAG_MUT\n",
    ")"
   ]
  },
  {
   "cell_type": "code",
   "execution_count": 55,
   "id": "380141b6",
   "metadata": {},
   "outputs": [
    {
     "data": {
      "text/plain": [
       "DecisionTreeClassifier()"
      ]
     },
     "execution_count": 55,
     "metadata": {},
     "output_type": "execute_result"
    }
   ],
   "source": [
    "tree = DecisionTreeClassifier()\n",
    "tree.fit(X_train, y_train)"
   ]
  },
  {
   "cell_type": "code",
   "execution_count": 56,
   "id": "4be401ea",
   "metadata": {},
   "outputs": [],
   "source": [
    "y_pred = tree.predict(X_test)"
   ]
  },
  {
   "cell_type": "code",
   "execution_count": 57,
   "id": "456905ef",
   "metadata": {},
   "outputs": [],
   "source": [
    "acc = accuracy_score(y_test,y_pred)"
   ]
  },
  {
   "cell_type": "code",
   "execution_count": 58,
   "id": "2e88b894",
   "metadata": {},
   "outputs": [
    {
     "data": {
      "text/plain": [
       "0.6548736462093863"
      ]
     },
     "execution_count": 58,
     "metadata": {},
     "output_type": "execute_result"
    }
   ],
   "source": [
    "acc"
   ]
  },
  {
   "cell_type": "code",
   "execution_count": 59,
   "id": "2c8777e0",
   "metadata": {},
   "outputs": [
    {
     "data": {
      "text/plain": [
       "array([[583, 267],\n",
       "       [211, 324]], dtype=int64)"
      ]
     },
     "execution_count": 59,
     "metadata": {},
     "output_type": "execute_result"
    }
   ],
   "source": [
    "cm=confusion_matrix(y_test, y_pred)\n",
    "cm"
   ]
  },
  {
   "cell_type": "code",
   "execution_count": 60,
   "id": "4b4f4a5d",
   "metadata": {},
   "outputs": [
    {
     "data": {
      "text/plain": [
       "<AxesSubplot:>"
      ]
     },
     "execution_count": 60,
     "metadata": {},
     "output_type": "execute_result"
    },
    {
     "data": {
      "image/png": "[encoded data removed]",
      "text/plain": [
       "<Figure size 432x288 with 2 Axes>"
      ]
     },
     "metadata": {
      "needs_background": "light"
     },
     "output_type": "display_data"
    }
   ],
   "source": [
    "sns.heatmap(cm,annot=True)"
   ]
  },
  {
   "cell_type": "code",
   "execution_count": 62,
   "id": "7893b0a3",
   "metadata": {
    "scrolled": true
   },
   "outputs": [
    {
     "data": {
      "text/plain": [
       "<BarContainer object of 8 artists>"
      ]
     },
     "execution_count": 62,
     "metadata": {},
     "output_type": "execute_result"
    },
    {
     "data": {
      "image/png": "[encoded data removed]",
      "text/plain": [
       "<Figure size 432x288 with 1 Axes>"
      ]
     },
     "metadata": {
      "needs_background": "light"
     },
     "output_type": "display_data"
    }
   ],
   "source": [
    "plt.barh(X_train.columns, tree.feature_importances_)\n",
    "#показывает силу влияния фичей\n"
   ]
  },
  {
   "cell_type": "code",
   "execution_count": 73,
   "id": "278b6a5c",
   "metadata": {},
   "outputs": [
    {
     "name": "stderr",
     "output_type": "stream",
     "text": [
      "C:\\Users\\zhann\\AppData\\Local\\Temp/ipykernel_13676/1940487407.py:13: FutureWarning: The frame.append method is deprecated and will be removed from pandas in a future version. Use pandas.concat instead.\n",
      "  result = result.append({'test_size':i, 'accuracy':acc}, ignore_index = True)\n",
      "C:\\Users\\zhann\\AppData\\Local\\Temp/ipykernel_13676/1940487407.py:13: FutureWarning: The frame.append method is deprecated and will be removed from pandas in a future version. Use pandas.concat instead.\n",
      "  result = result.append({'test_size':i, 'accuracy':acc}, ignore_index = True)\n",
      "C:\\Users\\zhann\\AppData\\Local\\Temp/ipykernel_13676/1940487407.py:13: FutureWarning: The frame.append method is deprecated and will be removed from pandas in a future version. Use pandas.concat instead.\n",
      "  result = result.append({'test_size':i, 'accuracy':acc}, ignore_index = True)\n",
      "C:\\Users\\zhann\\AppData\\Local\\Temp/ipykernel_13676/1940487407.py:13: FutureWarning: The frame.append method is deprecated and will be removed from pandas in a future version. Use pandas.concat instead.\n",
      "  result = result.append({'test_size':i, 'accuracy':acc}, ignore_index = True)\n",
      "C:\\Users\\zhann\\AppData\\Local\\Temp/ipykernel_13676/1940487407.py:13: FutureWarning: The frame.append method is deprecated and will be removed from pandas in a future version. Use pandas.concat instead.\n",
      "  result = result.append({'test_size':i, 'accuracy':acc}, ignore_index = True)\n",
      "C:\\Users\\zhann\\AppData\\Local\\Temp/ipykernel_13676/1940487407.py:13: FutureWarning: The frame.append method is deprecated and will be removed from pandas in a future version. Use pandas.concat instead.\n",
      "  result = result.append({'test_size':i, 'accuracy':acc}, ignore_index = True)\n",
      "C:\\Users\\zhann\\AppData\\Local\\Temp/ipykernel_13676/1940487407.py:13: FutureWarning: The frame.append method is deprecated and will be removed from pandas in a future version. Use pandas.concat instead.\n",
      "  result = result.append({'test_size':i, 'accuracy':acc}, ignore_index = True)\n",
      "C:\\Users\\zhann\\AppData\\Local\\Temp/ipykernel_13676/1940487407.py:13: FutureWarning: The frame.append method is deprecated and will be removed from pandas in a future version. Use pandas.concat instead.\n",
      "  result = result.append({'test_size':i, 'accuracy':acc}, ignore_index = True)\n",
      "C:\\Users\\zhann\\AppData\\Local\\Temp/ipykernel_13676/1940487407.py:13: FutureWarning: The frame.append method is deprecated and will be removed from pandas in a future version. Use pandas.concat instead.\n",
      "  result = result.append({'test_size':i, 'accuracy':acc}, ignore_index = True)\n",
      "C:\\Users\\zhann\\AppData\\Local\\Temp/ipykernel_13676/1940487407.py:13: FutureWarning: The frame.append method is deprecated and will be removed from pandas in a future version. Use pandas.concat instead.\n",
      "  result = result.append({'test_size':i, 'accuracy':acc}, ignore_index = True)\n",
      "C:\\Users\\zhann\\AppData\\Local\\Temp/ipykernel_13676/1940487407.py:13: FutureWarning: The frame.append method is deprecated and will be removed from pandas in a future version. Use pandas.concat instead.\n",
      "  result = result.append({'test_size':i, 'accuracy':acc}, ignore_index = True)\n",
      "C:\\Users\\zhann\\AppData\\Local\\Temp/ipykernel_13676/1940487407.py:13: FutureWarning: The frame.append method is deprecated and will be removed from pandas in a future version. Use pandas.concat instead.\n",
      "  result = result.append({'test_size':i, 'accuracy':acc}, ignore_index = True)\n",
      "C:\\Users\\zhann\\AppData\\Local\\Temp/ipykernel_13676/1940487407.py:13: FutureWarning: The frame.append method is deprecated and will be removed from pandas in a future version. Use pandas.concat instead.\n",
      "  result = result.append({'test_size':i, 'accuracy':acc}, ignore_index = True)\n",
      "C:\\Users\\zhann\\AppData\\Local\\Temp/ipykernel_13676/1940487407.py:13: FutureWarning: The frame.append method is deprecated and will be removed from pandas in a future version. Use pandas.concat instead.\n",
      "  result = result.append({'test_size':i, 'accuracy':acc}, ignore_index = True)\n",
      "C:\\Users\\zhann\\AppData\\Local\\Temp/ipykernel_13676/1940487407.py:13: FutureWarning: The frame.append method is deprecated and will be removed from pandas in a future version. Use pandas.concat instead.\n",
      "  result = result.append({'test_size':i, 'accuracy':acc}, ignore_index = True)\n",
      "C:\\Users\\zhann\\AppData\\Local\\Temp/ipykernel_13676/1940487407.py:13: FutureWarning: The frame.append method is deprecated and will be removed from pandas in a future version. Use pandas.concat instead.\n",
      "  result = result.append({'test_size':i, 'accuracy':acc}, ignore_index = True)\n",
      "C:\\Users\\zhann\\AppData\\Local\\Temp/ipykernel_13676/1940487407.py:13: FutureWarning: The frame.append method is deprecated and will be removed from pandas in a future version. Use pandas.concat instead.\n",
      "  result = result.append({'test_size':i, 'accuracy':acc}, ignore_index = True)\n",
      "C:\\Users\\zhann\\AppData\\Local\\Temp/ipykernel_13676/1940487407.py:13: FutureWarning: The frame.append method is deprecated and will be removed from pandas in a future version. Use pandas.concat instead.\n",
      "  result = result.append({'test_size':i, 'accuracy':acc}, ignore_index = True)\n",
      "C:\\Users\\zhann\\AppData\\Local\\Temp/ipykernel_13676/1940487407.py:13: FutureWarning: The frame.append method is deprecated and will be removed from pandas in a future version. Use pandas.concat instead.\n",
      "  result = result.append({'test_size':i, 'accuracy':acc}, ignore_index = True)\n",
      "C:\\Users\\zhann\\AppData\\Local\\Temp/ipykernel_13676/1940487407.py:13: FutureWarning: The frame.append method is deprecated and will be removed from pandas in a future version. Use pandas.concat instead.\n",
      "  result = result.append({'test_size':i, 'accuracy':acc}, ignore_index = True)\n",
      "C:\\Users\\zhann\\AppData\\Local\\Temp/ipykernel_13676/1940487407.py:13: FutureWarning: The frame.append method is deprecated and will be removed from pandas in a future version. Use pandas.concat instead.\n",
      "  result = result.append({'test_size':i, 'accuracy':acc}, ignore_index = True)\n",
      "C:\\Users\\zhann\\AppData\\Local\\Temp/ipykernel_13676/1940487407.py:13: FutureWarning: The frame.append method is deprecated and will be removed from pandas in a future version. Use pandas.concat instead.\n",
      "  result = result.append({'test_size':i, 'accuracy':acc}, ignore_index = True)\n",
      "C:\\Users\\zhann\\AppData\\Local\\Temp/ipykernel_13676/1940487407.py:13: FutureWarning: The frame.append method is deprecated and will be removed from pandas in a future version. Use pandas.concat instead.\n",
      "  result = result.append({'test_size':i, 'accuracy':acc}, ignore_index = True)\n",
      "C:\\Users\\zhann\\AppData\\Local\\Temp/ipykernel_13676/1940487407.py:13: FutureWarning: The frame.append method is deprecated and will be removed from pandas in a future version. Use pandas.concat instead.\n",
      "  result = result.append({'test_size':i, 'accuracy':acc}, ignore_index = True)\n",
      "C:\\Users\\zhann\\AppData\\Local\\Temp/ipykernel_13676/1940487407.py:13: FutureWarning: The frame.append method is deprecated and will be removed from pandas in a future version. Use pandas.concat instead.\n",
      "  result = result.append({'test_size':i, 'accuracy':acc}, ignore_index = True)\n",
      "C:\\Users\\zhann\\AppData\\Local\\Temp/ipykernel_13676/1940487407.py:13: FutureWarning: The frame.append method is deprecated and will be removed from pandas in a future version. Use pandas.concat instead.\n",
      "  result = result.append({'test_size':i, 'accuracy':acc}, ignore_index = True)\n",
      "C:\\Users\\zhann\\AppData\\Local\\Temp/ipykernel_13676/1940487407.py:13: FutureWarning: The frame.append method is deprecated and will be removed from pandas in a future version. Use pandas.concat instead.\n",
      "  result = result.append({'test_size':i, 'accuracy':acc}, ignore_index = True)\n",
      "C:\\Users\\zhann\\AppData\\Local\\Temp/ipykernel_13676/1940487407.py:13: FutureWarning: The frame.append method is deprecated and will be removed from pandas in a future version. Use pandas.concat instead.\n",
      "  result = result.append({'test_size':i, 'accuracy':acc}, ignore_index = True)\n",
      "C:\\Users\\zhann\\AppData\\Local\\Temp/ipykernel_13676/1940487407.py:13: FutureWarning: The frame.append method is deprecated and will be removed from pandas in a future version. Use pandas.concat instead.\n",
      "  result = result.append({'test_size':i, 'accuracy':acc}, ignore_index = True)\n",
      "C:\\Users\\zhann\\AppData\\Local\\Temp/ipykernel_13676/1940487407.py:13: FutureWarning: The frame.append method is deprecated and will be removed from pandas in a future version. Use pandas.concat instead.\n",
      "  result = result.append({'test_size':i, 'accuracy':acc}, ignore_index = True)\n",
      "C:\\Users\\zhann\\AppData\\Local\\Temp/ipykernel_13676/1940487407.py:13: FutureWarning: The frame.append method is deprecated and will be removed from pandas in a future version. Use pandas.concat instead.\n",
      "  result = result.append({'test_size':i, 'accuracy':acc}, ignore_index = True)\n",
      "C:\\Users\\zhann\\AppData\\Local\\Temp/ipykernel_13676/1940487407.py:13: FutureWarning: The frame.append method is deprecated and will be removed from pandas in a future version. Use pandas.concat instead.\n",
      "  result = result.append({'test_size':i, 'accuracy':acc}, ignore_index = True)\n",
      "C:\\Users\\zhann\\AppData\\Local\\Temp/ipykernel_13676/1940487407.py:13: FutureWarning: The frame.append method is deprecated and will be removed from pandas in a future version. Use pandas.concat instead.\n",
      "  result = result.append({'test_size':i, 'accuracy':acc}, ignore_index = True)\n",
      "C:\\Users\\zhann\\AppData\\Local\\Temp/ipykernel_13676/1940487407.py:13: FutureWarning: The frame.append method is deprecated and will be removed from pandas in a future version. Use pandas.concat instead.\n",
      "  result = result.append({'test_size':i, 'accuracy':acc}, ignore_index = True)\n"
     ]
    },
    {
     "name": "stderr",
     "output_type": "stream",
     "text": [
      "C:\\Users\\zhann\\AppData\\Local\\Temp/ipykernel_13676/1940487407.py:13: FutureWarning: The frame.append method is deprecated and will be removed from pandas in a future version. Use pandas.concat instead.\n",
      "  result = result.append({'test_size':i, 'accuracy':acc}, ignore_index = True)\n",
      "C:\\Users\\zhann\\AppData\\Local\\Temp/ipykernel_13676/1940487407.py:13: FutureWarning: The frame.append method is deprecated and will be removed from pandas in a future version. Use pandas.concat instead.\n",
      "  result = result.append({'test_size':i, 'accuracy':acc}, ignore_index = True)\n",
      "C:\\Users\\zhann\\AppData\\Local\\Temp/ipykernel_13676/1940487407.py:13: FutureWarning: The frame.append method is deprecated and will be removed from pandas in a future version. Use pandas.concat instead.\n",
      "  result = result.append({'test_size':i, 'accuracy':acc}, ignore_index = True)\n",
      "C:\\Users\\zhann\\AppData\\Local\\Temp/ipykernel_13676/1940487407.py:13: FutureWarning: The frame.append method is deprecated and will be removed from pandas in a future version. Use pandas.concat instead.\n",
      "  result = result.append({'test_size':i, 'accuracy':acc}, ignore_index = True)\n",
      "C:\\Users\\zhann\\AppData\\Local\\Temp/ipykernel_13676/1940487407.py:13: FutureWarning: The frame.append method is deprecated and will be removed from pandas in a future version. Use pandas.concat instead.\n",
      "  result = result.append({'test_size':i, 'accuracy':acc}, ignore_index = True)\n",
      "C:\\Users\\zhann\\AppData\\Local\\Temp/ipykernel_13676/1940487407.py:13: FutureWarning: The frame.append method is deprecated and will be removed from pandas in a future version. Use pandas.concat instead.\n",
      "  result = result.append({'test_size':i, 'accuracy':acc}, ignore_index = True)\n",
      "C:\\Users\\zhann\\AppData\\Local\\Temp/ipykernel_13676/1940487407.py:13: FutureWarning: The frame.append method is deprecated and will be removed from pandas in a future version. Use pandas.concat instead.\n",
      "  result = result.append({'test_size':i, 'accuracy':acc}, ignore_index = True)\n",
      "C:\\Users\\zhann\\AppData\\Local\\Temp/ipykernel_13676/1940487407.py:13: FutureWarning: The frame.append method is deprecated and will be removed from pandas in a future version. Use pandas.concat instead.\n",
      "  result = result.append({'test_size':i, 'accuracy':acc}, ignore_index = True)\n",
      "C:\\Users\\zhann\\AppData\\Local\\Temp/ipykernel_13676/1940487407.py:13: FutureWarning: The frame.append method is deprecated and will be removed from pandas in a future version. Use pandas.concat instead.\n",
      "  result = result.append({'test_size':i, 'accuracy':acc}, ignore_index = True)\n",
      "C:\\Users\\zhann\\AppData\\Local\\Temp/ipykernel_13676/1940487407.py:13: FutureWarning: The frame.append method is deprecated and will be removed from pandas in a future version. Use pandas.concat instead.\n",
      "  result = result.append({'test_size':i, 'accuracy':acc}, ignore_index = True)\n",
      "C:\\Users\\zhann\\AppData\\Local\\Temp/ipykernel_13676/1940487407.py:13: FutureWarning: The frame.append method is deprecated and will be removed from pandas in a future version. Use pandas.concat instead.\n",
      "  result = result.append({'test_size':i, 'accuracy':acc}, ignore_index = True)\n",
      "C:\\Users\\zhann\\AppData\\Local\\Temp/ipykernel_13676/1940487407.py:13: FutureWarning: The frame.append method is deprecated and will be removed from pandas in a future version. Use pandas.concat instead.\n",
      "  result = result.append({'test_size':i, 'accuracy':acc}, ignore_index = True)\n",
      "C:\\Users\\zhann\\AppData\\Local\\Temp/ipykernel_13676/1940487407.py:13: FutureWarning: The frame.append method is deprecated and will be removed from pandas in a future version. Use pandas.concat instead.\n",
      "  result = result.append({'test_size':i, 'accuracy':acc}, ignore_index = True)\n",
      "C:\\Users\\zhann\\AppData\\Local\\Temp/ipykernel_13676/1940487407.py:13: FutureWarning: The frame.append method is deprecated and will be removed from pandas in a future version. Use pandas.concat instead.\n",
      "  result = result.append({'test_size':i, 'accuracy':acc}, ignore_index = True)\n",
      "C:\\Users\\zhann\\AppData\\Local\\Temp/ipykernel_13676/1940487407.py:13: FutureWarning: The frame.append method is deprecated and will be removed from pandas in a future version. Use pandas.concat instead.\n",
      "  result = result.append({'test_size':i, 'accuracy':acc}, ignore_index = True)\n"
     ]
    }
   ],
   "source": [
    "result = pd.DataFrame(columns = ['test_size', 'accuracy'])\n",
    "for i in range(1,50):\n",
    "    X_train, X_test, y_train, y_test = train_test_split(\n",
    "    X,\n",
    "    y,\n",
    "    test_size = i/100,\n",
    "    random_state=0,\n",
    "    stratify=y)\n",
    "    tree = DecisionTreeClassifier()\n",
    "    tree.fit(X_train, y_train)\n",
    "    y_pred = tree.predict(X_test)\n",
    "    acc = accuracy_score(y_test,y_pred)\n",
    "    result = result.append({'test_size':i, 'accuracy':acc}, ignore_index = True)\n"
   ]
  },
  {
   "cell_type": "code",
   "execution_count": 74,
   "id": "6e5c4eaa",
   "metadata": {},
   "outputs": [
    {
     "data": {
      "text/html": [
       "<div>\n",
       "<style scoped>\n",
       "    .dataframe tbody tr th:only-of-type {\n",
       "        vertical-align: middle;\n",
       "    }\n",
       "\n",
       "    .dataframe tbody tr th {\n",
       "        vertical-align: top;\n",
       "    }\n",
       "\n",
       "    .dataframe thead th {\n",
       "        text-align: right;\n",
       "    }\n",
       "</style>\n",
       "<table border=\"1\" class=\"dataframe\">\n",
       "  <thead>\n",
       "    <tr style=\"text-align: right;\">\n",
       "      <th></th>\n",
       "      <th>test_size</th>\n",
       "      <th>accuracy</th>\n",
       "    </tr>\n",
       "  </thead>\n",
       "  <tbody>\n",
       "    <tr>\n",
       "      <th>0</th>\n",
       "      <td>1.0</td>\n",
       "      <td>0.680851</td>\n",
       "    </tr>\n",
       "    <tr>\n",
       "      <th>1</th>\n",
       "      <td>2.0</td>\n",
       "      <td>0.580645</td>\n",
       "    </tr>\n",
       "    <tr>\n",
       "      <th>2</th>\n",
       "      <td>3.0</td>\n",
       "      <td>0.582734</td>\n",
       "    </tr>\n",
       "    <tr>\n",
       "      <th>3</th>\n",
       "      <td>4.0</td>\n",
       "      <td>0.643243</td>\n",
       "    </tr>\n",
       "    <tr>\n",
       "      <th>4</th>\n",
       "      <td>5.0</td>\n",
       "      <td>0.675325</td>\n",
       "    </tr>\n",
       "    <tr>\n",
       "      <th>5</th>\n",
       "      <td>6.0</td>\n",
       "      <td>0.685921</td>\n",
       "    </tr>\n",
       "    <tr>\n",
       "      <th>6</th>\n",
       "      <td>7.0</td>\n",
       "      <td>0.654321</td>\n",
       "    </tr>\n",
       "    <tr>\n",
       "      <th>7</th>\n",
       "      <td>8.0</td>\n",
       "      <td>0.643243</td>\n",
       "    </tr>\n",
       "    <tr>\n",
       "      <th>8</th>\n",
       "      <td>9.0</td>\n",
       "      <td>0.651442</td>\n",
       "    </tr>\n",
       "    <tr>\n",
       "      <th>9</th>\n",
       "      <td>10.0</td>\n",
       "      <td>0.649351</td>\n",
       "    </tr>\n",
       "    <tr>\n",
       "      <th>10</th>\n",
       "      <td>11.0</td>\n",
       "      <td>0.667323</td>\n",
       "    </tr>\n",
       "    <tr>\n",
       "      <th>11</th>\n",
       "      <td>12.0</td>\n",
       "      <td>0.66426</td>\n",
       "    </tr>\n",
       "    <tr>\n",
       "      <th>12</th>\n",
       "      <td>13.0</td>\n",
       "      <td>0.690516</td>\n",
       "    </tr>\n",
       "    <tr>\n",
       "      <th>13</th>\n",
       "      <td>14.0</td>\n",
       "      <td>0.659969</td>\n",
       "    </tr>\n",
       "    <tr>\n",
       "      <th>14</th>\n",
       "      <td>15.0</td>\n",
       "      <td>0.646465</td>\n",
       "    </tr>\n",
       "    <tr>\n",
       "      <th>15</th>\n",
       "      <td>16.0</td>\n",
       "      <td>0.671177</td>\n",
       "    </tr>\n",
       "    <tr>\n",
       "      <th>16</th>\n",
       "      <td>17.0</td>\n",
       "      <td>0.661146</td>\n",
       "    </tr>\n",
       "    <tr>\n",
       "      <th>17</th>\n",
       "      <td>18.0</td>\n",
       "      <td>0.645006</td>\n",
       "    </tr>\n",
       "    <tr>\n",
       "      <th>18</th>\n",
       "      <td>19.0</td>\n",
       "      <td>0.675399</td>\n",
       "    </tr>\n",
       "    <tr>\n",
       "      <th>19</th>\n",
       "      <td>20.0</td>\n",
       "      <td>0.662338</td>\n",
       "    </tr>\n",
       "    <tr>\n",
       "      <th>20</th>\n",
       "      <td>21.0</td>\n",
       "      <td>0.687629</td>\n",
       "    </tr>\n",
       "    <tr>\n",
       "      <th>21</th>\n",
       "      <td>22.0</td>\n",
       "      <td>0.644685</td>\n",
       "    </tr>\n",
       "    <tr>\n",
       "      <th>22</th>\n",
       "      <td>23.0</td>\n",
       "      <td>0.678908</td>\n",
       "    </tr>\n",
       "    <tr>\n",
       "      <th>23</th>\n",
       "      <td>24.0</td>\n",
       "      <td>0.643502</td>\n",
       "    </tr>\n",
       "    <tr>\n",
       "      <th>24</th>\n",
       "      <td>25.0</td>\n",
       "      <td>0.643847</td>\n",
       "    </tr>\n",
       "    <tr>\n",
       "      <th>25</th>\n",
       "      <td>26.0</td>\n",
       "      <td>0.631141</td>\n",
       "    </tr>\n",
       "    <tr>\n",
       "      <th>26</th>\n",
       "      <td>27.0</td>\n",
       "      <td>0.651163</td>\n",
       "    </tr>\n",
       "    <tr>\n",
       "      <th>27</th>\n",
       "      <td>28.0</td>\n",
       "      <td>0.645785</td>\n",
       "    </tr>\n",
       "    <tr>\n",
       "      <th>28</th>\n",
       "      <td>29.0</td>\n",
       "      <td>0.639283</td>\n",
       "    </tr>\n",
       "    <tr>\n",
       "      <th>29</th>\n",
       "      <td>30.0</td>\n",
       "      <td>0.639711</td>\n",
       "    </tr>\n",
       "    <tr>\n",
       "      <th>30</th>\n",
       "      <td>31.0</td>\n",
       "      <td>0.654088</td>\n",
       "    </tr>\n",
       "    <tr>\n",
       "      <th>31</th>\n",
       "      <td>32.0</td>\n",
       "      <td>0.656969</td>\n",
       "    </tr>\n",
       "    <tr>\n",
       "      <th>32</th>\n",
       "      <td>33.0</td>\n",
       "      <td>0.652231</td>\n",
       "    </tr>\n",
       "    <tr>\n",
       "      <th>33</th>\n",
       "      <td>34.0</td>\n",
       "      <td>0.635032</td>\n",
       "    </tr>\n",
       "    <tr>\n",
       "      <th>34</th>\n",
       "      <td>35.0</td>\n",
       "      <td>0.654703</td>\n",
       "    </tr>\n",
       "    <tr>\n",
       "      <th>35</th>\n",
       "      <td>36.0</td>\n",
       "      <td>0.645608</td>\n",
       "    </tr>\n",
       "    <tr>\n",
       "      <th>36</th>\n",
       "      <td>37.0</td>\n",
       "      <td>0.65808</td>\n",
       "    </tr>\n",
       "    <tr>\n",
       "      <th>37</th>\n",
       "      <td>38.0</td>\n",
       "      <td>0.659829</td>\n",
       "    </tr>\n",
       "    <tr>\n",
       "      <th>38</th>\n",
       "      <td>39.0</td>\n",
       "      <td>0.651305</td>\n",
       "    </tr>\n",
       "    <tr>\n",
       "      <th>39</th>\n",
       "      <td>40.0</td>\n",
       "      <td>0.655658</td>\n",
       "    </tr>\n",
       "    <tr>\n",
       "      <th>40</th>\n",
       "      <td>41.0</td>\n",
       "      <td>0.631273</td>\n",
       "    </tr>\n",
       "    <tr>\n",
       "      <th>41</th>\n",
       "      <td>42.0</td>\n",
       "      <td>0.656524</td>\n",
       "    </tr>\n",
       "    <tr>\n",
       "      <th>42</th>\n",
       "      <td>43.0</td>\n",
       "      <td>0.647355</td>\n",
       "    </tr>\n",
       "    <tr>\n",
       "      <th>43</th>\n",
       "      <td>44.0</td>\n",
       "      <td>0.644685</td>\n",
       "    </tr>\n",
       "    <tr>\n",
       "      <th>44</th>\n",
       "      <td>45.0</td>\n",
       "      <td>0.653513</td>\n",
       "    </tr>\n",
       "    <tr>\n",
       "      <th>45</th>\n",
       "      <td>46.0</td>\n",
       "      <td>0.633239</td>\n",
       "    </tr>\n",
       "    <tr>\n",
       "      <th>46</th>\n",
       "      <td>47.0</td>\n",
       "      <td>0.636406</td>\n",
       "    </tr>\n",
       "    <tr>\n",
       "      <th>47</th>\n",
       "      <td>48.0</td>\n",
       "      <td>0.643051</td>\n",
       "    </tr>\n",
       "    <tr>\n",
       "      <th>48</th>\n",
       "      <td>49.0</td>\n",
       "      <td>0.647215</td>\n",
       "    </tr>\n",
       "  </tbody>\n",
       "</table>\n",
       "</div>"
      ],
      "text/plain": [
       "   test_size  accuracy\n",
       "0        1.0  0.680851\n",
       "1        2.0  0.580645\n",
       "2        3.0  0.582734\n",
       "3        4.0  0.643243\n",
       "4        5.0  0.675325\n",
       "5        6.0  0.685921\n",
       "6        7.0  0.654321\n",
       "7        8.0  0.643243\n",
       "8        9.0  0.651442\n",
       "9       10.0  0.649351\n",
       "10      11.0  0.667323\n",
       "11      12.0   0.66426\n",
       "12      13.0  0.690516\n",
       "13      14.0  0.659969\n",
       "14      15.0  0.646465\n",
       "15      16.0  0.671177\n",
       "16      17.0  0.661146\n",
       "17      18.0  0.645006\n",
       "18      19.0  0.675399\n",
       "19      20.0  0.662338\n",
       "20      21.0  0.687629\n",
       "21      22.0  0.644685\n",
       "22      23.0  0.678908\n",
       "23      24.0  0.643502\n",
       "24      25.0  0.643847\n",
       "25      26.0  0.631141\n",
       "26      27.0  0.651163\n",
       "27      28.0  0.645785\n",
       "28      29.0  0.639283\n",
       "29      30.0  0.639711\n",
       "30      31.0  0.654088\n",
       "31      32.0  0.656969\n",
       "32      33.0  0.652231\n",
       "33      34.0  0.635032\n",
       "34      35.0  0.654703\n",
       "35      36.0  0.645608\n",
       "36      37.0   0.65808\n",
       "37      38.0  0.659829\n",
       "38      39.0  0.651305\n",
       "39      40.0  0.655658\n",
       "40      41.0  0.631273\n",
       "41      42.0  0.656524\n",
       "42      43.0  0.647355\n",
       "43      44.0  0.644685\n",
       "44      45.0  0.653513\n",
       "45      46.0  0.633239\n",
       "46      47.0  0.636406\n",
       "47      48.0  0.643051\n",
       "48      49.0  0.647215"
      ]
     },
     "execution_count": 74,
     "metadata": {},
     "output_type": "execute_result"
    }
   ],
   "source": [
    "result"
   ]
  },
  {
   "cell_type": "code",
   "execution_count": 75,
   "id": "6df3e1c9",
   "metadata": {
    "scrolled": true
   },
   "outputs": [
    {
     "name": "stderr",
     "output_type": "stream",
     "text": [
      "C:\\Users\\zhann\\anaconda3\\lib\\site-packages\\seaborn\\_decorators.py:36: FutureWarning: Pass the following variables as keyword args: x, y. From version 0.12, the only valid positional argument will be `data`, and passing other arguments without an explicit keyword will result in an error or misinterpretation.\n",
      "  warnings.warn(\n"
     ]
    },
    {
     "data": {
      "text/plain": [
       "<AxesSubplot:xlabel='test_size', ylabel='accuracy'>"
      ]
     },
     "execution_count": 75,
     "metadata": {},
     "output_type": "execute_result"
    },
    {
     "data": {
      "image/png": "[encoded data removed]",
      "text/plain": [
       "<Figure size 432x288 with 1 Axes>"
      ]
     },
     "metadata": {
      "needs_background": "light"
     },
     "output_type": "display_data"
    }
   ],
   "source": [
    "sns.lineplot(result['test_size'], result['accuracy'])"
   ]
  },
  {
   "cell_type": "markdown",
   "id": "5bf42402",
   "metadata": {},
   "source": [
    "Ориентируемся на середину"
   ]
  }
 ],
 "metadata": {
  "kernelspec": {
   "display_name": "Python 3 (ipykernel)",
   "language": "python",
   "name": "python3"
  },
  "language_info": {
   "codemirror_mode": {
    "name": "ipython",
    "version": 3
   },
   "file_extension": ".py",
   "mimetype": "text/x-python",
   "name": "python",
   "nbconvert_exporter": "python",
   "pygments_lexer": "ipython3",
   "version": "3.9.7"
  }
 },
 "nbformat": 4,
 "nbformat_minor": 5
}
